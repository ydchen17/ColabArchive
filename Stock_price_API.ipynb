{
  "nbformat": 4,
  "nbformat_minor": 0,
  "metadata": {
    "colab": {
      "name": "Stock_price_API.ipynb",
      "provenance": [],
      "authorship_tag": "ABX9TyMYw/fNGN5O5+LdKSK9wha2"
    },
    "kernelspec": {
      "display_name": "Python 3",
      "name": "python3"
    },
    "language_info": {
      "name": "python"
    }
  },
  "cells": [
    {
      "cell_type": "markdown",
      "metadata": {
        "id": "wqs0zkwxJ04a"
      },
      "source": [
        "So here I basically follow what Jackie did in class but I just change the string for input a bit, so that it can be better extended to other stocks."
      ]
    },
    {
      "cell_type": "code",
      "metadata": {
        "colab": {
          "base_uri": "https://localhost:8080/",
          "height": 35
        },
        "id": "Kfx85YvRKRLT",
        "outputId": "a9b440ac-44d9-4b00-bc6e-88391856494b"
      },
      "source": [
        "import requests\n",
        "import pandas as pd\n",
        "import matplotlib.pyplot as plt\n",
        "import seaborn as sns\n",
        "\n",
        "# Let's make a standard input as below\n",
        "function = \"TIME_SERIES_DAILY\"\n",
        "symbol=\"300750.SZ\"\n",
        "outputsize=\"full\"\n",
        "apikey=\"T6VX725RGZZJFF8P\"\n",
        "# Then the web link should be as below:\n",
        "fulllink = \"https://www.alphavantage.co/query?function=\"+function+\"&symbol=\"+symbol+\"&outputsize=\"+outputsize+\"&apikey=\"+apikey\n",
        "fulllink"
      ],
      "execution_count": null,
      "outputs": [
        {
          "output_type": "execute_result",
          "data": {
            "application/vnd.google.colaboratory.intrinsic+json": {
              "type": "string"
            },
            "text/plain": [
              "'https://www.alphavantage.co/query?function=TIME_SERIES_DAILY&symbol=300750.SZ&outputsize=full&apikey=T6VX725RGZZJFF8P'"
            ]
          },
          "metadata": {},
          "execution_count": 3
        }
      ]
    },
    {
      "cell_type": "markdown",
      "metadata": {
        "id": "6K7UzlzrS__A"
      },
      "source": [
        "And then as usual, we should test the API and see whether it is working."
      ]
    },
    {
      "cell_type": "code",
      "metadata": {
        "colab": {
          "base_uri": "https://localhost:8080/"
        },
        "id": "UkEAcbPvNeJE",
        "outputId": "c63a4c3b-0ac7-4fa6-d5ff-2d9e39eab73d"
      },
      "source": [
        "# Here we check whether our full link is working as expected.\n",
        "res = requests.get(fulllink)\n",
        "res_json = res.json()\n",
        "res"
      ],
      "execution_count": null,
      "outputs": [
        {
          "output_type": "execute_result",
          "data": {
            "text/plain": [
              "<Response [200]>"
            ]
          },
          "metadata": {},
          "execution_count": 27
        }
      ]
    },
    {
      "cell_type": "markdown",
      "metadata": {
        "id": "YipzKMQRStGA"
      },
      "source": [
        "It turns out OK.\n",
        "\n",
        "Then, I am particularly interested in the daily change of the stock price, which is not provided. Also, this specific stock is of particular attention in China right now, as it is a world leader in renewable energy. So the China market is crazy about this stock in recent months."
      ]
    },
    {
      "cell_type": "code",
      "metadata": {
        "colab": {
          "base_uri": "https://localhost:8080/"
        },
        "id": "B-GsD7QBNsh8",
        "outputId": "53efe03d-1193-4b76-dbb4-fe0dcd2ba5f2"
      },
      "source": [
        "df = pd.DataFrame.from_dict(res_json['Time Series (Daily)']).T\n",
        "df.index = pd.to_datetime(df.index)\n",
        "df = df.astype('float32')\n",
        "df.info()"
      ],
      "execution_count": null,
      "outputs": [
        {
          "output_type": "stream",
          "name": "stdout",
          "text": [
            "<class 'pandas.core.frame.DataFrame'>\n",
            "DatetimeIndex: 851 entries, 2021-09-14 to 2018-06-11\n",
            "Data columns (total 5 columns):\n",
            " #   Column     Non-Null Count  Dtype  \n",
            "---  ------     --------------  -----  \n",
            " 0   1. open    851 non-null    float32\n",
            " 1   2. high    851 non-null    float32\n",
            " 2   3. low     851 non-null    float32\n",
            " 3   4. close   851 non-null    float32\n",
            " 4   5. volume  851 non-null    float32\n",
            "dtypes: float32(5)\n",
            "memory usage: 23.3 KB\n"
          ]
        }
      ]
    },
    {
      "cell_type": "markdown",
      "metadata": {
        "id": "yyNQudc7UuRd"
      },
      "source": [
        "A good illustration of the particular attention is its price."
      ]
    },
    {
      "cell_type": "code",
      "metadata": {
        "colab": {
          "base_uri": "https://localhost:8080/",
          "height": 282
        },
        "id": "NH_oJlrTU1CZ",
        "outputId": "5f4fa8c9-d5dc-4aff-ac7a-c75874c8ef32"
      },
      "source": [
        "plt.plot(df[\"4. close\"])"
      ],
      "execution_count": null,
      "outputs": [
        {
          "output_type": "execute_result",
          "data": {
            "text/plain": [
              "[<matplotlib.lines.Line2D at 0x7f125f89bd10>]"
            ]
          },
          "metadata": {},
          "execution_count": 29
        },
        {
          "output_type": "display_data",
          "data": {
            "image/png": "[encoded data removed]",
            "text/plain": [
              "<Figure size 432x288 with 1 Axes>"
            ]
          },
          "metadata": {
            "needs_background": "light"
          }
        }
      ]
    },
    {
      "cell_type": "markdown",
      "metadata": {
        "id": "1k-vzQK1WWza"
      },
      "source": [
        "Let's calculate if you buy it from the very first day it was listed, which is also where it had the lowest price, the maximal profit you can make."
      ]
    },
    {
      "cell_type": "code",
      "metadata": {
        "colab": {
          "base_uri": "https://localhost:8080/"
        },
        "id": "i7nCJsrZWSW7",
        "outputId": "1a7ebd1a-e60f-403b-8d9c-e79dbafd5cc1"
      },
      "source": [
        "df[\"4. close\"].describe()"
      ],
      "execution_count": null,
      "outputs": [
        {
          "output_type": "execute_result",
          "data": {
            "text/plain": [
              "count    851.000000\n",
              "mean     182.779114\n",
              "std      140.738815\n",
              "min       36.200001\n",
              "25%       75.285000\n",
              "50%      117.349998\n",
              "75%      252.540001\n",
              "max      569.000000\n",
              "Name: 4. close, dtype: float64"
            ]
          },
          "metadata": {},
          "execution_count": 30
        }
      ]
    },
    {
      "cell_type": "code",
      "metadata": {
        "colab": {
          "base_uri": "https://localhost:8080/"
        },
        "id": "j34O3f-cWlKX",
        "outputId": "f0f2dd7c-07de-4c91-a333-537e1b96bcae"
      },
      "source": [
        "(569.000000 - 36.200001) / 36.200001"
      ],
      "execution_count": null,
      "outputs": [
        {
          "data": {
            "text/plain": [
              "14.7182316099936"
            ]
          },
          "execution_count": 11,
          "metadata": {},
          "output_type": "execute_result"
        }
      ]
    },
    {
      "cell_type": "markdown",
      "metadata": {
        "id": "cMwVpZIVWwUA"
      },
      "source": [
        "So basically, you will get more than 14 times of the money you invest in it. This is remarkable in a short period like only 849 trading day."
      ]
    },
    {
      "cell_type": "code",
      "metadata": {
        "colab": {
          "base_uri": "https://localhost:8080/",
          "height": 419
        },
        "id": "zwsHgl3_Q7Bp",
        "outputId": "991d065a-aea5-4325-d551-dfa189634ca6"
      },
      "source": [
        "df[\"6. daily change\"] = df[\"4. close\"] - df[\"1. open\"]\n",
        "df[\"7. daily change rate\"] = df[\"6. daily change\"] / df[\"1. open\"]\n",
        "df"
      ],
      "execution_count": null,
      "outputs": [
        {
          "output_type": "execute_result",
          "data": {
            "text/html": [
              "<div>\n",
              "<style scoped>\n",
              "    .dataframe tbody tr th:only-of-type {\n",
              "        vertical-align: middle;\n",
              "    }\n",
              "\n",
              "    .dataframe tbody tr th {\n",
              "        vertical-align: top;\n",
              "    }\n",
              "\n",
              "    .dataframe thead th {\n",
              "        text-align: right;\n",
              "    }\n",
              "</style>\n",
              "<table border=\"1\" class=\"dataframe\">\n",
              "  <thead>\n",
              "    <tr style=\"text-align: right;\">\n",
              "      <th></th>\n",
              "      <th>1. open</th>\n",
              "      <th>2. high</th>\n",
              "      <th>3. low</th>\n",
              "      <th>4. close</th>\n",
              "      <th>5. volume</th>\n",
              "      <th>6. daily change</th>\n",
              "      <th>7. daily change rate</th>\n",
              "    </tr>\n",
              "  </thead>\n",
              "  <tbody>\n",
              "    <tr>\n",
              "      <th>2021-09-14</th>\n",
              "      <td>507.119995</td>\n",
              "      <td>541.000000</td>\n",
              "      <td>502.920013</td>\n",
              "      <td>529.900024</td>\n",
              "      <td>23383660.0</td>\n",
              "      <td>22.780029</td>\n",
              "      <td>0.044920</td>\n",
              "    </tr>\n",
              "    <tr>\n",
              "      <th>2021-09-13</th>\n",
              "      <td>502.100006</td>\n",
              "      <td>512.099976</td>\n",
              "      <td>496.000000</td>\n",
              "      <td>502.799988</td>\n",
              "      <td>8968970.0</td>\n",
              "      <td>0.699982</td>\n",
              "      <td>0.001394</td>\n",
              "    </tr>\n",
              "    <tr>\n",
              "      <th>2021-09-10</th>\n",
              "      <td>493.440002</td>\n",
              "      <td>503.779999</td>\n",
              "      <td>490.679993</td>\n",
              "      <td>502.100006</td>\n",
              "      <td>11296940.0</td>\n",
              "      <td>8.660004</td>\n",
              "      <td>0.017550</td>\n",
              "    </tr>\n",
              "    <tr>\n",
              "      <th>2021-09-09</th>\n",
              "      <td>509.500000</td>\n",
              "      <td>518.979980</td>\n",
              "      <td>490.799988</td>\n",
              "      <td>507.200012</td>\n",
              "      <td>11016210.0</td>\n",
              "      <td>-2.299988</td>\n",
              "      <td>-0.004514</td>\n",
              "    </tr>\n",
              "    <tr>\n",
              "      <th>2021-09-08</th>\n",
              "      <td>519.000000</td>\n",
              "      <td>523.580017</td>\n",
              "      <td>500.000000</td>\n",
              "      <td>503.000000</td>\n",
              "      <td>9739400.0</td>\n",
              "      <td>-16.000000</td>\n",
              "      <td>-0.030829</td>\n",
              "    </tr>\n",
              "    <tr>\n",
              "      <th>...</th>\n",
              "      <td>...</td>\n",
              "      <td>...</td>\n",
              "      <td>...</td>\n",
              "      <td>...</td>\n",
              "      <td>...</td>\n",
              "      <td>...</td>\n",
              "      <td>...</td>\n",
              "    </tr>\n",
              "    <tr>\n",
              "      <th>2018-06-15</th>\n",
              "      <td>53.000000</td>\n",
              "      <td>53.000000</td>\n",
              "      <td>53.000000</td>\n",
              "      <td>53.000000</td>\n",
              "      <td>256510.0</td>\n",
              "      <td>0.000000</td>\n",
              "      <td>0.000000</td>\n",
              "    </tr>\n",
              "    <tr>\n",
              "      <th>2018-06-14</th>\n",
              "      <td>48.180000</td>\n",
              "      <td>48.180000</td>\n",
              "      <td>48.180000</td>\n",
              "      <td>48.180000</td>\n",
              "      <td>74270.0</td>\n",
              "      <td>0.000000</td>\n",
              "      <td>0.000000</td>\n",
              "    </tr>\n",
              "    <tr>\n",
              "      <th>2018-06-13</th>\n",
              "      <td>43.799999</td>\n",
              "      <td>43.799999</td>\n",
              "      <td>43.799999</td>\n",
              "      <td>43.799999</td>\n",
              "      <td>45030.0</td>\n",
              "      <td>0.000000</td>\n",
              "      <td>0.000000</td>\n",
              "    </tr>\n",
              "    <tr>\n",
              "      <th>2018-06-12</th>\n",
              "      <td>39.820000</td>\n",
              "      <td>39.820000</td>\n",
              "      <td>39.820000</td>\n",
              "      <td>39.820000</td>\n",
              "      <td>26580.0</td>\n",
              "      <td>0.000000</td>\n",
              "      <td>0.000000</td>\n",
              "    </tr>\n",
              "    <tr>\n",
              "      <th>2018-06-11</th>\n",
              "      <td>30.170000</td>\n",
              "      <td>36.200001</td>\n",
              "      <td>30.170000</td>\n",
              "      <td>36.200001</td>\n",
              "      <td>78830.0</td>\n",
              "      <td>6.030001</td>\n",
              "      <td>0.199867</td>\n",
              "    </tr>\n",
              "  </tbody>\n",
              "</table>\n",
              "<p>851 rows × 7 columns</p>\n",
              "</div>"
            ],
            "text/plain": [
              "               1. open     2. high  ...  6. daily change  7. daily change rate\n",
              "2021-09-14  507.119995  541.000000  ...        22.780029              0.044920\n",
              "2021-09-13  502.100006  512.099976  ...         0.699982              0.001394\n",
              "2021-09-10  493.440002  503.779999  ...         8.660004              0.017550\n",
              "2021-09-09  509.500000  518.979980  ...        -2.299988             -0.004514\n",
              "2021-09-08  519.000000  523.580017  ...       -16.000000             -0.030829\n",
              "...                ...         ...  ...              ...                   ...\n",
              "2018-06-15   53.000000   53.000000  ...         0.000000              0.000000\n",
              "2018-06-14   48.180000   48.180000  ...         0.000000              0.000000\n",
              "2018-06-13   43.799999   43.799999  ...         0.000000              0.000000\n",
              "2018-06-12   39.820000   39.820000  ...         0.000000              0.000000\n",
              "2018-06-11   30.170000   36.200001  ...         6.030001              0.199867\n",
              "\n",
              "[851 rows x 7 columns]"
            ]
          },
          "metadata": {},
          "execution_count": 31
        }
      ]
    },
    {
      "cell_type": "markdown",
      "metadata": {
        "id": "cgRAufQpSjIW"
      },
      "source": [
        "So basically, we get data from 2018 when the stock was first listed until the last trading day. After our computation of the daily change, we can have a look at what it is like."
      ]
    },
    {
      "cell_type": "code",
      "metadata": {
        "colab": {
          "base_uri": "https://localhost:8080/"
        },
        "id": "gdNxTR31SA3I",
        "outputId": "b6eaea27-2cc6-4f8f-e405-0a00021e2083"
      },
      "source": [
        "df[\"7. daily change rate\"].describe()"
      ],
      "execution_count": null,
      "outputs": [
        {
          "output_type": "execute_result",
          "data": {
            "text/plain": [
              "count    851.000000\n",
              "mean       0.001818\n",
              "std        0.028852\n",
              "min       -0.092418\n",
              "25%       -0.014453\n",
              "50%        0.000000\n",
              "75%        0.014036\n",
              "max        0.199867\n",
              "Name: 7. daily change rate, dtype: float64"
            ]
          },
          "metadata": {},
          "execution_count": 32
        }
      ]
    },
    {
      "cell_type": "markdown",
      "metadata": {
        "id": "72xHYeKVTjNI"
      },
      "source": [
        "A thing that is special about the China market is that it limits the daily price change. For high-tech companies, thier stock can at most go up for 20% a day, and for other Chinese companies, the rate is only 10%. Trading will be paused after reaching the limitation, so the actual rate is slightly different. In our case, the maximal price change in a day is 19.9867%, which is consistent with what it should be."
      ]
    },
    {
      "cell_type": "code",
      "metadata": {
        "colab": {
          "base_uri": "https://localhost:8080/",
          "height": 282
        },
        "id": "1UC-TXE-Ug3p",
        "outputId": "62ae263f-5f83-4bb8-bc78-fe4cb23b62cb"
      },
      "source": [
        "plt.plot(df[\"7. daily change rate\"])"
      ],
      "execution_count": null,
      "outputs": [
        {
          "output_type": "execute_result",
          "data": {
            "text/plain": [
              "[<matplotlib.lines.Line2D at 0x7f125f80ef10>]"
            ]
          },
          "metadata": {},
          "execution_count": 33
        },
        {
          "output_type": "display_data",
          "data": {
            "image/png": "[encoded data removed]",
            "text/plain": [
              "<Figure size 432x288 with 1 Axes>"
            ]
          },
          "metadata": {
            "needs_background": "light"
          }
        }
      ]
    },
    {
      "cell_type": "markdown",
      "metadata": {
        "id": "qvmTvBQMVDAi"
      },
      "source": [
        "However, the this plot of daily change rate suggest a quite different world. It seems most changes are still fluctuating around 0%. The mean of the change rate is only slightly above 0, which is 0.18%."
      ]
    },
    {
      "cell_type": "code",
      "metadata": {
        "colab": {
          "base_uri": "https://localhost:8080/",
          "height": 282
        },
        "id": "GarLmoRcUOl4",
        "outputId": "bddcfc05-b883-49d5-93db-9b3be804c08b"
      },
      "source": [
        "df[\"7. daily change rate\"].plot.hist(bins=50)"
      ],
      "execution_count": null,
      "outputs": [
        {
          "output_type": "execute_result",
          "data": {
            "text/plain": [
              "<matplotlib.axes._subplots.AxesSubplot at 0x7f125f6ac310>"
            ]
          },
          "metadata": {},
          "execution_count": 34
        },
        {
          "output_type": "display_data",
          "data": {
            "image/png": "[encoded data removed]",
            "text/plain": [
              "<Figure size 432x288 with 1 Axes>"
            ]
          },
          "metadata": {
            "needs_background": "light"
          }
        }
      ]
    },
    {
      "cell_type": "markdown",
      "metadata": {
        "id": "U3ymEqniXRl0"
      },
      "source": [
        "Then the question is what drives the increase in price of this stock? We can cut it into two part: \n",
        "1. the trading day with decreased prices and \n",
        "2. the trading day with increased prices."
      ]
    },
    {
      "cell_type": "code",
      "metadata": {
        "colab": {
          "base_uri": "https://localhost:8080/",
          "height": 419
        },
        "id": "6y35_Th9XQ5K",
        "outputId": "eabb1315-325d-4804-f7cf-2a33097c225f"
      },
      "source": [
        "df_increase = df[df[\"7. daily change rate\"] > 0]\n",
        "df_increase[\"7. daily change rate\"] = df_increase[\"6. daily change\"] / df_increase[\"1. open\"]\n",
        "df_increase.describe()"
      ],
      "execution_count": null,
      "outputs": [
        {
          "output_type": "stream",
          "name": "stderr",
          "text": [
            "/usr/local/lib/python3.7/dist-packages/ipykernel_launcher.py:2: SettingWithCopyWarning: \n",
            "A value is trying to be set on a copy of a slice from a DataFrame.\n",
            "Try using .loc[row_indexer,col_indexer] = value instead\n",
            "\n",
            "See the caveats in the documentation: https://pandas.pydata.org/pandas-docs/stable/user_guide/indexing.html#returning-a-view-versus-a-copy\n",
            "  \n"
          ]
        },
        {
          "output_type": "execute_result",
          "data": {
            "text/html": [
              "<div>\n",
              "<style scoped>\n",
              "    .dataframe tbody tr th:only-of-type {\n",
              "        vertical-align: middle;\n",
              "    }\n",
              "\n",
              "    .dataframe tbody tr th {\n",
              "        vertical-align: top;\n",
              "    }\n",
              "\n",
              "    .dataframe thead th {\n",
              "        text-align: right;\n",
              "    }\n",
              "</style>\n",
              "<table border=\"1\" class=\"dataframe\">\n",
              "  <thead>\n",
              "    <tr style=\"text-align: right;\">\n",
              "      <th></th>\n",
              "      <th>1. open</th>\n",
              "      <th>2. high</th>\n",
              "      <th>3. low</th>\n",
              "      <th>4. close</th>\n",
              "      <th>5. volume</th>\n",
              "      <th>6. daily change</th>\n",
              "      <th>7. daily change rate</th>\n",
              "    </tr>\n",
              "  </thead>\n",
              "  <tbody>\n",
              "    <tr>\n",
              "      <th>count</th>\n",
              "      <td>393.000000</td>\n",
              "      <td>393.000000</td>\n",
              "      <td>393.000000</td>\n",
              "      <td>393.000000</td>\n",
              "      <td>393.0</td>\n",
              "      <td>393.000000</td>\n",
              "      <td>393.000000</td>\n",
              "    </tr>\n",
              "    <tr>\n",
              "      <th>mean</th>\n",
              "      <td>183.800659</td>\n",
              "      <td>190.630783</td>\n",
              "      <td>181.815262</td>\n",
              "      <td>188.362442</td>\n",
              "      <td>16261891.0</td>\n",
              "      <td>4.561681</td>\n",
              "      <td>0.023847</td>\n",
              "    </tr>\n",
              "    <tr>\n",
              "      <th>std</th>\n",
              "      <td>139.079620</td>\n",
              "      <td>144.694229</td>\n",
              "      <td>137.229233</td>\n",
              "      <td>142.927231</td>\n",
              "      <td>9989288.0</td>\n",
              "      <td>6.162724</td>\n",
              "      <td>0.023617</td>\n",
              "    </tr>\n",
              "    <tr>\n",
              "      <th>min</th>\n",
              "      <td>30.170000</td>\n",
              "      <td>36.200001</td>\n",
              "      <td>30.170000</td>\n",
              "      <td>36.200001</td>\n",
              "      <td>78830.0</td>\n",
              "      <td>0.010002</td>\n",
              "      <td>0.000111</td>\n",
              "    </tr>\n",
              "    <tr>\n",
              "      <th>25%</th>\n",
              "      <td>74.589996</td>\n",
              "      <td>76.949997</td>\n",
              "      <td>74.089996</td>\n",
              "      <td>76.199997</td>\n",
              "      <td>9512620.0</td>\n",
              "      <td>0.860001</td>\n",
              "      <td>0.007759</td>\n",
              "    </tr>\n",
              "    <tr>\n",
              "      <th>50%</th>\n",
              "      <td>119.010002</td>\n",
              "      <td>125.080002</td>\n",
              "      <td>117.860001</td>\n",
              "      <td>123.599998</td>\n",
              "      <td>14125110.0</td>\n",
              "      <td>2.010002</td>\n",
              "      <td>0.015755</td>\n",
              "    </tr>\n",
              "    <tr>\n",
              "      <th>75%</th>\n",
              "      <td>261.000000</td>\n",
              "      <td>267.500000</td>\n",
              "      <td>255.550003</td>\n",
              "      <td>264.820007</td>\n",
              "      <td>19801490.0</td>\n",
              "      <td>6.099991</td>\n",
              "      <td>0.033718</td>\n",
              "    </tr>\n",
              "    <tr>\n",
              "      <th>max</th>\n",
              "      <td>560.000000</td>\n",
              "      <td>579.599976</td>\n",
              "      <td>556.109985</td>\n",
              "      <td>569.000000</td>\n",
              "      <td>69982000.0</td>\n",
              "      <td>46.000000</td>\n",
              "      <td>0.199867</td>\n",
              "    </tr>\n",
              "  </tbody>\n",
              "</table>\n",
              "</div>"
            ],
            "text/plain": [
              "          1. open     2. high  ...  6. daily change  7. daily change rate\n",
              "count  393.000000  393.000000  ...       393.000000            393.000000\n",
              "mean   183.800659  190.630783  ...         4.561681              0.023847\n",
              "std    139.079620  144.694229  ...         6.162724              0.023617\n",
              "min     30.170000   36.200001  ...         0.010002              0.000111\n",
              "25%     74.589996   76.949997  ...         0.860001              0.007759\n",
              "50%    119.010002  125.080002  ...         2.010002              0.015755\n",
              "75%    261.000000  267.500000  ...         6.099991              0.033718\n",
              "max    560.000000  579.599976  ...        46.000000              0.199867\n",
              "\n",
              "[8 rows x 7 columns]"
            ]
          },
          "metadata": {},
          "execution_count": 35
        }
      ]
    },
    {
      "cell_type": "code",
      "metadata": {
        "colab": {
          "base_uri": "https://localhost:8080/",
          "height": 282
        },
        "id": "fZYENoOUZIlS",
        "outputId": "19589daa-f9aa-4da4-e654-8cbde0da4e6c"
      },
      "source": [
        "df_increase[\"7. daily change rate\"].plot.hist(bins=50)"
      ],
      "execution_count": null,
      "outputs": [
        {
          "output_type": "execute_result",
          "data": {
            "text/plain": [
              "<matplotlib.axes._subplots.AxesSubplot at 0x7f125f93b610>"
            ]
          },
          "metadata": {},
          "execution_count": 36
        },
        {
          "output_type": "display_data",
          "data": {
            "image/png": "[encoded data removed]",
            "text/plain": [
              "<Figure size 432x288 with 1 Axes>"
            ]
          },
          "metadata": {
            "needs_background": "light"
          }
        }
      ]
    },
    {
      "cell_type": "code",
      "metadata": {
        "colab": {
          "base_uri": "https://localhost:8080/",
          "height": 419
        },
        "id": "yY_bZenvX7qJ",
        "outputId": "f3e0e89a-49ba-46cf-cc00-996ddef1329d"
      },
      "source": [
        "df_decrease = df[df[\"7. daily change rate\"] <= 0]\n",
        "df_decrease[\"7. daily change rate\"] = df_decrease[\"6. daily change\"] / df_decrease[\"1. open\"]\n",
        "df_decrease.describe()"
      ],
      "execution_count": null,
      "outputs": [
        {
          "output_type": "stream",
          "name": "stderr",
          "text": [
            "/usr/local/lib/python3.7/dist-packages/ipykernel_launcher.py:2: SettingWithCopyWarning: \n",
            "A value is trying to be set on a copy of a slice from a DataFrame.\n",
            "Try using .loc[row_indexer,col_indexer] = value instead\n",
            "\n",
            "See the caveats in the documentation: https://pandas.pydata.org/pandas-docs/stable/user_guide/indexing.html#returning-a-view-versus-a-copy\n",
            "  \n"
          ]
        },
        {
          "output_type": "execute_result",
          "data": {
            "text/html": [
              "<div>\n",
              "<style scoped>\n",
              "    .dataframe tbody tr th:only-of-type {\n",
              "        vertical-align: middle;\n",
              "    }\n",
              "\n",
              "    .dataframe tbody tr th {\n",
              "        vertical-align: top;\n",
              "    }\n",
              "\n",
              "    .dataframe thead th {\n",
              "        text-align: right;\n",
              "    }\n",
              "</style>\n",
              "<table border=\"1\" class=\"dataframe\">\n",
              "  <thead>\n",
              "    <tr style=\"text-align: right;\">\n",
              "      <th></th>\n",
              "      <th>1. open</th>\n",
              "      <th>2. high</th>\n",
              "      <th>3. low</th>\n",
              "      <th>4. close</th>\n",
              "      <th>5. volume</th>\n",
              "      <th>6. daily change</th>\n",
              "      <th>7. daily change rate</th>\n",
              "    </tr>\n",
              "  </thead>\n",
              "  <tbody>\n",
              "    <tr>\n",
              "      <th>count</th>\n",
              "      <td>458.000000</td>\n",
              "      <td>458.000000</td>\n",
              "      <td>458.000000</td>\n",
              "      <td>458.000000</td>\n",
              "      <td>458.0</td>\n",
              "      <td>458.000000</td>\n",
              "      <td>458.000000</td>\n",
              "    </tr>\n",
              "    <tr>\n",
              "      <th>mean</th>\n",
              "      <td>181.502762</td>\n",
              "      <td>183.285431</td>\n",
              "      <td>175.772476</td>\n",
              "      <td>177.987869</td>\n",
              "      <td>13400692.0</td>\n",
              "      <td>-3.514869</td>\n",
              "      <td>-0.017085</td>\n",
              "    </tr>\n",
              "    <tr>\n",
              "      <th>std</th>\n",
              "      <td>142.098175</td>\n",
              "      <td>143.770752</td>\n",
              "      <td>136.547821</td>\n",
              "      <td>138.810837</td>\n",
              "      <td>11288685.0</td>\n",
              "      <td>5.573072</td>\n",
              "      <td>0.017160</td>\n",
              "    </tr>\n",
              "    <tr>\n",
              "      <th>min</th>\n",
              "      <td>39.820000</td>\n",
              "      <td>39.820000</td>\n",
              "      <td>39.820000</td>\n",
              "      <td>39.820000</td>\n",
              "      <td>0.0</td>\n",
              "      <td>-48.020020</td>\n",
              "      <td>-0.092418</td>\n",
              "    </tr>\n",
              "    <tr>\n",
              "      <th>25%</th>\n",
              "      <td>75.292501</td>\n",
              "      <td>76.132502</td>\n",
              "      <td>73.832499</td>\n",
              "      <td>74.284998</td>\n",
              "      <td>6752925.0</td>\n",
              "      <td>-3.647505</td>\n",
              "      <td>-0.024951</td>\n",
              "    </tr>\n",
              "    <tr>\n",
              "      <th>50%</th>\n",
              "      <td>115.299999</td>\n",
              "      <td>117.274998</td>\n",
              "      <td>111.685001</td>\n",
              "      <td>114.865002</td>\n",
              "      <td>12019520.0</td>\n",
              "      <td>-1.529999</td>\n",
              "      <td>-0.012981</td>\n",
              "    </tr>\n",
              "    <tr>\n",
              "      <th>75%</th>\n",
              "      <td>245.855000</td>\n",
              "      <td>246.450005</td>\n",
              "      <td>236.955002</td>\n",
              "      <td>242.600002</td>\n",
              "      <td>17650045.0</td>\n",
              "      <td>-0.400002</td>\n",
              "      <td>-0.003694</td>\n",
              "    </tr>\n",
              "    <tr>\n",
              "      <th>max</th>\n",
              "      <td>567.000000</td>\n",
              "      <td>582.200012</td>\n",
              "      <td>546.530029</td>\n",
              "      <td>557.000000</td>\n",
              "      <td>128170600.0</td>\n",
              "      <td>0.000000</td>\n",
              "      <td>0.000000</td>\n",
              "    </tr>\n",
              "  </tbody>\n",
              "</table>\n",
              "</div>"
            ],
            "text/plain": [
              "          1. open     2. high  ...  6. daily change  7. daily change rate\n",
              "count  458.000000  458.000000  ...       458.000000            458.000000\n",
              "mean   181.502762  183.285431  ...        -3.514869             -0.017085\n",
              "std    142.098175  143.770752  ...         5.573072              0.017160\n",
              "min     39.820000   39.820000  ...       -48.020020             -0.092418\n",
              "25%     75.292501   76.132502  ...        -3.647505             -0.024951\n",
              "50%    115.299999  117.274998  ...        -1.529999             -0.012981\n",
              "75%    245.855000  246.450005  ...        -0.400002             -0.003694\n",
              "max    567.000000  582.200012  ...         0.000000              0.000000\n",
              "\n",
              "[8 rows x 7 columns]"
            ]
          },
          "metadata": {},
          "execution_count": 37
        }
      ]
    },
    {
      "cell_type": "code",
      "metadata": {
        "colab": {
          "base_uri": "https://localhost:8080/",
          "height": 282
        },
        "id": "JQN0fNUvbF4_",
        "outputId": "1a1a5d48-d89a-41ba-ca8e-92aa8f63fe8e"
      },
      "source": [
        "df_decrease[\"7. daily change rate\"].plot.hist(bins=50)"
      ],
      "execution_count": null,
      "outputs": [
        {
          "output_type": "execute_result",
          "data": {
            "text/plain": [
              "<matplotlib.axes._subplots.AxesSubplot at 0x7f125f5e9790>"
            ]
          },
          "metadata": {},
          "execution_count": 38
        },
        {
          "output_type": "display_data",
          "data": {
            "image/png": "[encoded data removed]",
            "text/plain": [
              "<Figure size 432x288 with 1 Axes>"
            ]
          },
          "metadata": {
            "needs_background": "light"
          }
        }
      ]
    },
    {
      "cell_type": "markdown",
      "metadata": {
        "id": "-uYSGvmCbFWR"
      },
      "source": [
        "And here we may realise that there is a total of 391 trading day with price increases but there are 458 trading days showing decreased prices. This is quite interesting. And what makes a difference is actually, when the price goes low, the decrease are mostly close to 0, which is not the case when the price goes up. So I am up to figure whether this happens to other stocks. \n",
        "\n",
        "Here I acquire a list of 50 stocks from the SSE Science and Technology Innovation Board 50 Index according to [Sina Finance](http://vip.stock.finance.sina.com.cn/corp/go.php/vII_NewestComponent/indexid/399673.phtml). These companies are regarded as among most potential companies in the Shenzhen stock market.\n"
      ]
    },
    {
      "cell_type": "code",
      "metadata": {
        "colab": {
          "base_uri": "https://localhost:8080/"
        },
        "id": "dPxU3OS3b36I",
        "outputId": "09d1e269-c1fa-49c5-e1df-1215a92d3aa7"
      },
      "source": [
        "company_list = ['300001.SZ','300037.SZ','300595.SZ','300759.SZ','300896.SZ',\n",
        "        '300773.SZ','300677.SZ','300558.SZ','300296.SZ','300009.SZ',\n",
        "        '300058.SZ','300223.SZ','300661.SZ','300782.SZ','300567.SZ',\n",
        "        '300207.SZ','300748.SZ','300142.SZ','300347.SZ','300760.SZ',\n",
        "        '300601.SZ','300750.SZ','300122.SZ','300015.SZ','300253.SZ',\n",
        "        '300003.SZ','300413.SZ','300316.SZ','300274.SZ','300115.SZ',\n",
        "        '300618.SZ','300146.SZ','300676.SZ','300433.SZ','300408.SZ',\n",
        "        '300450.SZ','300136.SZ','300073.SZ','300496.SZ','300014.SZ',\n",
        "        '300418.SZ','300383.SZ','300033.SZ','300251.SZ','300059.SZ',\n",
        "        '300017.SZ','300088.SZ','300070.SZ','300124.SZ','300315.sz']\n",
        "len(company_list)"
      ],
      "execution_count": null,
      "outputs": [
        {
          "output_type": "execute_result",
          "data": {
            "text/plain": [
              "50"
            ]
          },
          "metadata": {},
          "execution_count": 45
        }
      ]
    },
    {
      "cell_type": "code",
      "metadata": {
        "colab": {
          "base_uri": "https://localhost:8080/",
          "height": 419
        },
        "id": "vdKwktHQ3WF_",
        "outputId": "96113f52-b5a6-4c99-91a7-7d8c0a00ea0f"
      },
      "source": [
        "def time_series_data_cal(stock):\n",
        "  full_link_qc50 = \"https://www.alphavantage.co/query?function=\"+function+\"&symbol=\"+stock+\"&outputsize=\"+outputsize+\"&apikey=\"+apikey\n",
        "  res = requests.get(full_link_qc50)\n",
        "  res_json= res.json()\n",
        "  df = pd.DataFrame.from_dict(res_json['Time Series (Daily)']).T\n",
        "  df.index = pd.to_datetime(df.index)\n",
        "  df = df.astype('float32')\n",
        "  df[\"6. daily change\"] = df[\"4. close\"] - df[\"1. open\"]\n",
        "  df[\"7. daily change rate\"] = df[\"6. daily change\"] / df[\"1. open\"]\n",
        "  return df\n",
        "\n",
        "time_series_data_cal('300001.SZ')"
      ],
      "execution_count": null,
      "outputs": [
        {
          "output_type": "execute_result",
          "data": {
            "text/html": [
              "<div>\n",
              "<style scoped>\n",
              "    .dataframe tbody tr th:only-of-type {\n",
              "        vertical-align: middle;\n",
              "    }\n",
              "\n",
              "    .dataframe tbody tr th {\n",
              "        vertical-align: top;\n",
              "    }\n",
              "\n",
              "    .dataframe thead th {\n",
              "        text-align: right;\n",
              "    }\n",
              "</style>\n",
              "<table border=\"1\" class=\"dataframe\">\n",
              "  <thead>\n",
              "    <tr style=\"text-align: right;\">\n",
              "      <th></th>\n",
              "      <th>1. open</th>\n",
              "      <th>2. high</th>\n",
              "      <th>3. low</th>\n",
              "      <th>4. close</th>\n",
              "      <th>5. volume</th>\n",
              "      <th>6. daily change</th>\n",
              "      <th>7. daily change rate</th>\n",
              "    </tr>\n",
              "  </thead>\n",
              "  <tbody>\n",
              "    <tr>\n",
              "      <th>2021-09-14</th>\n",
              "      <td>29.400000</td>\n",
              "      <td>30.680000</td>\n",
              "      <td>29.219999</td>\n",
              "      <td>29.629999</td>\n",
              "      <td>25518520.0</td>\n",
              "      <td>0.230000</td>\n",
              "      <td>0.007823</td>\n",
              "    </tr>\n",
              "    <tr>\n",
              "      <th>2021-09-13</th>\n",
              "      <td>29.100000</td>\n",
              "      <td>29.879999</td>\n",
              "      <td>28.889999</td>\n",
              "      <td>29.450001</td>\n",
              "      <td>13976350.0</td>\n",
              "      <td>0.350000</td>\n",
              "      <td>0.012028</td>\n",
              "    </tr>\n",
              "    <tr>\n",
              "      <th>2021-09-09</th>\n",
              "      <td>29.830000</td>\n",
              "      <td>30.260000</td>\n",
              "      <td>28.940001</td>\n",
              "      <td>29.330000</td>\n",
              "      <td>19242310.0</td>\n",
              "      <td>-0.500000</td>\n",
              "      <td>-0.016762</td>\n",
              "    </tr>\n",
              "    <tr>\n",
              "      <th>2021-09-08</th>\n",
              "      <td>30.350000</td>\n",
              "      <td>30.760000</td>\n",
              "      <td>29.799999</td>\n",
              "      <td>30.020000</td>\n",
              "      <td>15389320.0</td>\n",
              "      <td>-0.330000</td>\n",
              "      <td>-0.010873</td>\n",
              "    </tr>\n",
              "    <tr>\n",
              "      <th>2021-09-07</th>\n",
              "      <td>30.400000</td>\n",
              "      <td>30.969999</td>\n",
              "      <td>29.559999</td>\n",
              "      <td>30.590000</td>\n",
              "      <td>21794470.0</td>\n",
              "      <td>0.190001</td>\n",
              "      <td>0.006250</td>\n",
              "    </tr>\n",
              "    <tr>\n",
              "      <th>...</th>\n",
              "      <td>...</td>\n",
              "      <td>...</td>\n",
              "      <td>...</td>\n",
              "      <td>...</td>\n",
              "      <td>...</td>\n",
              "      <td>...</td>\n",
              "      <td>...</td>\n",
              "    </tr>\n",
              "    <tr>\n",
              "      <th>2009-11-06</th>\n",
              "      <td>39.630001</td>\n",
              "      <td>40.400002</td>\n",
              "      <td>38.250000</td>\n",
              "      <td>38.910000</td>\n",
              "      <td>3378.0</td>\n",
              "      <td>-0.720001</td>\n",
              "      <td>-0.018168</td>\n",
              "    </tr>\n",
              "    <tr>\n",
              "      <th>2009-11-05</th>\n",
              "      <td>38.029999</td>\n",
              "      <td>40.980000</td>\n",
              "      <td>37.509998</td>\n",
              "      <td>39.599998</td>\n",
              "      <td>5352.0</td>\n",
              "      <td>1.570000</td>\n",
              "      <td>0.041283</td>\n",
              "    </tr>\n",
              "    <tr>\n",
              "      <th>2009-11-04</th>\n",
              "      <td>38.000000</td>\n",
              "      <td>38.900002</td>\n",
              "      <td>37.230000</td>\n",
              "      <td>38.020000</td>\n",
              "      <td>4076.0</td>\n",
              "      <td>0.020000</td>\n",
              "      <td>0.000526</td>\n",
              "    </tr>\n",
              "    <tr>\n",
              "      <th>2009-11-03</th>\n",
              "      <td>38.200001</td>\n",
              "      <td>39.360001</td>\n",
              "      <td>36.150002</td>\n",
              "      <td>36.900002</td>\n",
              "      <td>6599.0</td>\n",
              "      <td>-1.299999</td>\n",
              "      <td>-0.034031</td>\n",
              "    </tr>\n",
              "    <tr>\n",
              "      <th>2009-11-02</th>\n",
              "      <td>39.599998</td>\n",
              "      <td>41.869999</td>\n",
              "      <td>39.599998</td>\n",
              "      <td>39.599998</td>\n",
              "      <td>6571.0</td>\n",
              "      <td>0.000000</td>\n",
              "      <td>0.000000</td>\n",
              "    </tr>\n",
              "  </tbody>\n",
              "</table>\n",
              "<p>3095 rows × 7 columns</p>\n",
              "</div>"
            ],
            "text/plain": [
              "              1. open    2. high  ...  6. daily change  7. daily change rate\n",
              "2021-09-14  29.400000  30.680000  ...         0.230000              0.007823\n",
              "2021-09-13  29.100000  29.879999  ...         0.350000              0.012028\n",
              "2021-09-09  29.830000  30.260000  ...        -0.500000             -0.016762\n",
              "2021-09-08  30.350000  30.760000  ...        -0.330000             -0.010873\n",
              "2021-09-07  30.400000  30.969999  ...         0.190001              0.006250\n",
              "...               ...        ...  ...              ...                   ...\n",
              "2009-11-06  39.630001  40.400002  ...        -0.720001             -0.018168\n",
              "2009-11-05  38.029999  40.980000  ...         1.570000              0.041283\n",
              "2009-11-04  38.000000  38.900002  ...         0.020000              0.000526\n",
              "2009-11-03  38.200001  39.360001  ...        -1.299999             -0.034031\n",
              "2009-11-02  39.599998  41.869999  ...         0.000000              0.000000\n",
              "\n",
              "[3095 rows x 7 columns]"
            ]
          },
          "metadata": {},
          "execution_count": 22
        }
      ]
    },
    {
      "cell_type": "code",
      "metadata": {
        "colab": {
          "base_uri": "https://localhost:8080/"
        },
        "id": "NXREx9w_hjYq",
        "outputId": "faa366b3-7c06-4011-91e2-9cc1196b2f6f"
      },
      "source": [
        "import time\n",
        "price_list = []\n",
        "company_list_unchecked = company_list\n",
        "while len(company_list_unchecked) > 0:\n",
        "  shortlist = company_list_unchecked[0:4]\n",
        "  del company_list_unchecked[0:4]\n",
        "  for comp in shortlist:\n",
        "    try:\n",
        "      price_list.append(time_series_data_cal(comp))\n",
        "    except:\n",
        "      print(comp)\n",
        "  # this is because Alpha Vantage only allows 5 requests per minute\n",
        "  time.sleep(60)\n",
        "  continue"
      ],
      "execution_count": null,
      "outputs": [
        {
          "output_type": "stream",
          "name": "stdout",
          "text": [
            "300759.SZ\n"
          ]
        }
      ]
    },
    {
      "cell_type": "code",
      "metadata": {
        "colab": {
          "base_uri": "https://localhost:8080/"
        },
        "id": "MpLeyKhb3UfW",
        "outputId": "13bb630a-3e9c-4596-f5ad-6358105dcddc"
      },
      "source": [
        "len(company_list_unchecked)"
      ],
      "execution_count": null,
      "outputs": [
        {
          "output_type": "execute_result",
          "data": {
            "text/plain": [
              "0"
            ]
          },
          "metadata": {},
          "execution_count": 42
        }
      ]
    },
    {
      "cell_type": "code",
      "metadata": {
        "colab": {
          "base_uri": "https://localhost:8080/"
        },
        "id": "rIgYUrHNrLJG",
        "outputId": "d5bf1b01-450c-4f78-9d5e-f75d1fbff0c4"
      },
      "source": [
        "len(price_list)"
      ],
      "execution_count": null,
      "outputs": [
        {
          "output_type": "execute_result",
          "data": {
            "text/plain": [
              "49"
            ]
          },
          "metadata": {},
          "execution_count": 43
        }
      ]
    },
    {
      "cell_type": "markdown",
      "metadata": {
        "id": "D0aQP5ZMxTkm"
      },
      "source": [
        "Here there might be some problem with Alpha Vantage's China data. It seems that if there are more than 5 requests, they will tend to reject all that follows. But anyway, we can analyse what we have."
      ]
    },
    {
      "cell_type": "code",
      "metadata": {
        "colab": {
          "base_uri": "https://localhost:8080/"
        },
        "id": "mpAn1nOkutlV",
        "outputId": "7702056f-5425-464e-a9a0-d1e8eef92c1a"
      },
      "source": [
        "change_table = []\n",
        "for num in range(len(price_list)):\n",
        "  stock_code = company_list[num]\n",
        "  price = price_list[num]\n",
        "  total_trading_day = price[\"7. daily change rate\"].count()\n",
        "  increase_count = price[price[\"7. daily change rate\"] > 0][\"7. daily change rate\"].count()\n",
        "  decrease_count = price[price[\"7. daily change rate\"] <= 0][\"7. daily change rate\"].count()\n",
        "  diff = increase_count - decrease_count\n",
        "  zip = [stock_code, total_trading_day, increase_count, decrease_count, diff]\n",
        "  change_table.append(zip)\n",
        "change_table = pd.DataFrame(change_table)\n",
        "change_table.columns = [\"Stock Code\", \"Total Trading Day\", \"Increase Count\", \"Decrease Count\", \"Count Difference\"]\n",
        "change_table[\"Count Difference\"].describe()"
      ],
      "execution_count": null,
      "outputs": [
        {
          "output_type": "execute_result",
          "data": {
            "text/plain": [
              "count     49.000000\n",
              "mean    -185.346939\n",
              "std      139.890813\n",
              "min     -611.000000\n",
              "25%     -264.000000\n",
              "50%     -166.000000\n",
              "75%     -101.000000\n",
              "max       29.000000\n",
              "Name: Count Difference, dtype: float64"
            ]
          },
          "metadata": {},
          "execution_count": 46
        }
      ]
    },
    {
      "cell_type": "markdown",
      "metadata": {
        "id": "uOcZpKoz6pVD"
      },
      "source": [
        "The results above show that most of the companies we investigate \n",
        "has fewer days with increased price. We may also normalise the count difference by getting the proportion to total trading days. Then, we may draw a histogram to see how the distribution looks like."
      ]
    },
    {
      "cell_type": "code",
      "metadata": {
        "colab": {
          "base_uri": "https://localhost:8080/",
          "height": 282
        },
        "id": "qddIYEuR6pr0",
        "outputId": "5377b04f-6dbb-46ea-e9b2-66f6c00045ae"
      },
      "source": [
        "change_table[\"Count Difference Rate\"] = change_table[\"Count Difference\"] /  change_table[\"Total Trading Day\"]\n",
        "change_table[\"Count Difference Rate\"].plot.hist(bins=50)"
      ],
      "execution_count": null,
      "outputs": [
        {
          "output_type": "execute_result",
          "data": {
            "text/plain": [
              "<matplotlib.axes._subplots.AxesSubplot at 0x7f125f6d9a50>"
            ]
          },
          "metadata": {},
          "execution_count": 47
        },
        {
          "output_type": "display_data",
          "data": {
            "image/png": "[encoded data removed]",
            "text/plain": [
              "<Figure size 432x288 with 1 Axes>"
            ]
          },
          "metadata": {
            "needs_background": "light"
          }
        }
      ]
    },
    {
      "cell_type": "markdown",
      "metadata": {
        "id": "yNCD2_qX8b5-"
      },
      "source": [
        "I am also interested in companies who do not follow the pattern, which means their prices are more likely to increase. So I made a bit study of them as below."
      ]
    },
    {
      "cell_type": "code",
      "metadata": {
        "colab": {
          "base_uri": "https://localhost:8080/"
        },
        "id": "4SfyeGmG8oC1",
        "outputId": "0768ef6d-776a-40ba-d2e3-0a5ee02206fa"
      },
      "source": [
        "change_table.head()\n",
        "odd_comps = list(change_table[change_table[\"Count Difference\"] > 0][\"Stock Code\"])\n",
        "odd_comps"
      ],
      "execution_count": null,
      "outputs": [
        {
          "output_type": "execute_result",
          "data": {
            "text/plain": [
              "['300759.SZ', '300661.SZ', '300207.SZ']"
            ]
          },
          "metadata": {},
          "execution_count": 48
        }
      ]
    },
    {
      "cell_type": "markdown",
      "metadata": {
        "id": "fQKN_MlC9Qps"
      },
      "source": [
        "Let's see what are these companies using another API methods."
      ]
    },
    {
      "cell_type": "code",
      "metadata": {
        "colab": {
          "base_uri": "https://localhost:8080/"
        },
        "id": "0ethPjHkA0ld",
        "outputId": "a6d3f8e6-bc81-41db-a445-bcb05beba4d1"
      },
      "source": [
        "# this works on IBM but not working on Chinese companies we investigate\n",
        "url = 'https://www.alphavantage.co/query?function=OVERVIEW&symbol=IBM&apikey='+apikey\n",
        "r = requests.get(url)\n",
        "data = r.json()\n",
        "data"
      ],
      "execution_count": null,
      "outputs": [
        {
          "output_type": "execute_result",
          "data": {
            "text/plain": [
              "{'200DayMovingAverage': '139.5',\n",
              " '50DayMovingAverage': '140.69',\n",
              " '52WeekHigh': '151.1',\n",
              " '52WeekLow': '100.73',\n",
              " 'Address': '1 NEW ORCHARD ROAD, ARMONK, NY, US',\n",
              " 'AnalystTargetPrice': '150',\n",
              " 'AssetType': 'Common Stock',\n",
              " 'Beta': '1.212',\n",
              " 'BookValue': '24.48',\n",
              " 'CIK': '51143',\n",
              " 'Country': 'USA',\n",
              " 'Currency': 'USD',\n",
              " 'Description': 'International Business Machines Corporation (IBM) is an American multinational technology company headquartered in Armonk, New York, with operations in over 170 countries. The company began in 1911, founded in Endicott, New York, as the Computing-Tabulating-Recording Company (CTR) and was renamed International Business Machines in 1924. IBM is incorporated in New York. IBM produces and sells computer hardware, middleware and software, and provides hosting and consulting services in areas ranging from mainframe computers to nanotechnology. IBM is also a major research organization, holding the record for most annual U.S. patents generated by a business (as of 2020) for 28 consecutive years. Inventions by IBM include the automated teller machine (ATM), the floppy disk, the hard disk drive, the magnetic stripe card, the relational database, the SQL programming language, the UPC barcode, and dynamic random-access memory (DRAM). The IBM mainframe, exemplified by the System/360, was the dominant computing platform during the 1960s and 1970s.',\n",
              " 'DilutedEPSTTM': '5.92',\n",
              " 'DividendDate': '2021-09-10',\n",
              " 'DividendPerShare': '6.53',\n",
              " 'DividendYield': '0.0473',\n",
              " 'EBITDA': '15992001000',\n",
              " 'EPS': '5.92',\n",
              " 'EVToEBITDA': '13.01',\n",
              " 'EVToRevenue': '2.361',\n",
              " 'ExDividendDate': '2021-08-09',\n",
              " 'Exchange': 'NYSE',\n",
              " 'FiscalYearEnd': 'December',\n",
              " 'ForwardAnnualDividendRate': '6.56',\n",
              " 'ForwardAnnualDividendYield': '0.0475',\n",
              " 'ForwardPE': '11.35',\n",
              " 'GrossProfitTTM': '35575000000',\n",
              " 'Industry': 'COMPUTER & OFFICE EQUIPMENT',\n",
              " 'LastSplitDate': '1999-05-27',\n",
              " 'LastSplitFactor': '2:1',\n",
              " 'LatestQuarter': '2021-06-30',\n",
              " 'MarketCapitalization': '122051895000',\n",
              " 'Name': 'International Business Machines Corporation',\n",
              " 'OperatingMarginTTM': '0.124',\n",
              " 'PEGRatio': '1.437',\n",
              " 'PERatio': '23.01',\n",
              " 'PayoutRatio': '0.747',\n",
              " 'PercentInsiders': '0.133',\n",
              " 'PercentInstitutions': '57.72',\n",
              " 'PriceToBookRatio': '5.64',\n",
              " 'PriceToSalesRatioTTM': '1.672',\n",
              " 'ProfitMargin': '0.0717',\n",
              " 'QuarterlyEarningsGrowthYOY': '-0.032',\n",
              " 'QuarterlyRevenueGrowthYOY': '0.034',\n",
              " 'ReturnOnAssetsTTM': '0.0385',\n",
              " 'ReturnOnEquityTTM': '0.245',\n",
              " 'RevenuePerShareTTM': '83.3',\n",
              " 'RevenueTTM': '74400997000',\n",
              " 'Sector': 'TECHNOLOGY',\n",
              " 'SharesFloat': '894743000',\n",
              " 'SharesOutstanding': '896320000',\n",
              " 'SharesShort': '25087600',\n",
              " 'SharesShortPriorMonth': '25615000',\n",
              " 'ShortPercentFloat': '0.028',\n",
              " 'ShortPercentOutstanding': '0.03',\n",
              " 'ShortRatio': '7.92',\n",
              " 'Symbol': 'IBM',\n",
              " 'TrailingPE': '23.01'}"
            ]
          },
          "metadata": {},
          "execution_count": 49
        }
      ]
    },
    {
      "cell_type": "code",
      "metadata": {
        "colab": {
          "base_uri": "https://localhost:8080/"
        },
        "id": "c4OuemRF9dWc",
        "outputId": "41f72dbe-6efd-42f6-fd49-a6e09474d34b"
      },
      "source": [
        "for comp in odd_comps:\n",
        "  url = 'https://www.alphavantage.co/query?function=OVERVIEW&symbol='+comp+'&apikey='+apikey\n",
        "  r = requests.get(url)\n",
        "  data = r.json()\n",
        "  print(data)"
      ],
      "execution_count": null,
      "outputs": [
        {
          "output_type": "stream",
          "name": "stdout",
          "text": [
            "{}\n",
            "{}\n",
            "{}\n"
          ]
        }
      ]
    },
    {
      "cell_type": "markdown",
      "metadata": {
        "id": "L-hEQGmJ-LVg"
      },
      "source": [
        "The results are disappointing as the API does not have enough support for Chinese companies listed in China. But luckily, there is not too many companies, so what we will do is to manually check for them.\n",
        "\n",
        "- 300896.SZ: Imeik Technology Dev, which is a a cosmetics company specialised in biomaterials development."
      ]
    },
    {
      "cell_type": "code",
      "metadata": {
        "colab": {
          "base_uri": "https://localhost:8080/",
          "height": 282
        },
        "id": "kGQtRkYr_fD3",
        "outputId": "98c45534-00bf-4031-f920-452f7b921b92"
      },
      "source": [
        "# ['300896.SZ', '300782.SZ', '300748.SZ']\n",
        "data1 = time_series_data_cal('300896.SZ')\n",
        "plt.plot(data1[\"4. close\"])"
      ],
      "execution_count": null,
      "outputs": [
        {
          "output_type": "execute_result",
          "data": {
            "text/plain": [
              "[<matplotlib.lines.Line2D at 0x7f125f23fd10>]"
            ]
          },
          "metadata": {},
          "execution_count": 51
        },
        {
          "output_type": "display_data",
          "data": {
            "image/png": "[encoded data removed]",
            "text/plain": [
              "<Figure size 432x288 with 1 Axes>"
            ]
          },
          "metadata": {
            "needs_background": "light"
          }
        }
      ]
    },
    {
      "cell_type": "markdown",
      "metadata": {
        "id": "UFYn2bpvATOn"
      },
      "source": [
        "- 300782.SZ: Maxscend Technologies, which is chipmaker"
      ]
    },
    {
      "cell_type": "code",
      "metadata": {
        "colab": {
          "base_uri": "https://localhost:8080/",
          "height": 282
        },
        "id": "SWvLE7NHAW0K",
        "outputId": "18bca410-541b-4879-8a3a-d3fc32638b65"
      },
      "source": [
        "# ['300896.SZ', '300782.SZ', '300748.SZ']\n",
        "data1 = time_series_data_cal('300782.SZ')\n",
        "plt.plot(data1[\"4. close\"])"
      ],
      "execution_count": null,
      "outputs": [
        {
          "output_type": "execute_result",
          "data": {
            "text/plain": [
              "[<matplotlib.lines.Line2D at 0x7f125f339750>]"
            ]
          },
          "metadata": {},
          "execution_count": 56
        },
        {
          "output_type": "display_data",
          "data": {
            "image/png": "[encoded data removed]",
            "text/plain": [
              "<Figure size 432x288 with 1 Axes>"
            ]
          },
          "metadata": {
            "needs_background": "light"
          }
        }
      ]
    },
    {
      "cell_type": "markdown",
      "metadata": {
        "id": "MB9kzeuIAUsu"
      },
      "source": [
        "- 300748.SZ: JL Mag Rare-Earth Co, which is a manufacturer using rare-earth as raw materials"
      ]
    },
    {
      "cell_type": "code",
      "metadata": {
        "colab": {
          "base_uri": "https://localhost:8080/",
          "height": 282
        },
        "id": "HWswCnnwAb3r",
        "outputId": "9e190228-1906-49dc-d407-d1e2008677d8"
      },
      "source": [
        "# ['300896.SZ', '300782.SZ', '300748.SZ']\n",
        "data1 = time_series_data_cal('300748.SZ')\n",
        "plt.plot(data1[\"4. close\"])"
      ],
      "execution_count": null,
      "outputs": [
        {
          "output_type": "execute_result",
          "data": {
            "text/plain": [
              "[<matplotlib.lines.Line2D at 0x7f125f241a50>]"
            ]
          },
          "metadata": {},
          "execution_count": 55
        },
        {
          "output_type": "display_data",
          "data": {
            "image/png": "[encoded data removed]",
            "text/plain": [
              "<Figure size 432x288 with 1 Axes>"
            ]
          },
          "metadata": {
            "needs_background": "light"
          }
        }
      ]
    },
    {
      "cell_type": "markdown",
      "metadata": {
        "id": "pejVeaMFAmEa"
      },
      "source": [
        "Interestingly, all these stocks have halved the peak price in the recent years."
      ]
    },
    {
      "cell_type": "markdown",
      "metadata": {
        "id": "6xTfao7qDUTg"
      },
      "source": [
        "After this, we might wonder what is the consequence of having a trading day reaching price limits. Let's assume 10-20% daily change to be reaching price limits. Then how many stocks does it happens to and how frequent does this happen?"
      ]
    },
    {
      "cell_type": "code",
      "metadata": {
        "colab": {
          "base_uri": "https://localhost:8080/",
          "height": 282
        },
        "id": "ef1uo-ufDSwK",
        "outputId": "50f6dbc2-fdfb-4bcd-c543-3874005642eb"
      },
      "source": [
        "peak_table = []\n",
        "for num in range(len(price_list)):\n",
        "  stock_code = company_list[num]\n",
        "  price = price_list[num]\n",
        "  total_trading_day = price[\"7. daily change rate\"].count()\n",
        "  peak_day = price[price[\"7. daily change rate\"] > 0.1].index\n",
        "  peak_day_count = price[price[\"7. daily change rate\"] > 0.1][\"7. daily change rate\"].count()\n",
        "  avg_peak_freq = total_trading_day/peak_day_count\n",
        "  zip = [stock_code, peak_day, peak_day_count, avg_peak_freq]\n",
        "  peak_table.append(zip)\n",
        "peak_table = pd.DataFrame(peak_table)\n",
        "peak_table.columns = [\"Stock Code\", \"Peak Days\", \"Peak Day Count\", \"Avg Peak Frequency\"]\n",
        "peak_table[\"Avg Peak Frequency\"].plot.hist(bins=25)"
      ],
      "execution_count": null,
      "outputs": [
        {
          "output_type": "execute_result",
          "data": {
            "text/plain": [
              "<matplotlib.axes._subplots.AxesSubplot at 0x7f125f2d9ed0>"
            ]
          },
          "metadata": {},
          "execution_count": 57
        },
        {
          "output_type": "display_data",
          "data": {
            "image/png": "[encoded data removed]",
            "text/plain": [
              "<Figure size 432x288 with 1 Axes>"
            ]
          },
          "metadata": {
            "needs_background": "light"
          }
        }
      ]
    },
    {
      "cell_type": "code",
      "metadata": {
        "colab": {
          "base_uri": "https://localhost:8080/"
        },
        "id": "jbHz6NPNGZ7E",
        "outputId": "6f26be22-428d-4081-90c8-7695f8661883"
      },
      "source": [
        "peak_table[\"Avg Peak Frequency\"].describe()"
      ],
      "execution_count": null,
      "outputs": [
        {
          "output_type": "execute_result",
          "data": {
            "text/plain": [
              "count     49.000000\n",
              "mean     217.019390\n",
              "std      173.498342\n",
              "min       27.888889\n",
              "25%      115.615385\n",
              "50%      163.833333\n",
              "75%      258.000000\n",
              "max      991.333333\n",
              "Name: Avg Peak Frequency, dtype: float64"
            ]
          },
          "metadata": {},
          "execution_count": 58
        }
      ]
    },
    {
      "cell_type": "code",
      "metadata": {
        "colab": {
          "base_uri": "https://localhost:8080/",
          "height": 204
        },
        "id": "OHxLbpgQMVWW",
        "outputId": "33250cd6-7832-4f85-9c51-4354e10644c0"
      },
      "source": [
        "peak_table.head()"
      ],
      "execution_count": null,
      "outputs": [
        {
          "output_type": "execute_result",
          "data": {
            "text/html": [
              "<div>\n",
              "<style scoped>\n",
              "    .dataframe tbody tr th:only-of-type {\n",
              "        vertical-align: middle;\n",
              "    }\n",
              "\n",
              "    .dataframe tbody tr th {\n",
              "        vertical-align: top;\n",
              "    }\n",
              "\n",
              "    .dataframe thead th {\n",
              "        text-align: right;\n",
              "    }\n",
              "</style>\n",
              "<table border=\"1\" class=\"dataframe\">\n",
              "  <thead>\n",
              "    <tr style=\"text-align: right;\">\n",
              "      <th></th>\n",
              "      <th>Stock Code</th>\n",
              "      <th>Peak Days</th>\n",
              "      <th>Peak Day Count</th>\n",
              "      <th>Avg Peak Frequency</th>\n",
              "    </tr>\n",
              "  </thead>\n",
              "  <tbody>\n",
              "    <tr>\n",
              "      <th>0</th>\n",
              "      <td>300001.SZ</td>\n",
              "      <td>DatetimeIndex(['2021-06-21', '2021-01-07', '20...</td>\n",
              "      <td>16</td>\n",
              "      <td>193.437500</td>\n",
              "    </tr>\n",
              "    <tr>\n",
              "      <th>1</th>\n",
              "      <td>300037.SZ</td>\n",
              "      <td>DatetimeIndex(['2021-09-07', '2021-09-06', '20...</td>\n",
              "      <td>22</td>\n",
              "      <td>138.500000</td>\n",
              "    </tr>\n",
              "    <tr>\n",
              "      <th>2</th>\n",
              "      <td>300595.SZ</td>\n",
              "      <td>DatetimeIndex(['2020-06-04', '2017-01-17'], dt...</td>\n",
              "      <td>2</td>\n",
              "      <td>607.000000</td>\n",
              "    </tr>\n",
              "    <tr>\n",
              "      <th>3</th>\n",
              "      <td>300759.SZ</td>\n",
              "      <td>DatetimeIndex(['2021-05-17', '2021-04-21', '20...</td>\n",
              "      <td>9</td>\n",
              "      <td>27.888889</td>\n",
              "    </tr>\n",
              "    <tr>\n",
              "      <th>4</th>\n",
              "      <td>300896.SZ</td>\n",
              "      <td>DatetimeIndex(['2019-12-27', '2019-04-25'], dt...</td>\n",
              "      <td>2</td>\n",
              "      <td>311.500000</td>\n",
              "    </tr>\n",
              "  </tbody>\n",
              "</table>\n",
              "</div>"
            ],
            "text/plain": [
              "  Stock Code  ... Avg Peak Frequency\n",
              "0  300001.SZ  ...         193.437500\n",
              "1  300037.SZ  ...         138.500000\n",
              "2  300595.SZ  ...         607.000000\n",
              "3  300759.SZ  ...          27.888889\n",
              "4  300896.SZ  ...         311.500000\n",
              "\n",
              "[5 rows x 4 columns]"
            ]
          },
          "metadata": {},
          "execution_count": 59
        }
      ]
    },
    {
      "cell_type": "markdown",
      "metadata": {
        "id": "29DU52QZGi2a"
      },
      "source": [
        "Interesting, all 50 stocks have undergone these limited days, and it usually takes more than half a year, or more exactly 214.5 days, to happen. This sounds very sparse but is it really the case? I doubt it. With all the dates, we may try to make a different check upon its frequency. For example, let us look a specific date list.\n"
      ]
    },
    {
      "cell_type": "code",
      "metadata": {
        "colab": {
          "base_uri": "https://localhost:8080/"
        },
        "id": "YB5OowF8HkcU",
        "outputId": "9ce7d0c9-f60b-4833-a69f-3a93457173eb"
      },
      "source": [
        "print(peak_table[\"Stock Code\"][25], peak_table[\"Peak Days\"][25])"
      ],
      "execution_count": null,
      "outputs": [
        {
          "output_type": "stream",
          "name": "stdout",
          "text": [
            "300003.SZ DatetimeIndex(['2017-02-13', '2016-12-07', '2016-03-17', '2016-03-11',\n",
            "               '2016-01-14', '2015-11-04', '2015-11-02', '2015-10-27',\n",
            "               '2015-10-22', '2015-10-20', '2015-10-13', '2015-09-21',\n",
            "               '2015-09-08', '2015-07-23', '2015-07-09', '2015-06-23',\n",
            "               '2015-05-07', '2015-05-05', '2015-01-21'],\n",
            "              dtype='datetime64[ns]', freq=None)\n"
          ]
        }
      ]
    },
    {
      "cell_type": "code",
      "metadata": {
        "colab": {
          "base_uri": "https://localhost:8080/"
        },
        "id": "5bV1dsZZKlsA",
        "outputId": "baf67f58-4b8b-444c-ee1d-06052c0f3c20"
      },
      "source": [
        "peak_table[\"Peak Days\"][18]"
      ],
      "execution_count": null,
      "outputs": [
        {
          "output_type": "execute_result",
          "data": {
            "text/plain": [
              "DatetimeIndex(['2018-11-06', '2018-10-19', '2018-10-16'], dtype='datetime64[ns]', freq=None)"
            ]
          },
          "metadata": {},
          "execution_count": 61
        }
      ]
    },
    {
      "cell_type": "code",
      "metadata": {
        "colab": {
          "base_uri": "https://localhost:8080/"
        },
        "id": "GQ5FVblRKo_B",
        "outputId": "2ce52c67-94f8-4154-efa9-52cf8248e930"
      },
      "source": [
        "peak_table[\"Peak Days\"][29]"
      ],
      "execution_count": null,
      "outputs": [
        {
          "output_type": "execute_result",
          "data": {
            "text/plain": [
              "DatetimeIndex(['2021-01-27', '2021-01-07', '2020-12-25', '2020-07-06',\n",
              "               '2020-05-06', '2020-02-12', '2018-07-11', '2018-06-22',\n",
              "               '2017-11-28', '2017-10-26', '2017-10-20', '2017-09-18',\n",
              "               '2017-07-05', '2017-03-06'],\n",
              "              dtype='datetime64[ns]', freq=None)"
            ]
          },
          "metadata": {},
          "execution_count": 62
        }
      ]
    },
    {
      "cell_type": "markdown",
      "metadata": {
        "id": "r1VnAEE8KZwO"
      },
      "source": [
        "It is interesting to know that some years, like 2015, 2018 and 2020-21 are more likely to see these peak days. And this phenomenon tends to happen within a short period like 1-2 months. When it happens, let us see how the price changes after the peaks happens twice in two month.\n",
        "\n",
        "For example, we may see it happens on '2015-09-28', '2015-09-21', '2015-09-08' to the stock Hangzhou Tigermed (300347.SZ). Let's see what happen 1/2/3/4 months since 2015-09-08."
      ]
    },
    {
      "cell_type": "code",
      "metadata": {
        "colab": {
          "base_uri": "https://localhost:8080/",
          "height": 282
        },
        "id": "ZsG_UXHBMsb_",
        "outputId": "b945a447-cd24-4eb3-a102-b58a848ec0ed"
      },
      "source": [
        "data1 = time_series_data_cal('300347.SZ')\n",
        "plt.plot(data1[\"4. close\"]['2015-10-08':'2015-09-08'])"
      ],
      "execution_count": null,
      "outputs": [
        {
          "output_type": "execute_result",
          "data": {
            "text/plain": [
              "[<matplotlib.lines.Line2D at 0x7f125f3cfa10>]"
            ]
          },
          "metadata": {},
          "execution_count": 63
        },
        {
          "output_type": "display_data",
          "data": {
            "image/png": "[encoded data removed]",
            "text/plain": [
              "<Figure size 432x288 with 1 Axes>"
            ]
          },
          "metadata": {
            "needs_background": "light"
          }
        }
      ]
    },
    {
      "cell_type": "code",
      "metadata": {
        "colab": {
          "base_uri": "https://localhost:8080/",
          "height": 267
        },
        "id": "xBxRERQTN4eY",
        "outputId": "1752e112-4e89-4ba8-9079-e637497bde63"
      },
      "source": [
        "plt.plot(data1[\"4. close\"]['2015-11-08':'2015-09-08'])"
      ],
      "execution_count": null,
      "outputs": [
        {
          "output_type": "display_data",
          "data": {
            "image/png": "[encoded data removed]",
            "text/plain": [
              "<Figure size 432x288 with 1 Axes>"
            ]
          },
          "metadata": {
            "needs_background": "light"
          }
        }
      ]
    },
    {
      "cell_type": "code",
      "metadata": {
        "colab": {
          "base_uri": "https://localhost:8080/",
          "height": 282
        },
        "id": "6TOjRo94N7t2",
        "outputId": "7e7900fe-3b30-4162-8640-fca5b014203b"
      },
      "source": [
        "plt.plot(data1[\"4. close\"]['2015-12-08':'2015-09-08'])"
      ],
      "execution_count": null,
      "outputs": [
        {
          "output_type": "execute_result",
          "data": {
            "text/plain": [
              "[<matplotlib.lines.Line2D at 0x7f125f034590>]"
            ]
          },
          "metadata": {},
          "execution_count": 65
        },
        {
          "output_type": "display_data",
          "data": {
            "image/png": "[encoded data removed]",
            "text/plain": [
              "<Figure size 432x288 with 1 Axes>"
            ]
          },
          "metadata": {
            "needs_background": "light"
          }
        }
      ]
    },
    {
      "cell_type": "code",
      "metadata": {
        "colab": {
          "base_uri": "https://localhost:8080/",
          "height": 282
        },
        "id": "YKtgsN75OxlK",
        "outputId": "c5c15c34-6048-4317-f7b7-fcce4aa2cb59"
      },
      "source": [
        "plt.plot(data1[\"4. close\"]['2016-09-08':'2015-09-08'])"
      ],
      "execution_count": null,
      "outputs": [
        {
          "output_type": "execute_result",
          "data": {
            "text/plain": [
              "[<matplotlib.lines.Line2D at 0x7f125f9ced50>]"
            ]
          },
          "metadata": {},
          "execution_count": 66
        },
        {
          "output_type": "display_data",
          "data": {
            "image/png": "[encoded data removed]",
            "text/plain": [
              "<Figure size 432x288 with 1 Axes>"
            ]
          },
          "metadata": {
            "needs_background": "light"
          }
        }
      ]
    },
    {
      "cell_type": "markdown",
      "metadata": {
        "id": "5kX95IpYQRfz"
      },
      "source": [
        "Eventually we see after a year, all the increase is almost gone. The first one month growth constitutes most of the growth and you can still make some profits in the second or third months until a catastrophic decrease in Jan 2016. However, in the long term , the stock is good enough for all these decreases and we may see the overall trend of it."
      ]
    },
    {
      "cell_type": "code",
      "metadata": {
        "colab": {
          "base_uri": "https://localhost:8080/",
          "height": 282
        },
        "id": "Z3nkjva4QpSb",
        "outputId": "77a00c32-1da7-4f35-c2da-18609a7824ea"
      },
      "source": [
        "plt.plot(data1[\"4. close\"])"
      ],
      "execution_count": null,
      "outputs": [
        {
          "output_type": "execute_result",
          "data": {
            "text/plain": [
              "[<matplotlib.lines.Line2D at 0x7f125f1a9910>]"
            ]
          },
          "metadata": {},
          "execution_count": 67
        },
        {
          "output_type": "display_data",
          "data": {
            "image/png": "[encoded data removed]",
            "text/plain": [
              "<Figure size 432x288 with 1 Axes>"
            ]
          },
          "metadata": {
            "needs_background": "light"
          }
        }
      ]
    },
    {
      "cell_type": "code",
      "metadata": {
        "colab": {
          "base_uri": "https://localhost:8080/",
          "height": 282
        },
        "id": "VoMWSrdSQzcB",
        "outputId": "05a70f29-224b-4fd4-f689-42a88ea21412"
      },
      "source": [
        "plt.plot(data1[\"7. daily change rate\"])"
      ],
      "execution_count": null,
      "outputs": [
        {
          "output_type": "execute_result",
          "data": {
            "text/plain": [
              "[<matplotlib.lines.Line2D at 0x7f125f2a9410>]"
            ]
          },
          "metadata": {},
          "execution_count": 68
        },
        {
          "output_type": "display_data",
          "data": {
            "image/png": "[encoded data removed]",
            "text/plain": [
              "<Figure size 432x288 with 1 Axes>"
            ]
          },
          "metadata": {
            "needs_background": "light"
          }
        }
      ]
    },
    {
      "cell_type": "markdown",
      "metadata": {
        "id": "umddPmPgRA1t"
      },
      "source": [
        "And here I am wondering whether we could make use of the interval between two peak time and set a threshold of attention. If we observe the price increase reaches limit twice in a month, we may investigate into the stock. It is possible we may still make a profit in the following months before it is too dangder not to pull out. "
      ]
    },
    {
      "cell_type": "code",
      "metadata": {
        "id": "mOH0_IrABkAm"
      },
      "source": [
        "import csv\n",
        "CSV_URL = 'https://www.alphavantage.co/query?function=LISTING_STATUS&state=active&apikey='+apikey\n",
        "with requests.Session() as s:\n",
        "    download = s.get(CSV_URL)\n",
        "    decoded_content = download.content.decode('utf-8')\n",
        "    cr = csv.reader(decoded_content.splitlines(), delimiter=',')\n",
        "    my_list = list(cr)"
      ],
      "execution_count": null,
      "outputs": []
    },
    {
      "cell_type": "code",
      "metadata": {
        "id": "7dfwgdcgCNka"
      },
      "source": [
        "listed_comp = pd.DataFrame(my_list)\n",
        "listed_comp.columns = listed_comp.iloc[0]\n",
        "listed_comp = listed_comp[listed_comp['assetType'] == \"Stock\"]"
      ],
      "execution_count": null,
      "outputs": []
    },
    {
      "cell_type": "code",
      "metadata": {
        "colab": {
          "base_uri": "https://localhost:8080/",
          "height": 419
        },
        "id": "SjJUY1VrDWac",
        "outputId": "6cce48b1-a2c7-4a51-db13-911c960e1a49"
      },
      "source": [
        "listed_comp"
      ],
      "execution_count": null,
      "outputs": [
        {
          "output_type": "execute_result",
          "data": {
            "text/html": [
              "<div>\n",
              "<style scoped>\n",
              "    .dataframe tbody tr th:only-of-type {\n",
              "        vertical-align: middle;\n",
              "    }\n",
              "\n",
              "    .dataframe tbody tr th {\n",
              "        vertical-align: top;\n",
              "    }\n",
              "\n",
              "    .dataframe thead th {\n",
              "        text-align: right;\n",
              "    }\n",
              "</style>\n",
              "<table border=\"1\" class=\"dataframe\">\n",
              "  <thead>\n",
              "    <tr style=\"text-align: right;\">\n",
              "      <th></th>\n",
              "      <th>symbol</th>\n",
              "      <th>name</th>\n",
              "      <th>exchange</th>\n",
              "      <th>assetType</th>\n",
              "      <th>ipoDate</th>\n",
              "      <th>delistingDate</th>\n",
              "      <th>status</th>\n",
              "    </tr>\n",
              "  </thead>\n",
              "  <tbody>\n",
              "    <tr>\n",
              "      <th>1</th>\n",
              "      <td>A</td>\n",
              "      <td>Agilent Technologies Inc</td>\n",
              "      <td>NYSE</td>\n",
              "      <td>Stock</td>\n",
              "      <td>1999-11-18</td>\n",
              "      <td>null</td>\n",
              "      <td>Active</td>\n",
              "    </tr>\n",
              "    <tr>\n",
              "      <th>2</th>\n",
              "      <td>AA</td>\n",
              "      <td>Alcoa Corp</td>\n",
              "      <td>NYSE</td>\n",
              "      <td>Stock</td>\n",
              "      <td>2016-11-01</td>\n",
              "      <td>null</td>\n",
              "      <td>Active</td>\n",
              "    </tr>\n",
              "    <tr>\n",
              "      <th>5</th>\n",
              "      <td>AAC</td>\n",
              "      <td>Ares Acquisition Corporation - Class A</td>\n",
              "      <td>NYSE</td>\n",
              "      <td>Stock</td>\n",
              "      <td>2021-03-25</td>\n",
              "      <td>null</td>\n",
              "      <td>Active</td>\n",
              "    </tr>\n",
              "    <tr>\n",
              "      <th>6</th>\n",
              "      <td>AAC-U</td>\n",
              "      <td>Ares Acquisition Corporation - Units (1 Ord Sh...</td>\n",
              "      <td>NYSE</td>\n",
              "      <td>Stock</td>\n",
              "      <td>2021-02-02</td>\n",
              "      <td>null</td>\n",
              "      <td>Active</td>\n",
              "    </tr>\n",
              "    <tr>\n",
              "      <th>7</th>\n",
              "      <td>AAC-WS</td>\n",
              "      <td>Ares Acquisition Corporation - Warrants (01/01...</td>\n",
              "      <td>NYSE</td>\n",
              "      <td>Stock</td>\n",
              "      <td>2021-03-25</td>\n",
              "      <td>null</td>\n",
              "      <td>Active</td>\n",
              "    </tr>\n",
              "    <tr>\n",
              "      <th>...</th>\n",
              "      <td>...</td>\n",
              "      <td>...</td>\n",
              "      <td>...</td>\n",
              "      <td>...</td>\n",
              "      <td>...</td>\n",
              "      <td>...</td>\n",
              "      <td>...</td>\n",
              "    </tr>\n",
              "    <tr>\n",
              "      <th>11466</th>\n",
              "      <td>ZYME</td>\n",
              "      <td>Zymeworks Inc</td>\n",
              "      <td>NYSE</td>\n",
              "      <td>Stock</td>\n",
              "      <td>2017-04-28</td>\n",
              "      <td>null</td>\n",
              "      <td>Active</td>\n",
              "    </tr>\n",
              "    <tr>\n",
              "      <th>11467</th>\n",
              "      <td>ZYNE</td>\n",
              "      <td>Zynerba Pharmaceuticals Inc</td>\n",
              "      <td>NASDAQ</td>\n",
              "      <td>Stock</td>\n",
              "      <td>2015-08-05</td>\n",
              "      <td>null</td>\n",
              "      <td>Active</td>\n",
              "    </tr>\n",
              "    <tr>\n",
              "      <th>11468</th>\n",
              "      <td>ZYXI</td>\n",
              "      <td>Zynex Inc</td>\n",
              "      <td>NASDAQ</td>\n",
              "      <td>Stock</td>\n",
              "      <td>2002-12-31</td>\n",
              "      <td>null</td>\n",
              "      <td>Active</td>\n",
              "    </tr>\n",
              "    <tr>\n",
              "      <th>11469</th>\n",
              "      <td>ZZK</td>\n",
              "      <td></td>\n",
              "      <td>NYSE ARCA</td>\n",
              "      <td>Stock</td>\n",
              "      <td>2020-07-22</td>\n",
              "      <td>null</td>\n",
              "      <td>Active</td>\n",
              "    </tr>\n",
              "    <tr>\n",
              "      <th>11470</th>\n",
              "      <td>ZZZ</td>\n",
              "      <td>TEST TICKER FOR UTP</td>\n",
              "      <td>NYSE ARCA</td>\n",
              "      <td>Stock</td>\n",
              "      <td>2014-10-31</td>\n",
              "      <td>null</td>\n",
              "      <td>Active</td>\n",
              "    </tr>\n",
              "  </tbody>\n",
              "</table>\n",
              "<p>8366 rows × 7 columns</p>\n",
              "</div>"
            ],
            "text/plain": [
              "0      symbol  ...  status\n",
              "1           A  ...  Active\n",
              "2          AA  ...  Active\n",
              "5         AAC  ...  Active\n",
              "6       AAC-U  ...  Active\n",
              "7      AAC-WS  ...  Active\n",
              "...       ...  ...     ...\n",
              "11466    ZYME  ...  Active\n",
              "11467    ZYNE  ...  Active\n",
              "11468    ZYXI  ...  Active\n",
              "11469     ZZK  ...  Active\n",
              "11470     ZZZ  ...  Active\n",
              "\n",
              "[8366 rows x 7 columns]"
            ]
          },
          "metadata": {},
          "execution_count": 72
        }
      ]
    },
    {
      "cell_type": "code",
      "metadata": {
        "colab": {
          "base_uri": "https://localhost:8080/"
        },
        "id": "2bdsAXefCY0s",
        "outputId": "dce28d04-f9dd-4740-bea5-2a606a9e5779"
      },
      "source": [
        "listed_comp[\"exchange\"].value_counts()"
      ],
      "execution_count": null,
      "outputs": [
        {
          "output_type": "execute_result",
          "data": {
            "text/plain": [
              "NASDAQ       4636\n",
              "NYSE         3422\n",
              "NYSE MKT      261\n",
              "NYSE ARCA      43\n",
              "BATS            4\n",
              "Name: exchange, dtype: int64"
            ]
          },
          "metadata": {},
          "execution_count": 73
        }
      ]
    },
    {
      "cell_type": "markdown",
      "metadata": {
        "id": "_4wyABstCJ-Q"
      },
      "source": [
        "5 API requests per minute makes us unable to do this to all the stocks. Again, if I am to select stocks in the US market, I will choose NASDAQ 100."
      ]
    },
    {
      "cell_type": "code",
      "metadata": {
        "id": "Yh5MeZGgHZoD"
      },
      "source": [
        "NASDAQ_100 = ['ZM','XLNX','XEL','WDAY','WBA','VRTX','VRSN','VRSK','TXN','TSLA',\n",
        "              'TMUS','TEAM','TCOM','SWKS','SPLK','SNPS','SIRI','SGEN','SBUX',\n",
        "              'ROST','REGN','QCOM','PYPL','PTON','PEP','PDD','PCAR','PAYX',\n",
        "              'ORLY','OKTA','NXPI','NVDA','NTES','NFLX','MU','MTCH','MSFT',\n",
        "              'MRVL','MRNA','MNST','MELI','MDLZ','MCHP','MAR','LULU','LRCX',\n",
        "              'KLAC','KHC','KDP','JD','ISRG','INTU','INTC','INCY','ILMN','IDXX',\n",
        "              'HON','GOOGL','GOOG','GILD','FOXA','FOX','FISV','FB','FAST',\n",
        "              'EXC','EBAY','EA','DXCM','DOCU','DLTR','CTSH','CTAS','CSX',\n",
        "              'CSCO','CRWD','CPRT','COST','CMCSA','CHTR','CHKP','CERN',\n",
        "              'CDW','CDNS','BKNG','BIIB','BIDU','AVGO','ATVI','ASML','ANSS',\n",
        "              'AMZN','AMGN','AMD','AMAT','ALGN','AEP','ADSK','ADP','ADI','ADBE','AAPL']"
      ],
      "execution_count": null,
      "outputs": []
    },
    {
      "cell_type": "code",
      "metadata": {
        "id": "oOLzTsDSIAGb"
      },
      "source": [
        "import time\n",
        "price_list_US = []\n",
        "company_list_unchecked = NASDAQ_100\n",
        "while len(company_list_unchecked) > 0:\n",
        "  shortlist = company_list_unchecked[0:4]\n",
        "  del company_list_unchecked[0:4]\n",
        "  for comp in shortlist:\n",
        "    try:\n",
        "      price_list_US.append([[comp, time_series_data_cal(comp)]])\n",
        "    except:\n",
        "      print(comp)\n",
        "  # this is because Alpha Vantage only allows 5 requests per minute\n",
        "  time.sleep(60)\n",
        "  continue"
      ],
      "execution_count": null,
      "outputs": []
    },
    {
      "cell_type": "code",
      "metadata": {
        "colab": {
          "base_uri": "https://localhost:8080/",
          "height": 35
        },
        "id": "7jrCXOBmS28l",
        "outputId": "eb17354e-1391-4192-f35d-c1d8d6986766"
      },
      "source": [
        "price_list_US[1][0][1]"
      ],
      "execution_count": null,
      "outputs": [
        {
          "output_type": "execute_result",
          "data": {
            "application/vnd.google.colaboratory.intrinsic+json": {
              "type": "string"
            },
            "text/plain": [
              "'XLNX'"
            ]
          },
          "metadata": {},
          "execution_count": 17
        }
      ]
    },
    {
      "cell_type": "code",
      "metadata": {
        "colab": {
          "base_uri": "https://localhost:8080/"
        },
        "id": "at139k-SaLiP",
        "outputId": "6f69c769-ae50-4f9a-da6e-516b78213a96"
      },
      "source": [
        "change_table2 = []\n",
        "for price in price_list_US:\n",
        "  stock_code = price[0][0]\n",
        "  price = price[0][1]\n",
        "  total_trading_day = price[\"7. daily change rate\"].count()\n",
        "  increase_count = price[price[\"7. daily change rate\"] > 0][\"7. daily change rate\"].count()\n",
        "  decrease_count = price[price[\"7. daily change rate\"] <= 0][\"7. daily change rate\"].count()\n",
        "  diff = increase_count - decrease_count\n",
        "  zip = [stock_code, total_trading_day, increase_count, decrease_count, diff]\n",
        "  change_table2.append(zip)\n",
        "change_table2 = pd.DataFrame(change_table2)\n",
        "change_table2.columns = [\"Stock Code\", \"Total Trading Day\", \"Increase Count\", \"Decrease Count\", \"Count Difference\"]\n",
        "change_table2[\"Count Difference\"].describe()"
      ],
      "execution_count": null,
      "outputs": [
        {
          "output_type": "execute_result",
          "data": {
            "text/plain": [
              "count    102.000000\n",
              "mean      19.901961\n",
              "std      164.082659\n",
              "min     -807.000000\n",
              "25%      -48.250000\n",
              "50%       24.500000\n",
              "75%      102.750000\n",
              "max      445.000000\n",
              "Name: Count Difference, dtype: float64"
            ]
          },
          "metadata": {},
          "execution_count": 18
        }
      ]
    },
    {
      "cell_type": "code",
      "metadata": {
        "colab": {
          "base_uri": "https://localhost:8080/",
          "height": 282
        },
        "id": "6jFIHLaAMBlT",
        "outputId": "76164279-f6e0-4f6e-9679-ef982a57c0f4"
      },
      "source": [
        "change_table2[\"Count Difference\"].plot.hist(bins=50)"
      ],
      "execution_count": null,
      "outputs": [
        {
          "output_type": "execute_result",
          "data": {
            "text/plain": [
              "<matplotlib.axes._subplots.AxesSubplot at 0x7fc2a4ad0150>"
            ]
          },
          "metadata": {},
          "execution_count": 20
        },
        {
          "output_type": "display_data",
          "data": {
            "image/png": "[encoded data removed]",
            "text/plain": [
              "<Figure size 432x288 with 1 Axes>"
            ]
          },
          "metadata": {
            "needs_background": "light"
          }
        }
      ]
    },
    {
      "cell_type": "code",
      "metadata": {
        "colab": {
          "base_uri": "https://localhost:8080/",
          "height": 282
        },
        "id": "Lj8g_Dd_MtRu",
        "outputId": "e1659fab-4e49-499c-d5b5-7bbb80db8369"
      },
      "source": [
        "change_table2[\"Count Difference Rate\"] = change_table2[\"Count Difference\"] /  change_table2[\"Total Trading Day\"]\n",
        "change_table2[change_table2[\"Count Difference Rate\"] > 0][\"Count Difference Rate\"].plot.hist(bins=50)"
      ],
      "execution_count": null,
      "outputs": [
        {
          "output_type": "execute_result",
          "data": {
            "text/plain": [
              "<matplotlib.axes._subplots.AxesSubplot at 0x7fc2a4997090>"
            ]
          },
          "metadata": {},
          "execution_count": 23
        },
        {
          "output_type": "display_data",
          "data": {
            "image/png": "[encoded data removed]",
            "text/plain": [
              "<Figure size 432x288 with 1 Axes>"
            ]
          },
          "metadata": {
            "needs_background": "light"
          }
        }
      ]
    },
    {
      "cell_type": "code",
      "metadata": {
        "colab": {
          "base_uri": "https://localhost:8080/",
          "height": 282
        },
        "id": "XfOycblbNRB7",
        "outputId": "c4a90182-2eca-4d79-b369-561faec640e0"
      },
      "source": [
        "change_table2[change_table2[\"Count Difference Rate\"] <= 0][\"Count Difference Rate\"].plot.hist(bins=50)"
      ],
      "execution_count": null,
      "outputs": [
        {
          "output_type": "execute_result",
          "data": {
            "text/plain": [
              "<matplotlib.axes._subplots.AxesSubplot at 0x7fc2a42492d0>"
            ]
          },
          "metadata": {},
          "execution_count": 24
        },
        {
          "output_type": "display_data",
          "data": {
            "image/png": "[encoded data removed]",
            "text/plain": [
              "<Figure size 432x288 with 1 Axes>"
            ]
          },
          "metadata": {
            "needs_background": "light"
          }
        }
      ]
    },
    {
      "cell_type": "code",
      "metadata": {
        "colab": {
          "base_uri": "https://localhost:8080/"
        },
        "id": "49Nh-jKBNUzi",
        "outputId": "5c5e3a83-2d4a-43bc-bf00-5d9cfbf17b22"
      },
      "source": [
        "print(change_table2[change_table2[\"Count Difference Rate\"] <= 0][\"Count Difference Rate\"].count(),\n",
        "      change_table2[change_table2[\"Count Difference Rate\"] > 0][\"Count Difference Rate\"].count())"
      ],
      "execution_count": null,
      "outputs": [
        {
          "output_type": "stream",
          "name": "stdout",
          "text": [
            "41 61\n"
          ]
        }
      ]
    },
    {
      "cell_type": "markdown",
      "metadata": {
        "id": "Ov5hOzToMJBD"
      },
      "source": [
        "However, what we observe as a rule in the Chinese stock market does not happen in the US stock market, or more specifically in the NASDAQ-100 stocks. 61 of the stocks see more days with increased prices then decreasd prices, which is totally differnet from what we see in the Chinese stock market. There has been a long-standing debates about the price formation mechanism in the China market due to the price limit. \n",
        "\n",
        "For example, [a study by a group of researchers at the Chinese University of Hong Kong](https://cbk.bschool.cuhk.edu.hk/do-daily-price-limits-stabilize-the-markets/) describe the pattern in the China market, where\n",
        "\n",
        "> ......83.6 percent of large investors who buy upper-price-limit-hitting stocks on day 0 tend to sell them on day 1...... This finding strongly supports a key premise of our hypotheses that large investors are the ‘smart money’ in the market. The sharp contrast of their trading negatively predicting returns subsequent to hitting the upper price limit makes their destructive behaviour around these events even more striking......Our analysis provides a set of empirical findings to show that the widely adopted daily price limit rules may induce large investors as a group to pursue a destructive trading strategy of pushing prices to the upper price limit and then profiting from selling on the next day......\n",
        "\n",
        "These partly explains why the stock prices in China are more likely to decrease in a day. But it still remains vague how prices are formed in a Chinese market. Of course the price limit is not the only factors, as we see that if the price continously reaches the limit, the stock price will still obtain strong momentum to grow in a few months to come. In this sense, the CUHK study is actually exaggrating the impact of price limit as it lacks benchmarks for comparisons and a self-reference study is not a good approach to assess stablity and stablisation.\n",
        "\n",
        "Also, I am also interested in whether there is a pattern of post-peak pattern that can be measured by the interval between peak time, as I heard that some of the traders in China are utilising this as a quant strategy. Anyway, the data volume then would be too big for using free API provided by Alpha Vantage. And Tushare and other API could be of help in that case. "
      ]
    }
  ]
}