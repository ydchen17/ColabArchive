{
  "nbformat": 4,
  "nbformat_minor": 0,
  "metadata": {
    "colab": {
      "name": "Hotel_booking_demand_v2.ipynb",
      "provenance": [],
      "collapsed_sections": [],
      "mount_file_id": "1JINFbwavxJkKIk7oEoWNbT3qHTeM9r-4",
      "authorship_tag": "ABX9TyNRiFdXTX/V83EFYvXnfjA6",
      "include_colab_link": true
    },
    "kernelspec": {
      "name": "python3",
      "display_name": "Python 3"
    },
    "language_info": {
      "name": "python"
    }
  },
  "cells": [
    {
      "cell_type": "markdown",
      "metadata": {
        "id": "view-in-github",
        "colab_type": "text"
      },
      "source": [
        "<a href=\"https://colab.research.google.com/github/ydchen17/ColabArchive/blob/main/Hotel_booking_demand_v2.ipynb\" target=\"_parent\"><img src=\"https://colab.research.google.com/assets/colab-badge.svg\" alt=\"Open In Colab\"/></a>"
      ]
    },
    {
      "cell_type": "markdown",
      "metadata": {
        "id": "Wrc_n8w8o5HI"
      },
      "source": [
        "## 1.1 Import packages and dataset"
      ]
    },
    {
      "cell_type": "code",
      "metadata": {
        "id": "qCXl4FWio7-M"
      },
      "source": [
        "# a walkthrough provided at https://zhuanlan.zhihu.com/p/268370170 \n",
        "import numpy as np\n",
        "import pandas as pd\n",
        "import pandas_profiling as pp\n",
        "import seaborn as sns\n",
        "import matplotlib.pyplot as plt\n",
        "%matplotlib inline"
      ],
      "execution_count": null,
      "outputs": []
    },
    {
      "cell_type": "code",
      "metadata": {
        "colab": {
          "base_uri": "https://localhost:8080/",
          "height": 317
        },
        "id": "jgQ0R5pJpBdR",
        "outputId": "a4f15f7a-5a43-4f7d-f4fb-565d92ca347e"
      },
      "source": [
        "hotel_data = pd.read_csv(\"/content/drive/MyDrive/H1.csv\", index_col=None)\n",
        "# Check data summary\n",
        "hotel_data.describe()"
      ],
      "execution_count": null,
      "outputs": [
        {
          "output_type": "execute_result",
          "data": {
            "text/html": [
              "<div>\n",
              "<style scoped>\n",
              "    .dataframe tbody tr th:only-of-type {\n",
              "        vertical-align: middle;\n",
              "    }\n",
              "\n",
              "    .dataframe tbody tr th {\n",
              "        vertical-align: top;\n",
              "    }\n",
              "\n",
              "    .dataframe thead th {\n",
              "        text-align: right;\n",
              "    }\n",
              "</style>\n",
              "<table border=\"1\" class=\"dataframe\">\n",
              "  <thead>\n",
              "    <tr style=\"text-align: right;\">\n",
              "      <th></th>\n",
              "      <th>IsCanceled</th>\n",
              "      <th>LeadTime</th>\n",
              "      <th>ArrivalDateYear</th>\n",
              "      <th>ArrivalDateWeekNumber</th>\n",
              "      <th>ArrivalDateDayOfMonth</th>\n",
              "      <th>StaysInWeekendNights</th>\n",
              "      <th>StaysInWeekNights</th>\n",
              "      <th>Adults</th>\n",
              "      <th>Children</th>\n",
              "      <th>Babies</th>\n",
              "      <th>IsRepeatedGuest</th>\n",
              "      <th>PreviousCancellations</th>\n",
              "      <th>PreviousBookingsNotCanceled</th>\n",
              "      <th>BookingChanges</th>\n",
              "      <th>DaysInWaitingList</th>\n",
              "      <th>ADR</th>\n",
              "      <th>RequiredCarParkingSpaces</th>\n",
              "      <th>TotalOfSpecialRequests</th>\n",
              "    </tr>\n",
              "  </thead>\n",
              "  <tbody>\n",
              "    <tr>\n",
              "      <th>count</th>\n",
              "      <td>26089.000000</td>\n",
              "      <td>26089.000000</td>\n",
              "      <td>26089.000000</td>\n",
              "      <td>26089.000000</td>\n",
              "      <td>26089.000000</td>\n",
              "      <td>26089.000000</td>\n",
              "      <td>26089.000000</td>\n",
              "      <td>26089.000000</td>\n",
              "      <td>26089.000000</td>\n",
              "      <td>26089.000000</td>\n",
              "      <td>26089.000000</td>\n",
              "      <td>26089.000000</td>\n",
              "      <td>26089.000000</td>\n",
              "      <td>26088.000000</td>\n",
              "      <td>26088.000000</td>\n",
              "      <td>26088.000000</td>\n",
              "      <td>26088.000000</td>\n",
              "      <td>26088.000000</td>\n",
              "    </tr>\n",
              "    <tr>\n",
              "      <th>mean</th>\n",
              "      <td>0.425543</td>\n",
              "      <td>96.128982</td>\n",
              "      <td>2015.860746</td>\n",
              "      <td>27.191307</td>\n",
              "      <td>15.700103</td>\n",
              "      <td>1.184982</td>\n",
              "      <td>3.144199</td>\n",
              "      <td>1.864272</td>\n",
              "      <td>0.130515</td>\n",
              "      <td>0.012304</td>\n",
              "      <td>0.050941</td>\n",
              "      <td>0.155621</td>\n",
              "      <td>0.203726</td>\n",
              "      <td>0.246358</td>\n",
              "      <td>0.616222</td>\n",
              "      <td>90.085237</td>\n",
              "      <td>0.111431</td>\n",
              "      <td>0.541168</td>\n",
              "    </tr>\n",
              "    <tr>\n",
              "      <th>std</th>\n",
              "      <td>0.494435</td>\n",
              "      <td>98.148532</td>\n",
              "      <td>0.691903</td>\n",
              "      <td>13.736682</td>\n",
              "      <td>8.882387</td>\n",
              "      <td>1.151963</td>\n",
              "      <td>2.463592</td>\n",
              "      <td>0.799522</td>\n",
              "      <td>0.454398</td>\n",
              "      <td>0.111966</td>\n",
              "      <td>0.219882</td>\n",
              "      <td>1.651644</td>\n",
              "      <td>1.218693</td>\n",
              "      <td>0.675674</td>\n",
              "      <td>7.925192</td>\n",
              "      <td>57.455395</td>\n",
              "      <td>0.316250</td>\n",
              "      <td>0.776070</td>\n",
              "    </tr>\n",
              "    <tr>\n",
              "      <th>min</th>\n",
              "      <td>0.000000</td>\n",
              "      <td>0.000000</td>\n",
              "      <td>2015.000000</td>\n",
              "      <td>1.000000</td>\n",
              "      <td>1.000000</td>\n",
              "      <td>0.000000</td>\n",
              "      <td>0.000000</td>\n",
              "      <td>0.000000</td>\n",
              "      <td>0.000000</td>\n",
              "      <td>0.000000</td>\n",
              "      <td>0.000000</td>\n",
              "      <td>0.000000</td>\n",
              "      <td>0.000000</td>\n",
              "      <td>0.000000</td>\n",
              "      <td>0.000000</td>\n",
              "      <td>-6.380000</td>\n",
              "      <td>0.000000</td>\n",
              "      <td>0.000000</td>\n",
              "    </tr>\n",
              "    <tr>\n",
              "      <th>25%</th>\n",
              "      <td>0.000000</td>\n",
              "      <td>12.000000</td>\n",
              "      <td>2015.000000</td>\n",
              "      <td>16.000000</td>\n",
              "      <td>8.000000</td>\n",
              "      <td>0.000000</td>\n",
              "      <td>1.000000</td>\n",
              "      <td>2.000000</td>\n",
              "      <td>0.000000</td>\n",
              "      <td>0.000000</td>\n",
              "      <td>0.000000</td>\n",
              "      <td>0.000000</td>\n",
              "      <td>0.000000</td>\n",
              "      <td>0.000000</td>\n",
              "      <td>0.000000</td>\n",
              "      <td>48.500000</td>\n",
              "      <td>0.000000</td>\n",
              "      <td>0.000000</td>\n",
              "    </tr>\n",
              "    <tr>\n",
              "      <th>50%</th>\n",
              "      <td>0.000000</td>\n",
              "      <td>64.000000</td>\n",
              "      <td>2016.000000</td>\n",
              "      <td>28.000000</td>\n",
              "      <td>16.000000</td>\n",
              "      <td>1.000000</td>\n",
              "      <td>3.000000</td>\n",
              "      <td>2.000000</td>\n",
              "      <td>0.000000</td>\n",
              "      <td>0.000000</td>\n",
              "      <td>0.000000</td>\n",
              "      <td>0.000000</td>\n",
              "      <td>0.000000</td>\n",
              "      <td>0.000000</td>\n",
              "      <td>0.000000</td>\n",
              "      <td>72.750000</td>\n",
              "      <td>0.000000</td>\n",
              "      <td>0.000000</td>\n",
              "    </tr>\n",
              "    <tr>\n",
              "      <th>75%</th>\n",
              "      <td>1.000000</td>\n",
              "      <td>158.000000</td>\n",
              "      <td>2016.000000</td>\n",
              "      <td>38.000000</td>\n",
              "      <td>24.000000</td>\n",
              "      <td>2.000000</td>\n",
              "      <td>5.000000</td>\n",
              "      <td>2.000000</td>\n",
              "      <td>0.000000</td>\n",
              "      <td>0.000000</td>\n",
              "      <td>0.000000</td>\n",
              "      <td>0.000000</td>\n",
              "      <td>0.000000</td>\n",
              "      <td>0.000000</td>\n",
              "      <td>0.000000</td>\n",
              "      <td>117.800000</td>\n",
              "      <td>0.000000</td>\n",
              "      <td>1.000000</td>\n",
              "    </tr>\n",
              "    <tr>\n",
              "      <th>max</th>\n",
              "      <td>1.000000</td>\n",
              "      <td>737.000000</td>\n",
              "      <td>2017.000000</td>\n",
              "      <td>53.000000</td>\n",
              "      <td>31.000000</td>\n",
              "      <td>19.000000</td>\n",
              "      <td>50.000000</td>\n",
              "      <td>55.000000</td>\n",
              "      <td>10.000000</td>\n",
              "      <td>2.000000</td>\n",
              "      <td>1.000000</td>\n",
              "      <td>26.000000</td>\n",
              "      <td>30.000000</td>\n",
              "      <td>17.000000</td>\n",
              "      <td>150.000000</td>\n",
              "      <td>508.000000</td>\n",
              "      <td>2.000000</td>\n",
              "      <td>5.000000</td>\n",
              "    </tr>\n",
              "  </tbody>\n",
              "</table>\n",
              "</div>"
            ],
            "text/plain": [
              "         IsCanceled  ...  TotalOfSpecialRequests\n",
              "count  26089.000000  ...            26088.000000\n",
              "mean       0.425543  ...                0.541168\n",
              "std        0.494435  ...                0.776070\n",
              "min        0.000000  ...                0.000000\n",
              "25%        0.000000  ...                0.000000\n",
              "50%        0.000000  ...                0.000000\n",
              "75%        1.000000  ...                1.000000\n",
              "max        1.000000  ...                5.000000\n",
              "\n",
              "[8 rows x 18 columns]"
            ]
          },
          "metadata": {},
          "execution_count": 149
        }
      ]
    },
    {
      "cell_type": "code",
      "metadata": {
        "colab": {
          "base_uri": "https://localhost:8080/",
          "height": 224
        },
        "id": "nARXE-kLpKbc",
        "outputId": "3df0c9a2-3359-47b6-b326-c0115329acd4"
      },
      "source": [
        "# read data\n",
        "hotel_data.head()"
      ],
      "execution_count": null,
      "outputs": [
        {
          "output_type": "execute_result",
          "data": {
            "text/html": [
              "<div>\n",
              "<style scoped>\n",
              "    .dataframe tbody tr th:only-of-type {\n",
              "        vertical-align: middle;\n",
              "    }\n",
              "\n",
              "    .dataframe tbody tr th {\n",
              "        vertical-align: top;\n",
              "    }\n",
              "\n",
              "    .dataframe thead th {\n",
              "        text-align: right;\n",
              "    }\n",
              "</style>\n",
              "<table border=\"1\" class=\"dataframe\">\n",
              "  <thead>\n",
              "    <tr style=\"text-align: right;\">\n",
              "      <th></th>\n",
              "      <th>IsCanceled</th>\n",
              "      <th>LeadTime</th>\n",
              "      <th>ArrivalDateYear</th>\n",
              "      <th>ArrivalDateMonth</th>\n",
              "      <th>ArrivalDateWeekNumber</th>\n",
              "      <th>ArrivalDateDayOfMonth</th>\n",
              "      <th>StaysInWeekendNights</th>\n",
              "      <th>StaysInWeekNights</th>\n",
              "      <th>Adults</th>\n",
              "      <th>Children</th>\n",
              "      <th>Babies</th>\n",
              "      <th>Meal</th>\n",
              "      <th>Country</th>\n",
              "      <th>MarketSegment</th>\n",
              "      <th>DistributionChannel</th>\n",
              "      <th>IsRepeatedGuest</th>\n",
              "      <th>PreviousCancellations</th>\n",
              "      <th>PreviousBookingsNotCanceled</th>\n",
              "      <th>ReservedRoomType</th>\n",
              "      <th>AssignedRoomType</th>\n",
              "      <th>BookingChanges</th>\n",
              "      <th>DepositType</th>\n",
              "      <th>Agent</th>\n",
              "      <th>Company</th>\n",
              "      <th>DaysInWaitingList</th>\n",
              "      <th>CustomerType</th>\n",
              "      <th>ADR</th>\n",
              "      <th>RequiredCarParkingSpaces</th>\n",
              "      <th>TotalOfSpecialRequests</th>\n",
              "      <th>ReservationStatus</th>\n",
              "      <th>ReservationStatusDate</th>\n",
              "    </tr>\n",
              "  </thead>\n",
              "  <tbody>\n",
              "    <tr>\n",
              "      <th>0</th>\n",
              "      <td>0</td>\n",
              "      <td>342</td>\n",
              "      <td>2015</td>\n",
              "      <td>July</td>\n",
              "      <td>27</td>\n",
              "      <td>1</td>\n",
              "      <td>0</td>\n",
              "      <td>0</td>\n",
              "      <td>2</td>\n",
              "      <td>0</td>\n",
              "      <td>0</td>\n",
              "      <td>BB</td>\n",
              "      <td>PRT</td>\n",
              "      <td>Direct</td>\n",
              "      <td>Direct</td>\n",
              "      <td>0</td>\n",
              "      <td>0</td>\n",
              "      <td>0</td>\n",
              "      <td>C</td>\n",
              "      <td>C</td>\n",
              "      <td>3.0</td>\n",
              "      <td>No Deposit</td>\n",
              "      <td>NULL</td>\n",
              "      <td>NULL</td>\n",
              "      <td>0.0</td>\n",
              "      <td>Transient</td>\n",
              "      <td>0.0</td>\n",
              "      <td>0.0</td>\n",
              "      <td>0.0</td>\n",
              "      <td>Check-Out</td>\n",
              "      <td>2015-07-01</td>\n",
              "    </tr>\n",
              "    <tr>\n",
              "      <th>1</th>\n",
              "      <td>0</td>\n",
              "      <td>737</td>\n",
              "      <td>2015</td>\n",
              "      <td>July</td>\n",
              "      <td>27</td>\n",
              "      <td>1</td>\n",
              "      <td>0</td>\n",
              "      <td>0</td>\n",
              "      <td>2</td>\n",
              "      <td>0</td>\n",
              "      <td>0</td>\n",
              "      <td>BB</td>\n",
              "      <td>PRT</td>\n",
              "      <td>Direct</td>\n",
              "      <td>Direct</td>\n",
              "      <td>0</td>\n",
              "      <td>0</td>\n",
              "      <td>0</td>\n",
              "      <td>C</td>\n",
              "      <td>C</td>\n",
              "      <td>4.0</td>\n",
              "      <td>No Deposit</td>\n",
              "      <td>NULL</td>\n",
              "      <td>NULL</td>\n",
              "      <td>0.0</td>\n",
              "      <td>Transient</td>\n",
              "      <td>0.0</td>\n",
              "      <td>0.0</td>\n",
              "      <td>0.0</td>\n",
              "      <td>Check-Out</td>\n",
              "      <td>2015-07-01</td>\n",
              "    </tr>\n",
              "    <tr>\n",
              "      <th>2</th>\n",
              "      <td>0</td>\n",
              "      <td>7</td>\n",
              "      <td>2015</td>\n",
              "      <td>July</td>\n",
              "      <td>27</td>\n",
              "      <td>1</td>\n",
              "      <td>0</td>\n",
              "      <td>1</td>\n",
              "      <td>1</td>\n",
              "      <td>0</td>\n",
              "      <td>0</td>\n",
              "      <td>BB</td>\n",
              "      <td>GBR</td>\n",
              "      <td>Direct</td>\n",
              "      <td>Direct</td>\n",
              "      <td>0</td>\n",
              "      <td>0</td>\n",
              "      <td>0</td>\n",
              "      <td>A</td>\n",
              "      <td>C</td>\n",
              "      <td>0.0</td>\n",
              "      <td>No Deposit</td>\n",
              "      <td>NULL</td>\n",
              "      <td>NULL</td>\n",
              "      <td>0.0</td>\n",
              "      <td>Transient</td>\n",
              "      <td>75.0</td>\n",
              "      <td>0.0</td>\n",
              "      <td>0.0</td>\n",
              "      <td>Check-Out</td>\n",
              "      <td>2015-07-02</td>\n",
              "    </tr>\n",
              "    <tr>\n",
              "      <th>3</th>\n",
              "      <td>0</td>\n",
              "      <td>13</td>\n",
              "      <td>2015</td>\n",
              "      <td>July</td>\n",
              "      <td>27</td>\n",
              "      <td>1</td>\n",
              "      <td>0</td>\n",
              "      <td>1</td>\n",
              "      <td>1</td>\n",
              "      <td>0</td>\n",
              "      <td>0</td>\n",
              "      <td>BB</td>\n",
              "      <td>GBR</td>\n",
              "      <td>Corporate</td>\n",
              "      <td>Corporate</td>\n",
              "      <td>0</td>\n",
              "      <td>0</td>\n",
              "      <td>0</td>\n",
              "      <td>A</td>\n",
              "      <td>A</td>\n",
              "      <td>0.0</td>\n",
              "      <td>No Deposit</td>\n",
              "      <td>304</td>\n",
              "      <td>NULL</td>\n",
              "      <td>0.0</td>\n",
              "      <td>Transient</td>\n",
              "      <td>75.0</td>\n",
              "      <td>0.0</td>\n",
              "      <td>0.0</td>\n",
              "      <td>Check-Out</td>\n",
              "      <td>2015-07-02</td>\n",
              "    </tr>\n",
              "    <tr>\n",
              "      <th>4</th>\n",
              "      <td>0</td>\n",
              "      <td>14</td>\n",
              "      <td>2015</td>\n",
              "      <td>July</td>\n",
              "      <td>27</td>\n",
              "      <td>1</td>\n",
              "      <td>0</td>\n",
              "      <td>2</td>\n",
              "      <td>2</td>\n",
              "      <td>0</td>\n",
              "      <td>0</td>\n",
              "      <td>BB</td>\n",
              "      <td>GBR</td>\n",
              "      <td>Online TA</td>\n",
              "      <td>TA/TO</td>\n",
              "      <td>0</td>\n",
              "      <td>0</td>\n",
              "      <td>0</td>\n",
              "      <td>A</td>\n",
              "      <td>A</td>\n",
              "      <td>0.0</td>\n",
              "      <td>No Deposit</td>\n",
              "      <td>240</td>\n",
              "      <td>NULL</td>\n",
              "      <td>0.0</td>\n",
              "      <td>Transient</td>\n",
              "      <td>98.0</td>\n",
              "      <td>0.0</td>\n",
              "      <td>1.0</td>\n",
              "      <td>Check-Out</td>\n",
              "      <td>2015-07-03</td>\n",
              "    </tr>\n",
              "  </tbody>\n",
              "</table>\n",
              "</div>"
            ],
            "text/plain": [
              "   IsCanceled  LeadTime  ...  ReservationStatus ReservationStatusDate\n",
              "0           0       342  ...          Check-Out            2015-07-01\n",
              "1           0       737  ...          Check-Out            2015-07-01\n",
              "2           0         7  ...          Check-Out            2015-07-02\n",
              "3           0        13  ...          Check-Out            2015-07-02\n",
              "4           0        14  ...          Check-Out            2015-07-03\n",
              "\n",
              "[5 rows x 31 columns]"
            ]
          },
          "metadata": {},
          "execution_count": 150
        }
      ]
    },
    {
      "cell_type": "markdown",
      "metadata": {
        "id": "24SpiToDXlji"
      },
      "source": [
        "## 1.2 Dealing with missing data"
      ]
    },
    {
      "cell_type": "code",
      "metadata": {
        "colab": {
          "base_uri": "https://localhost:8080/"
        },
        "id": "B8vz4uAjpM9c",
        "outputId": "14e17bbd-a7f1-4168-92ce-efb10d70961e"
      },
      "source": [
        "# check missing value\n",
        "hotel_data.isnull().sum()"
      ],
      "execution_count": null,
      "outputs": [
        {
          "output_type": "execute_result",
          "data": {
            "text/plain": [
              "IsCanceled                       0\n",
              "LeadTime                         0\n",
              "ArrivalDateYear                  0\n",
              "ArrivalDateMonth                 0\n",
              "ArrivalDateWeekNumber            0\n",
              "ArrivalDateDayOfMonth            0\n",
              "StaysInWeekendNights             0\n",
              "StaysInWeekNights                0\n",
              "Adults                           0\n",
              "Children                         0\n",
              "Babies                           0\n",
              "Meal                             0\n",
              "Country                        459\n",
              "MarketSegment                    0\n",
              "DistributionChannel              0\n",
              "IsRepeatedGuest                  0\n",
              "PreviousCancellations            0\n",
              "PreviousBookingsNotCanceled      0\n",
              "ReservedRoomType                 0\n",
              "AssignedRoomType                 0\n",
              "BookingChanges                   1\n",
              "DepositType                      1\n",
              "Agent                            1\n",
              "Company                          1\n",
              "DaysInWaitingList                1\n",
              "CustomerType                     1\n",
              "ADR                              1\n",
              "RequiredCarParkingSpaces         1\n",
              "TotalOfSpecialRequests           1\n",
              "ReservationStatus                1\n",
              "ReservationStatusDate            1\n",
              "dtype: int64"
            ]
          },
          "metadata": {},
          "execution_count": 151
        }
      ]
    },
    {
      "cell_type": "code",
      "metadata": {
        "colab": {
          "base_uri": "https://localhost:8080/"
        },
        "id": "QBZhn1WxrTlg",
        "outputId": "2f316b81-a827-4c71-de0a-daf2ccfce315"
      },
      "source": [
        "data_new = hotel_data.copy()\n",
        "data_new.drop(\"Company\",axis=1,inplace=True)\n",
        "data_new.Children.fillna(data_new.Children.median(), inplace=True)\n",
        "data_new.Country.fillna(data_new.Country.mode()[0],inplace=True)\n",
        "data_new.Agent.fillna(0, inplace=True)\n",
        "data_new.Children = data_new.Children.astype(int)\n",
        "data_new.Meal.replace(\"Undefined\", \"SC\", inplace=True)\n",
        "data_new.isnull().sum()"
      ],
      "execution_count": null,
      "outputs": [
        {
          "output_type": "execute_result",
          "data": {
            "text/plain": [
              "IsCanceled                     0\n",
              "LeadTime                       0\n",
              "ArrivalDateYear                0\n",
              "ArrivalDateMonth               0\n",
              "ArrivalDateWeekNumber          0\n",
              "ArrivalDateDayOfMonth          0\n",
              "StaysInWeekendNights           0\n",
              "StaysInWeekNights              0\n",
              "Adults                         0\n",
              "Children                       0\n",
              "Babies                         0\n",
              "Meal                           0\n",
              "Country                        0\n",
              "MarketSegment                  0\n",
              "DistributionChannel            0\n",
              "IsRepeatedGuest                0\n",
              "PreviousCancellations          0\n",
              "PreviousBookingsNotCanceled    0\n",
              "ReservedRoomType               0\n",
              "AssignedRoomType               0\n",
              "BookingChanges                 1\n",
              "DepositType                    1\n",
              "Agent                          0\n",
              "DaysInWaitingList              1\n",
              "CustomerType                   1\n",
              "ADR                            1\n",
              "RequiredCarParkingSpaces       1\n",
              "TotalOfSpecialRequests         1\n",
              "ReservationStatus              1\n",
              "ReservationStatusDate          1\n",
              "dtype: int64"
            ]
          },
          "metadata": {},
          "execution_count": 152
        }
      ]
    },
    {
      "cell_type": "code",
      "metadata": {
        "colab": {
          "base_uri": "https://localhost:8080/"
        },
        "id": "asSRTuEuphTX",
        "outputId": "9451a62d-ae8d-4204-ceee-293bfc5819b2"
      },
      "source": [
        "#remove abnormality\n",
        "data_new = data_new[data_new[\"ADR\"]<5000]\n",
        "data_new.isnull().sum()"
      ],
      "execution_count": null,
      "outputs": [
        {
          "output_type": "execute_result",
          "data": {
            "text/plain": [
              "IsCanceled                     0\n",
              "LeadTime                       0\n",
              "ArrivalDateYear                0\n",
              "ArrivalDateMonth               0\n",
              "ArrivalDateWeekNumber          0\n",
              "ArrivalDateDayOfMonth          0\n",
              "StaysInWeekendNights           0\n",
              "StaysInWeekNights              0\n",
              "Adults                         0\n",
              "Children                       0\n",
              "Babies                         0\n",
              "Meal                           0\n",
              "Country                        0\n",
              "MarketSegment                  0\n",
              "DistributionChannel            0\n",
              "IsRepeatedGuest                0\n",
              "PreviousCancellations          0\n",
              "PreviousBookingsNotCanceled    0\n",
              "ReservedRoomType               0\n",
              "AssignedRoomType               0\n",
              "BookingChanges                 0\n",
              "DepositType                    0\n",
              "Agent                          0\n",
              "DaysInWaitingList              0\n",
              "CustomerType                   0\n",
              "ADR                            0\n",
              "RequiredCarParkingSpaces       0\n",
              "TotalOfSpecialRequests         0\n",
              "ReservationStatus              0\n",
              "ReservationStatusDate          0\n",
              "dtype: int64"
            ]
          },
          "metadata": {},
          "execution_count": 153
        }
      ]
    },
    {
      "cell_type": "markdown",
      "metadata": {
        "id": "6muOzLAWXvb3"
      },
      "source": [
        "## 1.3 Converting data format"
      ]
    },
    {
      "cell_type": "code",
      "metadata": {
        "id": "mSTnCOBypjye"
      },
      "source": [
        "# change month to number\n",
        "import calendar\n",
        "month = []\n",
        "for i in data_new.ArrivalDateMonth:\n",
        "    mon = list(calendar.month_name).index(i)\n",
        "    month.append(mon)\n",
        "data_new.insert(4,\"ArrivalMonth\",month)"
      ],
      "execution_count": null,
      "outputs": []
    },
    {
      "cell_type": "code",
      "metadata": {
        "id": "pKth9PdHKS3j"
      },
      "source": [
        "data_new[[\"ArrivalDateYear\",\n",
        "          \"ArrivalMonth\",\n",
        "          \"ArrivalDateDayOfMonth\"]] = data_new[[\"ArrivalDateYear\",\n",
        "                                                \"ArrivalMonth\",\n",
        "                                                \"ArrivalDateDayOfMonth\"]].apply(lambda x:x.astype(str))\n",
        "date = data_new.ArrivalDateYear.str.cat([data_new.ArrivalMonth,\n",
        "                                         data_new.ArrivalDateDayOfMonth],\n",
        "                                        \".\")\n",
        "data_new.insert(3,\"ArrivalDate\",date)"
      ],
      "execution_count": null,
      "outputs": []
    },
    {
      "cell_type": "code",
      "metadata": {
        "id": "TPq-autwpmW3"
      },
      "source": [
        "data_new = data_new.drop([\"ArrivalDateMonth\",\n",
        "                          \"ArrivalDateYear\",\n",
        "                          \"ArrivalMonth\",\n",
        "                          \"ArrivalDateDayOfMonth\",\n",
        "                          \"ArrivalDateWeekNumber\"],\n",
        "                         axis=1)\n",
        "# data_new.columns"
      ],
      "execution_count": null,
      "outputs": []
    },
    {
      "cell_type": "code",
      "metadata": {
        "id": "ifThy2GD6waU"
      },
      "source": [
        "data_new.ReservationStatusDate = pd.to_datetime(data_new.ReservationStatusDate)\n",
        "data_new.ArrivalDate = pd.to_datetime(data_new.ArrivalDate)"
      ],
      "execution_count": null,
      "outputs": []
    },
    {
      "cell_type": "code",
      "metadata": {
        "id": "b7seIP7zJxzu",
        "colab": {
          "base_uri": "https://localhost:8080/"
        },
        "outputId": "70542fdd-0eb2-40d1-cdef-5d5050c60a6c"
      },
      "source": [
        "!curl -O http://txcdn.ydchen.cn/entrez.zip"
      ],
      "execution_count": null,
      "outputs": [
        {
          "output_type": "stream",
          "name": "stdout",
          "text": [
            "  % Total    % Received % Xferd  Average Speed   Time    Time     Time  Current\n",
            "                                 Dload  Upload   Total   Spent    Left  Speed\n",
            "100  167k  100  167k    0     0   328k      0 --:--:-- --:--:-- --:--:--  328k\n"
          ]
        }
      ]
    },
    {
      "cell_type": "code",
      "metadata": {
        "id": "Ji67hvX09rVb"
      },
      "source": [
        "# sns.pairplot(data_new, corner=True)"
      ],
      "execution_count": null,
      "outputs": []
    },
    {
      "cell_type": "code",
      "metadata": {
        "id": "ujwtHK-j6UG1"
      },
      "source": [
        "cat_feature = ['Meal', \n",
        "               'Country',\n",
        "               \"MarketSegment\",\n",
        "               \"DistributionChannel\",\n",
        "               \"ReservedRoomType\",\n",
        "               \"AssignedRoomType\",\n",
        "               \"DepositType\",\n",
        "               \"Agent\",\n",
        "               \"CustomerType\",\n",
        "               \"ReservationStatus\"]\n",
        "for i in cat_feature:\n",
        "  data_new[i] = data_new[i].astype('category').cat.codes\n",
        "\n",
        "\n",
        "#converting dates to unix timestamp\n",
        "dates = pd.to_datetime(data_new['ArrivalDate'])\n",
        "data_new['ArrivalDate'] = (dates - pd.Timestamp(\"1970-01-01\")) // pd.Timedelta('1s') \n",
        "dates = pd.to_datetime(data_new['ReservationStatusDate'])\n",
        "data_new['ReservationStatusDate'] = (dates - pd.Timestamp(\"1970-01-01\")) // pd.Timedelta('1s')\n",
        "data_new.drop('ReservationStatus', axis=1, inplace=True)\n"
      ],
      "execution_count": null,
      "outputs": []
    },
    {
      "cell_type": "code",
      "metadata": {
        "colab": {
          "base_uri": "https://localhost:8080/"
        },
        "id": "WBPLaRLfLcqy",
        "outputId": "fd05b5de-b4d8-471a-c25c-ca593886237c"
      },
      "source": [
        "data_new.info()"
      ],
      "execution_count": null,
      "outputs": [
        {
          "output_type": "stream",
          "name": "stdout",
          "text": [
            "<class 'pandas.core.frame.DataFrame'>\n",
            "Int64Index: 26088 entries, 0 to 26087\n",
            "Data columns (total 26 columns):\n",
            " #   Column                       Non-Null Count  Dtype  \n",
            "---  ------                       --------------  -----  \n",
            " 0   IsCanceled                   26088 non-null  int64  \n",
            " 1   LeadTime                     26088 non-null  int64  \n",
            " 2   ArrivalDate                  26088 non-null  int64  \n",
            " 3   StaysInWeekendNights         26088 non-null  int64  \n",
            " 4   StaysInWeekNights            26088 non-null  int64  \n",
            " 5   Adults                       26088 non-null  int64  \n",
            " 6   Children                     26088 non-null  int64  \n",
            " 7   Babies                       26088 non-null  int64  \n",
            " 8   Meal                         26088 non-null  int8   \n",
            " 9   Country                      26088 non-null  int8   \n",
            " 10  MarketSegment                26088 non-null  int8   \n",
            " 11  DistributionChannel          26088 non-null  int8   \n",
            " 12  IsRepeatedGuest              26088 non-null  int64  \n",
            " 13  PreviousCancellations        26088 non-null  int64  \n",
            " 14  PreviousBookingsNotCanceled  26088 non-null  int64  \n",
            " 15  ReservedRoomType             26088 non-null  int8   \n",
            " 16  AssignedRoomType             26088 non-null  int8   \n",
            " 17  BookingChanges               26088 non-null  float64\n",
            " 18  DepositType                  26088 non-null  int8   \n",
            " 19  Agent                        26088 non-null  int16  \n",
            " 20  DaysInWaitingList            26088 non-null  float64\n",
            " 21  CustomerType                 26088 non-null  int8   \n",
            " 22  ADR                          26088 non-null  float64\n",
            " 23  RequiredCarParkingSpaces     26088 non-null  float64\n",
            " 24  TotalOfSpecialRequests       26088 non-null  float64\n",
            " 25  ReservationStatusDate        26088 non-null  int64  \n",
            "dtypes: float64(5), int16(1), int64(12), int8(8)\n",
            "memory usage: 3.8 MB\n"
          ]
        }
      ]
    },
    {
      "cell_type": "markdown",
      "metadata": {
        "id": "5ukBtjrEYG5V"
      },
      "source": [
        "## 1.4 Data Normalisation"
      ]
    },
    {
      "cell_type": "code",
      "metadata": {
        "id": "gZQrBGLlVZLP"
      },
      "source": [
        "#from sklearn.preprocessing import MinMaxScaler\n",
        "#trans = MinMaxScaler()\n",
        "#data_new = pd.DataFrame(trans.fit_transform(data_new))\n",
        "# data_new.columns\n",
        "#from sklearn.preprocessing import MinMaxScaler\n",
        "#trans = MinMaxScaler()\n",
        "#data_new = pd.DataFrame(trans.fit_transform(data_new))\n",
        "#from sklearn.model_selection import train_test_split\n",
        "#X = data_new.drop([0], axis = 1)\n",
        "#y = data_new[0]"
      ],
      "execution_count": null,
      "outputs": []
    },
    {
      "cell_type": "code",
      "metadata": {
        "id": "Qnnse2baLxX3"
      },
      "source": [
        "from sklearn.model_selection import train_test_split\n",
        "X = data_new.drop([\"IsCanceled\"], axis = 1)\n",
        "y = data_new[\"IsCanceled\"]\n",
        "X_train, X_test, y_train, y_test = train_test_split(X, y, test_size = 0.2, stratify = y)"
      ],
      "execution_count": null,
      "outputs": []
    },
    {
      "cell_type": "code",
      "metadata": {
        "id": "TW4yaMuKu-1L"
      },
      "source": [
        "from sklearn.tree import DecisionTreeClassifier   \n",
        "from sklearn.ensemble import RandomForestClassifier   \n",
        "from sklearn.linear_model import LogisticRegression  \n",
        "from sklearn.dummy import DummyClassifier"
      ],
      "execution_count": null,
      "outputs": []
    },
    {
      "cell_type": "markdown",
      "metadata": {
        "id": "IhiI5w1fYMmP"
      },
      "source": [
        "## 1.5 Dummy classification"
      ]
    },
    {
      "cell_type": "code",
      "metadata": {
        "colab": {
          "base_uri": "https://localhost:8080/"
        },
        "id": "JamG9EMDvNGx",
        "outputId": "2f7c9584-46b4-444e-d08a-387a21553f35"
      },
      "source": [
        "# establish baseline performance\n",
        "# Step 1: Declare variable with model Object\n",
        "dummy = DummyClassifier()\n",
        "# Step 2: Fit the train data in the model\n",
        "dummy.fit(X_train, y_train)\n",
        "# Step 3: Make a prediction using the trained model \n",
        "dummy_pred = dummy.predict(X_test)"
      ],
      "execution_count": null,
      "outputs": [
        {
          "output_type": "stream",
          "name": "stderr",
          "text": [
            "/usr/local/lib/python3.7/dist-packages/sklearn/dummy.py:132: FutureWarning: The default value of strategy will change from stratified to prior in 0.24.\n",
            "  \"stratified to prior in 0.24.\", FutureWarning)\n"
          ]
        }
      ]
    },
    {
      "cell_type": "code",
      "metadata": {
        "colab": {
          "base_uri": "https://localhost:8080/",
          "height": 282
        },
        "id": "6-gBfzfE53Vn",
        "outputId": "a0562ef6-1bef-481c-dc7f-d2f02c27704d"
      },
      "source": [
        "plt.scatter(y_test, dummy_pred)"
      ],
      "execution_count": null,
      "outputs": [
        {
          "output_type": "execute_result",
          "data": {
            "text/plain": [
              "<matplotlib.collections.PathCollection at 0x7f3e680e4b90>"
            ]
          },
          "metadata": {},
          "execution_count": 164
        },
        {
          "output_type": "display_data",
          "data": {
            "image/png": "[encoded data removed]",
            "text/plain": [
              "<Figure size 432x288 with 1 Axes>"
            ]
          },
          "metadata": {
            "needs_background": "light"
          }
        }
      ]
    },
    {
      "cell_type": "code",
      "metadata": {
        "colab": {
          "base_uri": "https://localhost:8080/"
        },
        "id": "k4tfFr36MRAL",
        "outputId": "4e4a10b9-7489-4c52-a625-6f87ebd813c6"
      },
      "source": [
        "from sklearn.metrics import mean_squared_error, f1_score, confusion_matrix, classification_report\n",
        "print(np.sqrt(mean_squared_error(y_test, dummy_pred)))\n",
        "print(confusion_matrix(y_test, dummy_pred))\n",
        "print(classification_report(y_test, dummy_pred))"
      ],
      "execution_count": null,
      "outputs": [
        {
          "output_type": "stream",
          "name": "stdout",
          "text": [
            "0.698791597832997\n",
            "[[1746 1251]\n",
            " [1297  924]]\n",
            "              precision    recall  f1-score   support\n",
            "\n",
            "           0       0.57      0.58      0.58      2997\n",
            "           1       0.42      0.42      0.42      2221\n",
            "\n",
            "    accuracy                           0.51      5218\n",
            "   macro avg       0.50      0.50      0.50      5218\n",
            "weighted avg       0.51      0.51      0.51      5218\n",
            "\n"
          ]
        }
      ]
    },
    {
      "cell_type": "markdown",
      "metadata": {
        "id": "w44Y9Rq0YU6d"
      },
      "source": [
        "## 1.5 Decision Tree classification"
      ]
    },
    {
      "cell_type": "code",
      "metadata": {
        "id": "SQ9nAEHQMsvO"
      },
      "source": [
        "# Step 1: Declare variable with model Object\n",
        "dt = DecisionTreeClassifier()\n",
        "# Step 2: Fit the train data in the model\n",
        "dt.fit(X_train, y_train)\n",
        "# Step 3: Make a prediction using the trained model \n",
        "dt_pred = dt.predict(X_test)"
      ],
      "execution_count": null,
      "outputs": []
    },
    {
      "cell_type": "code",
      "metadata": {
        "colab": {
          "base_uri": "https://localhost:8080/",
          "height": 358
        },
        "id": "LRbHVBUsRuxD",
        "outputId": "485e521a-7bcf-4191-bcc5-772ddea34caf"
      },
      "source": [
        "print(np.sqrt(mean_squared_error(y_test, dt_pred)))\n",
        "print(confusion_matrix(y_test, dt_pred))\n",
        "print(classification_report(y_test, dt_pred))\n",
        "from sklearn import tree\n",
        "tree.export_text(dt)"
      ],
      "execution_count": null,
      "outputs": [
        {
          "output_type": "stream",
          "name": "stdout",
          "text": [
            "0.21176583319881212\n",
            "[[2900   97]\n",
            " [ 137 2084]]\n",
            "              precision    recall  f1-score   support\n",
            "\n",
            "           0       0.95      0.97      0.96      2997\n",
            "           1       0.96      0.94      0.95      2221\n",
            "\n",
            "    accuracy                           0.96      5218\n",
            "   macro avg       0.96      0.95      0.95      5218\n",
            "weighted avg       0.96      0.96      0.96      5218\n",
            "\n"
          ]
        },
        {
          "output_type": "execute_result",
          "data": {
            "application/vnd.google.colaboratory.intrinsic+json": {
              "type": "string"
            },
            "text/plain": [
              "'|--- feature_1 <= 1468584000.00\\n|   |--- feature_8 <= 82.50\\n|   |   |--- feature_12 <= 0.50\\n|   |   |   |--- feature_17 <= 0.50\\n|   |   |   |   |--- feature_1 <= 1460203200.00\\n|   |   |   |   |   |--- feature_24 <= 1435017600.00\\n|   |   |   |   |   |   |--- class: 1\\n|   |   |   |   |   |--- feature_24 >  1435017600.00\\n|   |   |   |   |   |   |--- feature_1 <= 1458388800.00\\n|   |   |   |   |   |   |   |--- feature_7 <= 2.50\\n|   |   |   |   |   |   |   |   |--- feature_1 <= 1457438400.00\\n|   |   |   |   |   |   |   |   |   |--- feature_14 <= 3.50\\n|   |   |   |   |   |   |   |   |   |   |--- feature_8 <= 50.50\\n|   |   |   |   |   |   |   |   |   |   |   |--- class: 0\\n|   |   |   |   |   |   |   |   |   |   |--- feature_8 >  50.50\\n|   |   |   |   |   |   |   |   |   |   |   |--- truncated branch of depth 5\\n|   |   |   |   |   |   |   |   |   |--- feature_14 >  3.50\\n|   |   |   |   |   |   |   |   |   |   |--- feature_18 <= 84.00\\n|   |   |   |   |   |   |   |   |   |   |   |--- truncated branch of depth 3\\n|   |   |   |   |   |   |   |   |   |   |--- feature_18 >  84.00\\n|   |   |   |   |   |   |   |   |   |   |   |--- truncated branch of depth 5\\n|   |   |   |   |   |   |   |   |--- feature_1 >  1457438400.00\\n|   |   |   |   |   |   |   |   |   |--- feature_24 <= 1457308800.00\\n|   |   |   |   |   |   |   |   |   |   |--- class: 1\\n|   |   |   |   |   |   |   |   |   |--- feature_24 >  1457308800.00\\n|   |   |   |   |   |   |   |   |   |   |--- feature_0 <= 0.50\\n|   |   |   |   |   |   |   |   |   |   |   |--- truncated branch of depth 4\\n|   |   |   |   |   |   |   |   |   |   |--- feature_0 >  0.50\\n|   |   |   |   |   |   |   |   |   |   |   |--- class: 0\\n|   |   |   |   |   |   |   |--- feature_7 >  2.50\\n|   |   |   |   |   |   |   |   |--- feature_0 <= 117.50\\n|   |   |   |   |   |   |   |   |   |--- class: 0\\n|   |   |   |   |   |   |   |   |--- feature_0 >  117.50\\n|   |   |   |   |   |   |   |   |   |--- class: 1\\n|   |   |   |   |   |   |--- feature_1 >  1458388800.00\\n|   |   |   |   |   |   |   |--- feature_24 <= 1458475200.00\\n|   |   |   |   |   |   |   |   |--- class: 1\\n|   |   |   |   |   |   |   |--- feature_24 >  1458475200.00\\n|   |   |   |   |   |   |   |   |--- feature_24 <= 1458561600.00\\n|   |   |   |   |   |   |   |   |   |--- feature_21 <= 76.00\\n|   |   |   |   |   |   |   |   |   |   |--- class: 0\\n|   |   |   |   |   |   |   |   |   |--- feature_21 >  76.00\\n|   |   |   |   |   |   |   |   |   |   |--- class: 1\\n|   |   |   |   |   |   |   |   |--- feature_24 >  1458561600.00\\n|   |   |   |   |   |   |   |   |   |--- feature_0 <= 15.50\\n|   |   |   |   |   |   |   |   |   |   |--- feature_0 <= 10.50\\n|   |   |   |   |   |   |   |   |   |   |   |--- class: 0\\n|   |   |   |   |   |   |   |   |   |   |--- feature_0 >  10.50\\n|   |   |   |   |   |   |   |   |   |   |   |--- truncated branch of depth 3\\n|   |   |   |   |   |   |   |   |   |--- feature_0 >  15.50\\n|   |   |   |   |   |   |   |   |   |   |--- class: 0\\n|   |   |   |   |--- feature_1 >  1460203200.00\\n|   |   |   |   |   |--- feature_24 <= 1460289600.00\\n|   |   |   |   |   |   |--- class: 1\\n|   |   |   |   |   |--- feature_24 >  1460289600.00\\n|   |   |   |   |   |   |--- feature_21 <= 112.85\\n|   |   |   |   |   |   |   |--- feature_24 <= 1460548800.00\\n|   |   |   |   |   |   |   |   |--- feature_1 <= 1460505600.00\\n|   |   |   |   |   |   |   |   |   |--- class: 0\\n|   |   |   |   |   |   |   |   |--- feature_1 >  1460505600.00\\n|   |   |   |   |   |   |   |   |   |--- class: 1\\n|   |   |   |   |   |   |   |--- feature_24 >  1460548800.00\\n|   |   |   |   |   |   |   |   |--- feature_0 <= 68.50\\n|   |   |   |   |   |   |   |   |   |--- feature_9 <= 4.50\\n|   |   |   |   |   |   |   |   |   |   |--- feature_24 <= 1460721600.00\\n|   |   |   |   |   |   |   |   |   |   |   |--- truncated branch of depth 2\\n|   |   |   |   |   |   |   |   |   |   |--- feature_24 >  1460721600.00\\n|   |   |   |   |   |   |   |   |   |   |   |--- class: 0\\n|   |   |   |   |   |   |   |   |   |--- feature_9 >  4.50\\n|   |   |   |   |   |   |   |   |   |   |--- feature_24 <= 1462449600.00\\n|   |   |   |   |   |   |   |   |   |   |   |--- truncated branch of depth 6\\n|   |   |   |   |   |   |   |   |   |   |--- feature_24 >  1462449600.00\\n|   |   |   |   |   |   |   |   |   |   |   |--- truncated branch of depth 5\\n|   |   |   |   |   |   |   |   |--- feature_0 >  68.50\\n|   |   |   |   |   |   |   |   |   |--- feature_6 <= 0.50\\n|   |   |   |   |   |   |   |   |   |   |--- feature_21 <= 106.85\\n|   |   |   |   |   |   |   |   |   |   |   |--- class: 0\\n|   |   |   |   |   |   |   |   |   |   |--- feature_21 >  106.85\\n|   |   |   |   |   |   |   |   |   |   |   |--- truncated branch of depth 3\\n|   |   |   |   |   |   |   |   |   |--- feature_6 >  0.50\\n|   |   |   |   |   |   |   |   |   |   |--- feature_8 <= 66.00\\n|   |   |   |   |   |   |   |   |   |   |   |--- class: 0\\n|   |   |   |   |   |   |   |   |   |   |--- feature_8 >  66.00\\n|   |   |   |   |   |   |   |   |   |   |   |--- class: 1\\n|   |   |   |   |   |   |--- feature_21 >  112.85\\n|   |   |   |   |   |   |   |--- feature_24 <= 1462968000.00\\n|   |   |   |   |   |   |   |   |--- feature_1 <= 1462881600.00\\n|   |   |   |   |   |   |   |   |   |--- feature_24 <= 1461110400.00\\n|   |   |   |   |   |   |   |   |   |   |--- feature_15 <= 5.00\\n|   |   |   |   |   |   |   |   |   |   |   |--- class: 1\\n|   |   |   |   |   |   |   |   |   |   |--- feature_15 >  5.00\\n|   |   |   |   |   |   |   |   |   |   |   |--- class: 0\\n|   |   |   |   |   |   |   |   |   |--- feature_24 >  1461110400.00\\n|   |   |   |   |   |   |   |   |   |   |--- feature_0 <= 0.50\\n|   |   |   |   |   |   |   |   |   |   |   |--- class: 1\\n|   |   |   |   |   |   |   |   |   |   |--- feature_0 >  0.50\\n|   |   |   |   |   |   |   |   |   |   |   |--- truncated branch of depth 4\\n|   |   |   |   |   |   |   |   |--- feature_1 >  1462881600.00\\n|   |   |   |   |   |   |   |   |   |--- class: 1\\n|   |   |   |   |   |   |   |--- feature_24 >  1462968000.00\\n|   |   |   |   |   |   |   |   |--- feature_23 <= 0.50\\n|   |   |   |   |   |   |   |   |   |--- feature_22 <= 0.50\\n|   |   |   |   |   |   |   |   |   |   |--- feature_21 <= 158.93\\n|   |   |   |   |   |   |   |   |   |   |   |--- truncated branch of depth 5\\n|   |   |   |   |   |   |   |   |   |   |--- feature_21 >  158.93\\n|   |   |   |   |   |   |   |   |   |   |   |--- truncated branch of depth 5\\n|   |   |   |   |   |   |   |   |   |--- feature_22 >  0.50\\n|   |   |   |   |   |   |   |   |   |   |--- class: 0\\n|   |   |   |   |   |   |   |   |--- feature_23 >  0.50\\n|   |   |   |   |   |   |   |   |   |--- feature_6 <= 0.50\\n|   |   |   |   |   |   |   |   |   |   |--- class: 0\\n|   |   |   |   |   |   |   |   |   |--- feature_6 >  0.50\\n|   |   |   |   |   |   |   |   |   |   |--- feature_24 <= 1465560000.00\\n|   |   |   |   |   |   |   |   |   |   |   |--- class: 1\\n|   |   |   |   |   |   |   |   |   |   |--- feature_24 >  1465560000.00\\n|   |   |   |   |   |   |   |   |   |   |   |--- class: 0\\n|   |   |   |--- feature_17 >  0.50\\n|   |   |   |   |--- feature_24 <= 1456444800.00\\n|   |   |   |   |   |--- feature_2 <= 0.50\\n|   |   |   |   |   |   |--- class: 0\\n|   |   |   |   |   |--- feature_2 >  0.50\\n|   |   |   |   |   |   |--- class: 1\\n|   |   |   |   |--- feature_24 >  1456444800.00\\n|   |   |   |   |   |--- class: 0\\n|   |   |--- feature_12 >  0.50\\n|   |   |   |--- class: 1\\n|   |--- feature_8 >  82.50\\n|   |   |--- feature_0 <= 29.50\\n|   |   |   |--- feature_0 <= 6.50\\n|   |   |   |   |--- feature_17 <= 0.50\\n|   |   |   |   |   |--- feature_24 <= 1444046400.00\\n|   |   |   |   |   |   |--- feature_1 <= 1444003200.00\\n|   |   |   |   |   |   |   |--- feature_3 <= 5.50\\n|   |   |   |   |   |   |   |   |--- feature_21 <= 255.16\\n|   |   |   |   |   |   |   |   |   |--- feature_24 <= 1435752000.00\\n|   |   |   |   |   |   |   |   |   |   |--- class: 1\\n|   |   |   |   |   |   |   |   |   |--- feature_24 >  1435752000.00\\n|   |   |   |   |   |   |   |   |   |   |--- feature_18 <= 58.00\\n|   |   |   |   |   |   |   |   |   |   |   |--- truncated branch of depth 4\\n|   |   |   |   |   |   |   |   |   |   |--- feature_18 >  58.00\\n|   |   |   |   |   |   |   |   |   |   |   |--- truncated branch of depth 14\\n|   |   |   |   |   |   |   |   |--- feature_21 >  255.16\\n|   |   |   |   |   |   |   |   |   |--- class: 1\\n|   |   |   |   |   |   |   |--- feature_3 >  5.50\\n|   |   |   |   |   |   |   |   |--- class: 1\\n|   |   |   |   |   |   |--- feature_1 >  1444003200.00\\n|   |   |   |   |   |   |   |--- class: 1\\n|   |   |   |   |   |--- feature_24 >  1444046400.00\\n|   |   |   |   |   |   |--- feature_22 <= 0.50\\n|   |   |   |   |   |   |   |--- feature_21 <= 50.20\\n|   |   |   |   |   |   |   |   |--- feature_14 <= 7.50\\n|   |   |   |   |   |   |   |   |   |--- feature_24 <= 1466467200.00\\n|   |   |   |   |   |   |   |   |   |   |--- feature_24 <= 1447848000.00\\n|   |   |   |   |   |   |   |   |   |   |   |--- truncated branch of depth 8\\n|   |   |   |   |   |   |   |   |   |   |--- feature_24 >  1447848000.00\\n|   |   |   |   |   |   |   |   |   |   |   |--- truncated branch of depth 14\\n|   |   |   |   |   |   |   |   |   |--- feature_24 >  1466467200.00\\n|   |   |   |   |   |   |   |   |   |   |--- feature_21 <= 4.00\\n|   |   |   |   |   |   |   |   |   |   |   |--- class: 0\\n|   |   |   |   |   |   |   |   |   |   |--- feature_21 >  4.00\\n|   |   |   |   |   |   |   |   |   |   |   |--- class: 1\\n|   |   |   |   |   |   |   |   |--- feature_14 >  7.50\\n|   |   |   |   |   |   |   |   |   |--- class: 1\\n|   |   |   |   |   |   |   |--- feature_21 >  50.20\\n|   |   |   |   |   |   |   |   |--- feature_0 <= 2.50\\n|   |   |   |   |   |   |   |   |   |--- feature_3 <= 4.50\\n|   |   |   |   |   |   |   |   |   |   |--- feature_1 <= 1461844800.00\\n|   |   |   |   |   |   |   |   |   |   |   |--- truncated branch of depth 14\\n|   |   |   |   |   |   |   |   |   |   |--- feature_1 >  1461844800.00\\n|   |   |   |   |   |   |   |   |   |   |   |--- truncated branch of depth 10\\n|   |   |   |   |   |   |   |   |   |--- feature_3 >  4.50\\n|   |   |   |   |   |   |   |   |   |   |--- feature_24 <= 1459814400.00\\n|   |   |   |   |   |   |   |   |   |   |   |--- truncated branch of depth 2\\n|   |   |   |   |   |   |   |   |   |   |--- feature_24 >  1459814400.00\\n|   |   |   |   |   |   |   |   |   |   |   |--- class: 0\\n|   |   |   |   |   |   |   |   |--- feature_0 >  2.50\\n|   |   |   |   |   |   |   |   |   |--- feature_8 <= 88.50\\n|   |   |   |   |   |   |   |   |   |   |--- feature_10 <= 0.50\\n|   |   |   |   |   |   |   |   |   |   |   |--- truncated branch of depth 7\\n|   |   |   |   |   |   |   |   |   |   |--- feature_10 >  0.50\\n|   |   |   |   |   |   |   |   |   |   |   |--- truncated branch of depth 11\\n|   |   |   |   |   |   |   |   |   |--- feature_8 >  88.50\\n|   |   |   |   |   |   |   |   |   |   |--- feature_14 <= 4.50\\n|   |   |   |   |   |   |   |   |   |   |   |--- class: 1\\n|   |   |   |   |   |   |   |   |   |   |--- feature_14 >  4.50\\n|   |   |   |   |   |   |   |   |   |   |   |--- class: 0\\n|   |   |   |   |   |   |--- feature_22 >  0.50\\n|   |   |   |   |   |   |   |--- class: 0\\n|   |   |   |   |--- feature_17 >  0.50\\n|   |   |   |   |   |--- feature_18 <= 100.50\\n|   |   |   |   |   |   |--- class: 1\\n|   |   |   |   |   |--- feature_18 >  100.50\\n|   |   |   |   |   |   |--- class: 0\\n|   |   |   |--- feature_0 >  6.50\\n|   |   |   |   |--- feature_22 <= 0.50\\n|   |   |   |   |   |--- feature_21 <= 51.88\\n|   |   |   |   |   |   |--- feature_15 <= 1.00\\n|   |   |   |   |   |   |   |--- feature_0 <= 18.50\\n|   |   |   |   |   |   |   |   |--- feature_1 <= 1450785600.00\\n|   |   |   |   |   |   |   |   |   |--- feature_12 <= 0.50\\n|   |   |   |   |   |   |   |   |   |   |--- feature_5 <= 0.50\\n|   |   |   |   |   |   |   |   |   |   |   |--- truncated branch of depth 3\\n|   |   |   |   |   |   |   |   |   |   |--- feature_5 >  0.50\\n|   |   |   |   |   |   |   |   |   |   |   |--- class: 1\\n|   |   |   |   |   |   |   |   |   |--- feature_12 >  0.50\\n|   |   |   |   |   |   |   |   |   |   |--- class: 1\\n|   |   |   |   |   |   |   |   |--- feature_1 >  1450785600.00\\n|   |   |   |   |   |   |   |   |   |--- feature_9 <= 4.50\\n|   |   |   |   |   |   |   |   |   |   |--- feature_9 <= 0.50\\n|   |   |   |   |   |   |   |   |   |   |   |--- class: 1\\n|   |   |   |   |   |   |   |   |   |   |--- feature_9 >  0.50\\n|   |   |   |   |   |   |   |   |   |   |   |--- truncated branch of depth 8\\n|   |   |   |   |   |   |   |   |   |--- feature_9 >  4.50\\n|   |   |   |   |   |   |   |   |   |   |--- feature_20 <= 2.50\\n|   |   |   |   |   |   |   |   |   |   |   |--- truncated branch of depth 4\\n|   |   |   |   |   |   |   |   |   |   |--- feature_20 >  2.50\\n|   |   |   |   |   |   |   |   |   |   |   |--- class: 0\\n|   |   |   |   |   |   |   |--- feature_0 >  18.50\\n|   |   |   |   |   |   |   |   |--- feature_24 <= 1444305600.00\\n|   |   |   |   |   |   |   |   |   |--- class: 1\\n|   |   |   |   |   |   |   |   |--- feature_24 >  1444305600.00\\n|   |   |   |   |   |   |   |   |   |--- feature_9 <= 4.50\\n|   |   |   |   |   |   |   |   |   |   |--- feature_0 <= 24.50\\n|   |   |   |   |   |   |   |   |   |   |   |--- truncated branch of depth 4\\n|   |   |   |   |   |   |   |   |   |   |--- feature_0 >  24.50\\n|   |   |   |   |   |   |   |   |   |   |   |--- truncated branch of depth 2\\n|   |   |   |   |   |   |   |   |   |--- feature_9 >  4.50\\n|   |   |   |   |   |   |   |   |   |   |--- feature_24 <= 1457395200.00\\n|   |   |   |   |   |   |   |   |   |   |   |--- truncated branch of depth 4\\n|   |   |   |   |   |   |   |   |   |   |--- feature_24 >  1457395200.00\\n|   |   |   |   |   |   |   |   |   |   |   |--- class: 0\\n|   |   |   |   |   |   |--- feature_15 >  1.00\\n|   |   |   |   |   |   |   |--- feature_14 <= 2.50\\n|   |   |   |   |   |   |   |   |--- feature_3 <= 12.00\\n|   |   |   |   |   |   |   |   |   |--- feature_18 <= 4.50\\n|   |   |   |   |   |   |   |   |   |   |--- feature_3 <= 1.50\\n|   |   |   |   |   |   |   |   |   |   |   |--- truncated branch of depth 2\\n|   |   |   |   |   |   |   |   |   |   |--- feature_3 >  1.50\\n|   |   |   |   |   |   |   |   |   |   |   |--- class: 0\\n|   |   |   |   |   |   |   |   |   |--- feature_18 >  4.50\\n|   |   |   |   |   |   |   |   |   |   |--- feature_21 <= 42.50\\n|   |   |   |   |   |   |   |   |   |   |   |--- truncated branch of depth 5\\n|   |   |   |   |   |   |   |   |   |   |--- feature_21 >  42.50\\n|   |   |   |   |   |   |   |   |   |   |   |--- truncated branch of depth 5\\n|   |   |   |   |   |   |   |   |--- feature_3 >  12.00\\n|   |   |   |   |   |   |   |   |   |--- class: 1\\n|   |   |   |   |   |   |   |--- feature_14 >  2.50\\n|   |   |   |   |   |   |   |   |--- feature_12 <= 0.50\\n|   |   |   |   |   |   |   |   |   |--- feature_0 <= 19.50\\n|   |   |   |   |   |   |   |   |   |   |--- feature_18 <= 10.00\\n|   |   |   |   |   |   |   |   |   |   |   |--- class: 1\\n|   |   |   |   |   |   |   |   |   |   |--- feature_18 >  10.00\\n|   |   |   |   |   |   |   |   |   |   |   |--- truncated branch of depth 5\\n|   |   |   |   |   |   |   |   |   |--- feature_0 >  19.50\\n|   |   |   |   |   |   |   |   |   |   |--- feature_3 <= 3.50\\n|   |   |   |   |   |   |   |   |   |   |   |--- truncated branch of depth 3\\n|   |   |   |   |   |   |   |   |   |   |--- feature_3 >  3.50\\n|   |   |   |   |   |   |   |   |   |   |   |--- class: 0\\n|   |   |   |   |   |   |   |   |--- feature_12 >  0.50\\n|   |   |   |   |   |   |   |   |   |--- class: 1\\n|   |   |   |   |   |--- feature_21 >  51.88\\n|   |   |   |   |   |   |--- feature_12 <= 0.50\\n|   |   |   |   |   |   |   |--- feature_24 <= 1439553600.00\\n|   |   |   |   |   |   |   |   |--- feature_1 <= 1438257600.00\\n|   |   |   |   |   |   |   |   |   |--- feature_24 <= 1437091200.00\\n|   |   |   |   |   |   |   |   |   |   |--- feature_1 <= 1436616000.00\\n|   |   |   |   |   |   |   |   |   |   |   |--- truncated branch of depth 2\\n|   |   |   |   |   |   |   |   |   |   |--- feature_1 >  1436616000.00\\n|   |   |   |   |   |   |   |   |   |   |   |--- class: 1\\n|   |   |   |   |   |   |   |   |   |--- feature_24 >  1437091200.00\\n|   |   |   |   |   |   |   |   |   |   |--- feature_21 <= 221.12\\n|   |   |   |   |   |   |   |   |   |   |   |--- truncated branch of depth 3\\n|   |   |   |   |   |   |   |   |   |   |--- feature_21 >  221.12\\n|   |   |   |   |   |   |   |   |   |   |   |--- class: 1\\n|   |   |   |   |   |   |   |   |--- feature_1 >  1438257600.00\\n|   |   |   |   |   |   |   |   |   |--- feature_1 <= 1439208000.00\\n|   |   |   |   |   |   |   |   |   |   |--- feature_24 <= 1438430400.00\\n|   |   |   |   |   |   |   |   |   |   |   |--- class: 1\\n|   |   |   |   |   |   |   |   |   |   |--- feature_24 >  1438430400.00\\n|   |   |   |   |   |   |   |   |   |   |   |--- class: 0\\n|   |   |   |   |   |   |   |   |   |--- feature_1 >  1439208000.00\\n|   |   |   |   |   |   |   |   |   |   |--- class: 1\\n|   |   |   |   |   |   |   |--- feature_24 >  1439553600.00\\n|   |   |   |   |   |   |   |   |--- feature_23 <= 0.50\\n|   |   |   |   |   |   |   |   |   |--- feature_1 <= 1462622400.00\\n|   |   |   |   |   |   |   |   |   |   |--- feature_24 <= 1461931200.00\\n|   |   |   |   |   |   |   |   |   |   |   |--- truncated branch of depth 14\\n|   |   |   |   |   |   |   |   |   |   |--- feature_24 >  1461931200.00\\n|   |   |   |   |   |   |   |   |   |   |   |--- class: 0\\n|   |   |   |   |   |   |   |   |   |--- feature_1 >  1462622400.00\\n|   |   |   |   |   |   |   |   |   |   |--- feature_24 <= 1464609600.00\\n|   |   |   |   |   |   |   |   |   |   |   |--- truncated branch of depth 5\\n|   |   |   |   |   |   |   |   |   |   |--- feature_24 >  1464609600.00\\n|   |   |   |   |   |   |   |   |   |   |   |--- truncated branch of depth 6\\n|   |   |   |   |   |   |   |   |--- feature_23 >  0.50\\n|   |   |   |   |   |   |   |   |   |--- feature_1 <= 1446206400.00\\n|   |   |   |   |   |   |   |   |   |   |--- feature_14 <= 3.50\\n|   |   |   |   |   |   |   |   |   |   |   |--- truncated branch of depth 3\\n|   |   |   |   |   |   |   |   |   |   |--- feature_14 >  3.50\\n|   |   |   |   |   |   |   |   |   |   |   |--- truncated branch of depth 5\\n|   |   |   |   |   |   |   |   |   |--- feature_1 >  1446206400.00\\n|   |   |   |   |   |   |   |   |   |   |--- feature_24 <= 1448539200.00\\n|   |   |   |   |   |   |   |   |   |   |   |--- class: 1\\n|   |   |   |   |   |   |   |   |   |   |--- feature_24 >  1448539200.00\\n|   |   |   |   |   |   |   |   |   |   |   |--- truncated branch of depth 11\\n|   |   |   |   |   |   |--- feature_12 >  0.50\\n|   |   |   |   |   |   |   |--- feature_13 <= 1.50\\n|   |   |   |   |   |   |   |   |--- class: 1\\n|   |   |   |   |   |   |   |--- feature_13 >  1.50\\n|   |   |   |   |   |   |   |   |--- feature_0 <= 22.00\\n|   |   |   |   |   |   |   |   |   |--- class: 0\\n|   |   |   |   |   |   |   |   |--- feature_0 >  22.00\\n|   |   |   |   |   |   |   |   |   |--- class: 1\\n|   |   |   |   |--- feature_22 >  0.50\\n|   |   |   |   |   |--- class: 0\\n|   |   |--- feature_0 >  29.50\\n|   |   |   |--- feature_22 <= 0.50\\n|   |   |   |   |--- feature_17 <= 0.50\\n|   |   |   |   |   |--- feature_24 <= 1436011200.00\\n|   |   |   |   |   |   |--- feature_16 <= 2.50\\n|   |   |   |   |   |   |   |--- class: 1\\n|   |   |   |   |   |   |--- feature_16 >  2.50\\n|   |   |   |   |   |   |   |--- feature_0 <= 279.50\\n|   |   |   |   |   |   |   |   |--- class: 1\\n|   |   |   |   |   |   |   |--- feature_0 >  279.50\\n|   |   |   |   |   |   |   |   |--- class: 0\\n|   |   |   |   |   |--- feature_24 >  1436011200.00\\n|   |   |   |   |   |   |--- feature_1 <= 1440331200.00\\n|   |   |   |   |   |   |   |--- feature_24 <= 1439467200.00\\n|   |   |   |   |   |   |   |   |--- feature_1 <= 1438948800.00\\n|   |   |   |   |   |   |   |   |   |--- feature_12 <= 0.50\\n|   |   |   |   |   |   |   |   |   |   |--- feature_24 <= 1437048000.00\\n|   |   |   |   |   |   |   |   |   |   |   |--- truncated branch of depth 4\\n|   |   |   |   |   |   |   |   |   |   |--- feature_24 >  1437048000.00\\n|   |   |   |   |   |   |   |   |   |   |   |--- truncated branch of depth 5\\n|   |   |   |   |   |   |   |   |   |--- feature_12 >  0.50\\n|   |   |   |   |   |   |   |   |   |   |--- class: 1\\n|   |   |   |   |   |   |   |   |--- feature_1 >  1438948800.00\\n|   |   |   |   |   |   |   |   |   |--- feature_24 <= 1439078400.00\\n|   |   |   |   |   |   |   |   |   |   |--- class: 1\\n|   |   |   |   |   |   |   |   |   |--- feature_24 >  1439078400.00\\n|   |   |   |   |   |   |   |   |   |   |--- feature_1 <= 1439294400.00\\n|   |   |   |   |   |   |   |   |   |   |   |--- class: 0\\n|   |   |   |   |   |   |   |   |   |   |--- feature_1 >  1439294400.00\\n|   |   |   |   |   |   |   |   |   |   |   |--- truncated branch of depth 3\\n|   |   |   |   |   |   |   |--- feature_24 >  1439467200.00\\n|   |   |   |   |   |   |   |   |--- feature_21 <= 257.00\\n|   |   |   |   |   |   |   |   |   |--- feature_20 <= 1.00\\n|   |   |   |   |   |   |   |   |   |   |--- feature_7 <= 1.00\\n|   |   |   |   |   |   |   |   |   |   |   |--- class: 0\\n|   |   |   |   |   |   |   |   |   |   |--- feature_7 >  1.00\\n|   |   |   |   |   |   |   |   |   |   |   |--- class: 1\\n|   |   |   |   |   |   |   |   |   |--- feature_20 >  1.00\\n|   |   |   |   |   |   |   |   |   |   |--- class: 0\\n|   |   |   |   |   |   |   |   |--- feature_21 >  257.00\\n|   |   |   |   |   |   |   |   |   |--- class: 1\\n|   |   |   |   |   |   |--- feature_1 >  1440331200.00\\n|   |   |   |   |   |   |   |--- feature_18 <= 118.50\\n|   |   |   |   |   |   |   |   |--- feature_8 <= 83.50\\n|   |   |   |   |   |   |   |   |   |--- feature_21 <= 4.00\\n|   |   |   |   |   |   |   |   |   |   |--- feature_24 <= 1442275200.00\\n|   |   |   |   |   |   |   |   |   |   |   |--- class: 1\\n|   |   |   |   |   |   |   |   |   |   |--- feature_24 >  1442275200.00\\n|   |   |   |   |   |   |   |   |   |   |   |--- truncated branch of depth 5\\n|   |   |   |   |   |   |   |   |   |--- feature_21 >  4.00\\n|   |   |   |   |   |   |   |   |   |   |--- feature_24 <= 1462536000.00\\n|   |   |   |   |   |   |   |   |   |   |   |--- truncated branch of depth 15\\n|   |   |   |   |   |   |   |   |   |   |--- feature_24 >  1462536000.00\\n|   |   |   |   |   |   |   |   |   |   |   |--- truncated branch of depth 10\\n|   |   |   |   |   |   |   |   |--- feature_8 >  83.50\\n|   |   |   |   |   |   |   |   |   |--- feature_21 <= 191.50\\n|   |   |   |   |   |   |   |   |   |   |--- feature_3 <= 0.50\\n|   |   |   |   |   |   |   |   |   |   |   |--- class: 1\\n|   |   |   |   |   |   |   |   |   |   |--- feature_3 >  0.50\\n|   |   |   |   |   |   |   |   |   |   |   |--- truncated branch of depth 5\\n|   |   |   |   |   |   |   |   |   |--- feature_21 >  191.50\\n|   |   |   |   |   |   |   |   |   |   |--- feature_24 <= 1453204800.00\\n|   |   |   |   |   |   |   |   |   |   |   |--- class: 0\\n|   |   |   |   |   |   |   |   |   |   |--- feature_24 >  1453204800.00\\n|   |   |   |   |   |   |   |   |   |   |   |--- class: 1\\n|   |   |   |   |   |   |   |--- feature_18 >  118.50\\n|   |   |   |   |   |   |   |   |--- feature_7 <= 2.50\\n|   |   |   |   |   |   |   |   |   |--- feature_7 <= 0.50\\n|   |   |   |   |   |   |   |   |   |   |--- feature_21 <= 26.00\\n|   |   |   |   |   |   |   |   |   |   |   |--- truncated branch of depth 5\\n|   |   |   |   |   |   |   |   |   |   |--- feature_21 >  26.00\\n|   |   |   |   |   |   |   |   |   |   |   |--- truncated branch of depth 13\\n|   |   |   |   |   |   |   |   |   |--- feature_7 >  0.50\\n|   |   |   |   |   |   |   |   |   |   |--- feature_20 <= 2.50\\n|   |   |   |   |   |   |   |   |   |   |   |--- truncated branch of depth 4\\n|   |   |   |   |   |   |   |   |   |   |--- feature_20 >  2.50\\n|   |   |   |   |   |   |   |   |   |   |   |--- truncated branch of depth 4\\n|   |   |   |   |   |   |   |   |--- feature_7 >  2.50\\n|   |   |   |   |   |   |   |   |   |--- feature_21 <= 38.83\\n|   |   |   |   |   |   |   |   |   |   |--- feature_21 <= 16.75\\n|   |   |   |   |   |   |   |   |   |   |   |--- class: 0\\n|   |   |   |   |   |   |   |   |   |   |--- feature_21 >  16.75\\n|   |   |   |   |   |   |   |   |   |   |   |--- class: 1\\n|   |   |   |   |   |   |   |   |   |--- feature_21 >  38.83\\n|   |   |   |   |   |   |   |   |   |   |--- class: 0\\n|   |   |   |   |--- feature_17 >  0.50\\n|   |   |   |   |   |--- feature_17 <= 1.50\\n|   |   |   |   |   |   |--- feature_20 <= 2.50\\n|   |   |   |   |   |   |   |--- class: 1\\n|   |   |   |   |   |   |--- feature_20 >  2.50\\n|   |   |   |   |   |   |   |--- feature_24 <= 1459814400.00\\n|   |   |   |   |   |   |   |   |--- class: 1\\n|   |   |   |   |   |   |   |--- feature_24 >  1459814400.00\\n|   |   |   |   |   |   |   |   |--- feature_10 <= 1.50\\n|   |   |   |   |   |   |   |   |   |--- class: 1\\n|   |   |   |   |   |   |   |   |--- feature_10 >  1.50\\n|   |   |   |   |   |   |   |   |   |--- class: 0\\n|   |   |   |   |   |--- feature_17 >  1.50\\n|   |   |   |   |   |   |--- feature_24 <= 1459209600.00\\n|   |   |   |   |   |   |   |--- class: 1\\n|   |   |   |   |   |   |--- feature_24 >  1459209600.00\\n|   |   |   |   |   |   |   |--- class: 0\\n|   |   |   |--- feature_22 >  0.50\\n|   |   |   |   |--- class: 0\\n|--- feature_1 >  1468584000.00\\n|   |--- feature_13 <= 0.50\\n|   |   |--- feature_22 <= 0.50\\n|   |   |   |--- feature_0 <= 326.50\\n|   |   |   |   |--- feature_11 <= 0.50\\n|   |   |   |   |   |--- feature_0 <= 1.50\\n|   |   |   |   |   |   |--- feature_1 <= 1468929600.00\\n|   |   |   |   |   |   |   |--- feature_9 <= 1.00\\n|   |   |   |   |   |   |   |   |--- class: 1\\n|   |   |   |   |   |   |   |--- feature_9 >  1.00\\n|   |   |   |   |   |   |   |   |--- feature_23 <= 1.50\\n|   |   |   |   |   |   |   |   |   |--- class: 0\\n|   |   |   |   |   |   |   |   |--- feature_23 >  1.50\\n|   |   |   |   |   |   |   |   |   |--- class: 1\\n|   |   |   |   |   |   |--- feature_1 >  1468929600.00\\n|   |   |   |   |   |   |   |--- feature_10 <= 0.50\\n|   |   |   |   |   |   |   |   |--- feature_23 <= 1.00\\n|   |   |   |   |   |   |   |   |   |--- feature_21 <= 43.50\\n|   |   |   |   |   |   |   |   |   |   |--- feature_15 <= 1.50\\n|   |   |   |   |   |   |   |   |   |   |   |--- truncated branch of depth 2\\n|   |   |   |   |   |   |   |   |   |   |--- feature_15 >  1.50\\n|   |   |   |   |   |   |   |   |   |   |   |--- class: 0\\n|   |   |   |   |   |   |   |   |   |--- feature_21 >  43.50\\n|   |   |   |   |   |   |   |   |   |   |--- class: 0\\n|   |   |   |   |   |   |   |   |--- feature_23 >  1.00\\n|   |   |   |   |   |   |   |   |   |--- class: 1\\n|   |   |   |   |   |   |   |--- feature_10 >  0.50\\n|   |   |   |   |   |   |   |   |--- feature_16 <= 0.50\\n|   |   |   |   |   |   |   |   |   |--- feature_23 <= 0.50\\n|   |   |   |   |   |   |   |   |   |   |--- feature_1 <= 1469102400.00\\n|   |   |   |   |   |   |   |   |   |   |   |--- class: 0\\n|   |   |   |   |   |   |   |   |   |   |--- feature_1 >  1469102400.00\\n|   |   |   |   |   |   |   |   |   |   |   |--- truncated branch of depth 8\\n|   |   |   |   |   |   |   |   |   |--- feature_23 >  0.50\\n|   |   |   |   |   |   |   |   |   |   |--- feature_21 <= 46.80\\n|   |   |   |   |   |   |   |   |   |   |   |--- class: 0\\n|   |   |   |   |   |   |   |   |   |   |--- feature_21 >  46.80\\n|   |   |   |   |   |   |   |   |   |   |   |--- truncated branch of depth 8\\n|   |   |   |   |   |   |   |   |--- feature_16 >  0.50\\n|   |   |   |   |   |   |   |   |   |--- feature_23 <= 0.50\\n|   |   |   |   |   |   |   |   |   |   |--- feature_4 <= 2.50\\n|   |   |   |   |   |   |   |   |   |   |   |--- truncated branch of depth 3\\n|   |   |   |   |   |   |   |   |   |   |--- feature_4 >  2.50\\n|   |   |   |   |   |   |   |   |   |   |   |--- class: 1\\n|   |   |   |   |   |   |   |   |   |--- feature_23 >  0.50\\n|   |   |   |   |   |   |   |   |   |   |--- class: 1\\n|   |   |   |   |   |--- feature_0 >  1.50\\n|   |   |   |   |   |   |--- feature_15 <= 7.50\\n|   |   |   |   |   |   |   |--- feature_1 <= 1470052800.00\\n|   |   |   |   |   |   |   |   |--- feature_24 <= 1468843200.00\\n|   |   |   |   |   |   |   |   |   |--- feature_24 <= 1468756800.00\\n|   |   |   |   |   |   |   |   |   |   |--- class: 1\\n|   |   |   |   |   |   |   |   |   |--- feature_24 >  1468756800.00\\n|   |   |   |   |   |   |   |   |   |   |--- feature_14 <= 1.00\\n|   |   |   |   |   |   |   |   |   |   |   |--- class: 0\\n|   |   |   |   |   |   |   |   |   |   |--- feature_14 >  1.00\\n|   |   |   |   |   |   |   |   |   |   |   |--- class: 1\\n|   |   |   |   |   |   |   |   |--- feature_24 >  1468843200.00\\n|   |   |   |   |   |   |   |   |   |--- feature_8 <= 82.00\\n|   |   |   |   |   |   |   |   |   |   |--- feature_0 <= 10.50\\n|   |   |   |   |   |   |   |   |   |   |   |--- class: 1\\n|   |   |   |   |   |   |   |   |   |   |--- feature_0 >  10.50\\n|   |   |   |   |   |   |   |   |   |   |   |--- class: 0\\n|   |   |   |   |   |   |   |   |   |--- feature_8 >  82.00\\n|   |   |   |   |   |   |   |   |   |   |--- feature_4 <= 2.50\\n|   |   |   |   |   |   |   |   |   |   |   |--- truncated branch of depth 3\\n|   |   |   |   |   |   |   |   |   |   |--- feature_4 >  2.50\\n|   |   |   |   |   |   |   |   |   |   |   |--- class: 0\\n|   |   |   |   |   |   |   |--- feature_1 >  1470052800.00\\n|   |   |   |   |   |   |   |   |--- feature_0 <= 11.50\\n|   |   |   |   |   |   |   |   |   |--- feature_1 <= 1482062400.00\\n|   |   |   |   |   |   |   |   |   |   |--- feature_24 <= 1476792000.00\\n|   |   |   |   |   |   |   |   |   |   |   |--- truncated branch of depth 5\\n|   |   |   |   |   |   |   |   |   |   |--- feature_24 >  1476792000.00\\n|   |   |   |   |   |   |   |   |   |   |   |--- truncated branch of depth 7\\n|   |   |   |   |   |   |   |   |   |--- feature_1 >  1482062400.00\\n|   |   |   |   |   |   |   |   |   |   |--- feature_8 <= 12.50\\n|   |   |   |   |   |   |   |   |   |   |   |--- truncated branch of depth 2\\n|   |   |   |   |   |   |   |   |   |   |--- feature_8 >  12.50\\n|   |   |   |   |   |   |   |   |   |   |   |--- truncated branch of depth 9\\n|   |   |   |   |   |   |   |   |--- feature_0 >  11.50\\n|   |   |   |   |   |   |   |   |   |--- feature_1 <= 1474459200.00\\n|   |   |   |   |   |   |   |   |   |   |--- feature_24 <= 1473336000.00\\n|   |   |   |   |   |   |   |   |   |   |   |--- truncated branch of depth 6\\n|   |   |   |   |   |   |   |   |   |   |--- feature_24 >  1473336000.00\\n|   |   |   |   |   |   |   |   |   |   |   |--- truncated branch of depth 4\\n|   |   |   |   |   |   |   |   |   |--- feature_1 >  1474459200.00\\n|   |   |   |   |   |   |   |   |   |   |--- feature_23 <= 4.50\\n|   |   |   |   |   |   |   |   |   |   |   |--- truncated branch of depth 15\\n|   |   |   |   |   |   |   |   |   |   |--- feature_23 >  4.50\\n|   |   |   |   |   |   |   |   |   |   |   |--- class: 0\\n|   |   |   |   |   |   |--- feature_15 >  7.50\\n|   |   |   |   |   |   |   |--- feature_24 <= 1475884800.00\\n|   |   |   |   |   |   |   |   |--- class: 0\\n|   |   |   |   |   |   |   |--- feature_24 >  1475884800.00\\n|   |   |   |   |   |   |   |   |--- class: 1\\n|   |   |   |   |--- feature_11 >  0.50\\n|   |   |   |   |   |--- class: 0\\n|   |   |   |--- feature_0 >  326.50\\n|   |   |   |   |--- feature_8 <= 75.50\\n|   |   |   |   |   |--- feature_1 <= 1482062400.00\\n|   |   |   |   |   |   |--- class: 0\\n|   |   |   |   |   |--- feature_1 >  1482062400.00\\n|   |   |   |   |   |   |--- class: 1\\n|   |   |   |   |--- feature_8 >  75.50\\n|   |   |   |   |   |--- feature_0 <= 330.50\\n|   |   |   |   |   |   |--- feature_1 <= 1485561600.00\\n|   |   |   |   |   |   |   |--- feature_24 <= 1461024000.00\\n|   |   |   |   |   |   |   |   |--- class: 1\\n|   |   |   |   |   |   |   |--- feature_24 >  1461024000.00\\n|   |   |   |   |   |   |   |   |--- class: 0\\n|   |   |   |   |   |   |--- feature_1 >  1485561600.00\\n|   |   |   |   |   |   |   |--- class: 1\\n|   |   |   |   |   |--- feature_0 >  330.50\\n|   |   |   |   |   |   |--- feature_4 <= 1.50\\n|   |   |   |   |   |   |   |--- feature_16 <= 0.50\\n|   |   |   |   |   |   |   |   |--- class: 1\\n|   |   |   |   |   |   |   |--- feature_16 >  0.50\\n|   |   |   |   |   |   |   |   |--- feature_2 <= 0.50\\n|   |   |   |   |   |   |   |   |   |--- class: 0\\n|   |   |   |   |   |   |   |   |--- feature_2 >  0.50\\n|   |   |   |   |   |   |   |   |   |--- class: 1\\n|   |   |   |   |   |   |--- feature_4 >  1.50\\n|   |   |   |   |   |   |   |--- feature_8 <= 83.50\\n|   |   |   |   |   |   |   |   |--- feature_1 <= 1472990400.00\\n|   |   |   |   |   |   |   |   |   |--- feature_18 <= 71.00\\n|   |   |   |   |   |   |   |   |   |   |--- class: 1\\n|   |   |   |   |   |   |   |   |   |--- feature_18 >  71.00\\n|   |   |   |   |   |   |   |   |   |   |--- feature_14 <= 4.50\\n|   |   |   |   |   |   |   |   |   |   |   |--- class: 0\\n|   |   |   |   |   |   |   |   |   |   |--- feature_14 >  4.50\\n|   |   |   |   |   |   |   |   |   |   |   |--- class: 1\\n|   |   |   |   |   |   |   |   |--- feature_1 >  1472990400.00\\n|   |   |   |   |   |   |   |   |   |--- class: 1\\n|   |   |   |   |   |   |   |--- feature_8 >  83.50\\n|   |   |   |   |   |   |   |   |--- feature_18 <= 86.50\\n|   |   |   |   |   |   |   |   |   |--- class: 1\\n|   |   |   |   |   |   |   |   |--- feature_18 >  86.50\\n|   |   |   |   |   |   |   |   |   |--- class: 0\\n|   |   |--- feature_22 >  0.50\\n|   |   |   |--- class: 0\\n|   |--- feature_13 >  0.50\\n|   |   |--- feature_12 <= 0.50\\n|   |   |   |--- feature_13 <= 25.50\\n|   |   |   |   |--- feature_0 <= 0.50\\n|   |   |   |   |   |--- feature_21 <= 36.50\\n|   |   |   |   |   |   |--- feature_1 <= 1485345600.00\\n|   |   |   |   |   |   |   |--- class: 0\\n|   |   |   |   |   |   |--- feature_1 >  1485345600.00\\n|   |   |   |   |   |   |   |--- feature_1 <= 1485604800.00\\n|   |   |   |   |   |   |   |   |--- class: 1\\n|   |   |   |   |   |   |   |--- feature_1 >  1485604800.00\\n|   |   |   |   |   |   |   |   |--- feature_2 <= 0.50\\n|   |   |   |   |   |   |   |   |   |--- class: 0\\n|   |   |   |   |   |   |   |   |--- feature_2 >  0.50\\n|   |   |   |   |   |   |   |   |   |--- feature_24 <= 1488067200.00\\n|   |   |   |   |   |   |   |   |   |   |--- class: 0\\n|   |   |   |   |   |   |   |   |   |--- feature_24 >  1488067200.00\\n|   |   |   |   |   |   |   |   |   |   |--- class: 1\\n|   |   |   |   |   |--- feature_21 >  36.50\\n|   |   |   |   |   |   |--- class: 0\\n|   |   |   |   |--- feature_0 >  0.50\\n|   |   |   |   |   |--- feature_15 <= 6.50\\n|   |   |   |   |   |   |--- class: 0\\n|   |   |   |   |   |--- feature_15 >  6.50\\n|   |   |   |   |   |   |--- feature_1 <= 1477180800.00\\n|   |   |   |   |   |   |   |--- feature_18 <= 115.50\\n|   |   |   |   |   |   |   |   |--- class: 0\\n|   |   |   |   |   |   |   |--- feature_18 >  115.50\\n|   |   |   |   |   |   |   |   |--- class: 1\\n|   |   |   |   |   |   |--- feature_1 >  1477180800.00\\n|   |   |   |   |   |   |   |--- class: 0\\n|   |   |   |--- feature_13 >  25.50\\n|   |   |   |   |--- class: 1\\n|   |   |--- feature_12 >  0.50\\n|   |   |   |--- feature_21 <= 77.50\\n|   |   |   |   |--- feature_8 <= 46.00\\n|   |   |   |   |   |--- class: 1\\n|   |   |   |   |--- feature_8 >  46.00\\n|   |   |   |   |   |--- feature_0 <= 338.00\\n|   |   |   |   |   |   |--- feature_12 <= 3.50\\n|   |   |   |   |   |   |   |--- feature_13 <= 3.50\\n|   |   |   |   |   |   |   |   |--- feature_13 <= 2.50\\n|   |   |   |   |   |   |   |   |   |--- class: 0\\n|   |   |   |   |   |   |   |   |--- feature_13 >  2.50\\n|   |   |   |   |   |   |   |   |   |--- feature_0 <= 5.00\\n|   |   |   |   |   |   |   |   |   |   |--- class: 1\\n|   |   |   |   |   |   |   |   |   |--- feature_0 >  5.00\\n|   |   |   |   |   |   |   |   |   |   |--- class: 0\\n|   |   |   |   |   |   |   |--- feature_13 >  3.50\\n|   |   |   |   |   |   |   |   |--- class: 0\\n|   |   |   |   |   |   |--- feature_12 >  3.50\\n|   |   |   |   |   |   |   |--- feature_13 <= 12.00\\n|   |   |   |   |   |   |   |   |--- feature_24 <= 1479556800.00\\n|   |   |   |   |   |   |   |   |   |--- feature_15 <= 1.50\\n|   |   |   |   |   |   |   |   |   |   |--- class: 1\\n|   |   |   |   |   |   |   |   |   |--- feature_15 >  1.50\\n|   |   |   |   |   |   |   |   |   |   |--- class: 0\\n|   |   |   |   |   |   |   |   |--- feature_24 >  1479556800.00\\n|   |   |   |   |   |   |   |   |   |--- class: 0\\n|   |   |   |   |   |   |   |--- feature_13 >  12.00\\n|   |   |   |   |   |   |   |   |--- class: 1\\n|   |   |   |   |   |--- feature_0 >  338.00\\n|   |   |   |   |   |   |--- class: 1\\n|   |   |   |--- feature_21 >  77.50\\n|   |   |   |   |--- feature_22 <= 0.50\\n|   |   |   |   |   |--- feature_0 <= 21.50\\n|   |   |   |   |   |   |--- feature_13 <= 2.50\\n|   |   |   |   |   |   |   |--- class: 1\\n|   |   |   |   |   |   |--- feature_13 >  2.50\\n|   |   |   |   |   |   |   |--- feature_0 <= 17.50\\n|   |   |   |   |   |   |   |   |--- class: 0\\n|   |   |   |   |   |   |   |--- feature_0 >  17.50\\n|   |   |   |   |   |   |   |   |--- feature_0 <= 19.00\\n|   |   |   |   |   |   |   |   |   |--- class: 1\\n|   |   |   |   |   |   |   |   |--- feature_0 >  19.00\\n|   |   |   |   |   |   |   |   |   |--- class: 0\\n|   |   |   |   |   |--- feature_0 >  21.50\\n|   |   |   |   |   |   |--- class: 1\\n|   |   |   |   |--- feature_22 >  0.50\\n|   |   |   |   |   |--- class: 0\\n'"
            ]
          },
          "metadata": {},
          "execution_count": 167
        }
      ]
    },
    {
      "cell_type": "markdown",
      "metadata": {
        "id": "EYQ8m4J4YXxH"
      },
      "source": [
        "## 1.7 Random Forest classification"
      ]
    },
    {
      "cell_type": "code",
      "metadata": {
        "id": "CuYg8KO6R-GE"
      },
      "source": [
        "from sklearn.preprocessing import MinMaxScaler\n",
        "trans = MinMaxScaler()\n",
        "hotel_new = pd.DataFrame(trans.fit_transform(data_new))\n",
        "\n",
        "# Step 1: Declare variable with model Object\n",
        "rf = RandomForestClassifier()\n",
        "# Step 2: Fit the train data in the model\n",
        "rf.fit(X_train, y_train)\n",
        "# Step 3: Make a prediction using the trained model \n",
        "rf_pred = rf.predict(X_test)"
      ],
      "execution_count": null,
      "outputs": []
    },
    {
      "cell_type": "code",
      "metadata": {
        "colab": {
          "base_uri": "https://localhost:8080/"
        },
        "id": "NgD6Yrj6XaVm",
        "outputId": "e9b1bfdd-de66-4cd6-ba18-292c9061c155"
      },
      "source": [
        "print(np.sqrt(mean_squared_error(y_test, rf_pred)))\n",
        "print(confusion_matrix(y_test, rf_pred))\n",
        "print(f1_score(y_test, rf_pred))"
      ],
      "execution_count": null,
      "outputs": [
        {
          "output_type": "stream",
          "name": "stdout",
          "text": [
            "0.19528752475425934\n",
            "[[2946   51]\n",
            " [ 148 2073]]\n",
            "0.9542002301495973\n"
          ]
        }
      ]
    },
    {
      "cell_type": "markdown",
      "metadata": {
        "id": "bnQqYnILYeRv"
      },
      "source": [
        "## 2.1 H2 dataset cleaning"
      ]
    },
    {
      "cell_type": "code",
      "metadata": {
        "colab": {
          "base_uri": "https://localhost:8080/",
          "height": 317
        },
        "id": "d-hphx_jYetW",
        "outputId": "812c7edf-83c1-4323-b2ed-408f7213b1e6"
      },
      "source": [
        "hotel_data2 = pd.read_csv(\"/content/drive/MyDrive/H2.csv\", index_col=None)\n",
        "hotel_data = pd.read_csv(\"/content/drive/MyDrive/H1.csv\", index_col=None)\n",
        "hotel_data[\"Hotel\"] = \"Resort Hotel\"\n",
        "hotel_data2[\"Hotel\"] = \"City Hotel\"\n",
        "hotel = pd.concat([hotel_data,hotel_data2])\n",
        "# Check data summary\n",
        "hotel.describe()"
      ],
      "execution_count": null,
      "outputs": [
        {
          "output_type": "execute_result",
          "data": {
            "text/html": [
              "<div>\n",
              "<style scoped>\n",
              "    .dataframe tbody tr th:only-of-type {\n",
              "        vertical-align: middle;\n",
              "    }\n",
              "\n",
              "    .dataframe tbody tr th {\n",
              "        vertical-align: top;\n",
              "    }\n",
              "\n",
              "    .dataframe thead th {\n",
              "        text-align: right;\n",
              "    }\n",
              "</style>\n",
              "<table border=\"1\" class=\"dataframe\">\n",
              "  <thead>\n",
              "    <tr style=\"text-align: right;\">\n",
              "      <th></th>\n",
              "      <th>IsCanceled</th>\n",
              "      <th>LeadTime</th>\n",
              "      <th>ArrivalDateYear</th>\n",
              "      <th>ArrivalDateWeekNumber</th>\n",
              "      <th>ArrivalDateDayOfMonth</th>\n",
              "      <th>StaysInWeekendNights</th>\n",
              "      <th>StaysInWeekNights</th>\n",
              "      <th>Adults</th>\n",
              "      <th>Children</th>\n",
              "      <th>Babies</th>\n",
              "      <th>PreviousCancellations</th>\n",
              "      <th>PreviousBookingsNotCanceled</th>\n",
              "      <th>BookingChanges</th>\n",
              "      <th>DaysInWaitingList</th>\n",
              "      <th>ADR</th>\n",
              "      <th>RequiredCarParkingSpaces</th>\n",
              "      <th>TotalOfSpecialRequests</th>\n",
              "    </tr>\n",
              "  </thead>\n",
              "  <tbody>\n",
              "    <tr>\n",
              "      <th>count</th>\n",
              "      <td>52108.000000</td>\n",
              "      <td>52108.000000</td>\n",
              "      <td>52108.000000</td>\n",
              "      <td>52108.000000</td>\n",
              "      <td>52108.000000</td>\n",
              "      <td>52108.000000</td>\n",
              "      <td>52108.000000</td>\n",
              "      <td>52108.000000</td>\n",
              "      <td>52104.000000</td>\n",
              "      <td>52108.000000</td>\n",
              "      <td>52107.000000</td>\n",
              "      <td>52107.000000</td>\n",
              "      <td>52106.000000</td>\n",
              "      <td>52106.000000</td>\n",
              "      <td>52106.000000</td>\n",
              "      <td>52106.000000</td>\n",
              "      <td>52106.000000</td>\n",
              "    </tr>\n",
              "    <tr>\n",
              "      <th>mean</th>\n",
              "      <td>0.602172</td>\n",
              "      <td>109.032701</td>\n",
              "      <td>2015.885258</td>\n",
              "      <td>27.737986</td>\n",
              "      <td>15.566343</td>\n",
              "      <td>0.985377</td>\n",
              "      <td>2.725551</td>\n",
              "      <td>1.861365</td>\n",
              "      <td>0.107727</td>\n",
              "      <td>0.007772</td>\n",
              "      <td>0.077917</td>\n",
              "      <td>0.102002</td>\n",
              "      <td>0.189498</td>\n",
              "      <td>4.141845</td>\n",
              "      <td>94.064591</td>\n",
              "      <td>0.058918</td>\n",
              "      <td>0.427839</td>\n",
              "    </tr>\n",
              "    <tr>\n",
              "      <th>std</th>\n",
              "      <td>0.489454</td>\n",
              "      <td>110.162009</td>\n",
              "      <td>0.659813</td>\n",
              "      <td>14.099858</td>\n",
              "      <td>8.811208</td>\n",
              "      <td>1.064439</td>\n",
              "      <td>2.108683</td>\n",
              "      <td>0.658525</td>\n",
              "      <td>0.413306</td>\n",
              "      <td>0.098139</td>\n",
              "      <td>1.171260</td>\n",
              "      <td>0.868320</td>\n",
              "      <td>0.627534</td>\n",
              "      <td>24.809006</td>\n",
              "      <td>52.598404</td>\n",
              "      <td>0.236531</td>\n",
              "      <td>0.718077</td>\n",
              "    </tr>\n",
              "    <tr>\n",
              "      <th>min</th>\n",
              "      <td>0.000000</td>\n",
              "      <td>0.000000</td>\n",
              "      <td>2015.000000</td>\n",
              "      <td>1.000000</td>\n",
              "      <td>1.000000</td>\n",
              "      <td>0.000000</td>\n",
              "      <td>0.000000</td>\n",
              "      <td>0.000000</td>\n",
              "      <td>0.000000</td>\n",
              "      <td>0.000000</td>\n",
              "      <td>0.000000</td>\n",
              "      <td>0.000000</td>\n",
              "      <td>0.000000</td>\n",
              "      <td>0.000000</td>\n",
              "      <td>-6.380000</td>\n",
              "      <td>0.000000</td>\n",
              "      <td>0.000000</td>\n",
              "    </tr>\n",
              "    <tr>\n",
              "      <th>25%</th>\n",
              "      <td>0.000000</td>\n",
              "      <td>24.000000</td>\n",
              "      <td>2015.000000</td>\n",
              "      <td>15.000000</td>\n",
              "      <td>8.000000</td>\n",
              "      <td>0.000000</td>\n",
              "      <td>1.000000</td>\n",
              "      <td>2.000000</td>\n",
              "      <td>0.000000</td>\n",
              "      <td>0.000000</td>\n",
              "      <td>0.000000</td>\n",
              "      <td>0.000000</td>\n",
              "      <td>0.000000</td>\n",
              "      <td>0.000000</td>\n",
              "      <td>62.000000</td>\n",
              "      <td>0.000000</td>\n",
              "      <td>0.000000</td>\n",
              "    </tr>\n",
              "    <tr>\n",
              "      <th>50%</th>\n",
              "      <td>1.000000</td>\n",
              "      <td>74.000000</td>\n",
              "      <td>2016.000000</td>\n",
              "      <td>29.000000</td>\n",
              "      <td>15.000000</td>\n",
              "      <td>1.000000</td>\n",
              "      <td>2.000000</td>\n",
              "      <td>2.000000</td>\n",
              "      <td>0.000000</td>\n",
              "      <td>0.000000</td>\n",
              "      <td>0.000000</td>\n",
              "      <td>0.000000</td>\n",
              "      <td>0.000000</td>\n",
              "      <td>0.000000</td>\n",
              "      <td>85.410000</td>\n",
              "      <td>0.000000</td>\n",
              "      <td>0.000000</td>\n",
              "    </tr>\n",
              "    <tr>\n",
              "      <th>75%</th>\n",
              "      <td>1.000000</td>\n",
              "      <td>163.000000</td>\n",
              "      <td>2016.000000</td>\n",
              "      <td>39.000000</td>\n",
              "      <td>23.000000</td>\n",
              "      <td>2.000000</td>\n",
              "      <td>4.000000</td>\n",
              "      <td>2.000000</td>\n",
              "      <td>0.000000</td>\n",
              "      <td>0.000000</td>\n",
              "      <td>0.000000</td>\n",
              "      <td>0.000000</td>\n",
              "      <td>0.000000</td>\n",
              "      <td>0.000000</td>\n",
              "      <td>115.500000</td>\n",
              "      <td>0.000000</td>\n",
              "      <td>1.000000</td>\n",
              "    </tr>\n",
              "    <tr>\n",
              "      <th>max</th>\n",
              "      <td>1.000000</td>\n",
              "      <td>737.000000</td>\n",
              "      <td>2017.000000</td>\n",
              "      <td>53.000000</td>\n",
              "      <td>31.000000</td>\n",
              "      <td>19.000000</td>\n",
              "      <td>50.000000</td>\n",
              "      <td>55.000000</td>\n",
              "      <td>10.000000</td>\n",
              "      <td>10.000000</td>\n",
              "      <td>26.000000</td>\n",
              "      <td>30.000000</td>\n",
              "      <td>20.000000</td>\n",
              "      <td>391.000000</td>\n",
              "      <td>5400.000000</td>\n",
              "      <td>2.000000</td>\n",
              "      <td>5.000000</td>\n",
              "    </tr>\n",
              "  </tbody>\n",
              "</table>\n",
              "</div>"
            ],
            "text/plain": [
              "         IsCanceled  ...  TotalOfSpecialRequests\n",
              "count  52108.000000  ...            52106.000000\n",
              "mean       0.602172  ...                0.427839\n",
              "std        0.489454  ...                0.718077\n",
              "min        0.000000  ...                0.000000\n",
              "25%        0.000000  ...                0.000000\n",
              "50%        1.000000  ...                0.000000\n",
              "75%        1.000000  ...                1.000000\n",
              "max        1.000000  ...                5.000000\n",
              "\n",
              "[8 rows x 17 columns]"
            ]
          },
          "metadata": {},
          "execution_count": 124
        }
      ]
    },
    {
      "cell_type": "code",
      "metadata": {
        "colab": {
          "base_uri": "https://localhost:8080/"
        },
        "id": "vQau8mJJY5HA",
        "outputId": "96940d04-f8b7-451a-a62e-61a65325b558"
      },
      "source": [
        "# check missing value\n",
        "hotel.isnull().sum()"
      ],
      "execution_count": null,
      "outputs": [
        {
          "output_type": "execute_result",
          "data": {
            "text/plain": [
              "IsCanceled                       0\n",
              "LeadTime                         0\n",
              "ArrivalDateYear                  0\n",
              "ArrivalDateMonth                 0\n",
              "ArrivalDateWeekNumber            0\n",
              "ArrivalDateDayOfMonth            0\n",
              "StaysInWeekendNights             0\n",
              "StaysInWeekNights                0\n",
              "Adults                           0\n",
              "Children                         4\n",
              "Babies                           0\n",
              "Meal                             0\n",
              "Country                        481\n",
              "MarketSegment                    0\n",
              "DistributionChannel              0\n",
              "IsRepeatedGuest                  0\n",
              "PreviousCancellations            1\n",
              "PreviousBookingsNotCanceled      1\n",
              "ReservedRoomType                 1\n",
              "AssignedRoomType                 1\n",
              "BookingChanges                   2\n",
              "DepositType                      2\n",
              "Agent                            2\n",
              "Company                          2\n",
              "DaysInWaitingList                2\n",
              "CustomerType                     2\n",
              "ADR                              2\n",
              "RequiredCarParkingSpaces         2\n",
              "TotalOfSpecialRequests           2\n",
              "ReservationStatus                2\n",
              "ReservationStatusDate            2\n",
              "Hotel                            0\n",
              "dtype: int64"
            ]
          },
          "metadata": {},
          "execution_count": 125
        }
      ]
    },
    {
      "cell_type": "code",
      "metadata": {
        "colab": {
          "base_uri": "https://localhost:8080/"
        },
        "id": "m_etYfFvY9W0",
        "outputId": "128cb3bd-57a6-4152-ef7e-3bda6d7f1a30"
      },
      "source": [
        "hotel_new = hotel.copy()\n",
        "hotel_new.drop(\"Company\",axis=1,inplace=True)\n",
        "hotel_new.Children.fillna(hotel_new.Children.median(), inplace=True)\n",
        "hotel_new.Country.fillna(hotel_new.Country.mode()[0],inplace=True)\n",
        "hotel_new.Agent.fillna(0, inplace=True)\n",
        "hotel_new.Children = hotel_new.Children.astype(int)\n",
        "hotel_new.Meal.replace(\"Undefined\", \"SC\", inplace=True)\n",
        "hotel_new.isnull().sum()"
      ],
      "execution_count": null,
      "outputs": [
        {
          "output_type": "execute_result",
          "data": {
            "text/plain": [
              "IsCanceled                     0\n",
              "LeadTime                       0\n",
              "ArrivalDateYear                0\n",
              "ArrivalDateMonth               0\n",
              "ArrivalDateWeekNumber          0\n",
              "ArrivalDateDayOfMonth          0\n",
              "StaysInWeekendNights           0\n",
              "StaysInWeekNights              0\n",
              "Adults                         0\n",
              "Children                       0\n",
              "Babies                         0\n",
              "Meal                           0\n",
              "Country                        0\n",
              "MarketSegment                  0\n",
              "DistributionChannel            0\n",
              "IsRepeatedGuest                0\n",
              "PreviousCancellations          1\n",
              "PreviousBookingsNotCanceled    1\n",
              "ReservedRoomType               1\n",
              "AssignedRoomType               1\n",
              "BookingChanges                 2\n",
              "DepositType                    2\n",
              "Agent                          0\n",
              "DaysInWaitingList              2\n",
              "CustomerType                   2\n",
              "ADR                            2\n",
              "RequiredCarParkingSpaces       2\n",
              "TotalOfSpecialRequests         2\n",
              "ReservationStatus              2\n",
              "ReservationStatusDate          2\n",
              "Hotel                          0\n",
              "dtype: int64"
            ]
          },
          "metadata": {},
          "execution_count": 126
        }
      ]
    },
    {
      "cell_type": "code",
      "metadata": {
        "colab": {
          "base_uri": "https://localhost:8080/"
        },
        "id": "EWy1lThRZazI",
        "outputId": "d5eaedec-e2f6-43ba-9d9a-217c982b8b4d"
      },
      "source": [
        "#remove abnormality\n",
        "hotel_new = hotel_new[hotel_new[\"ADR\"]<5000]\n",
        "hotel_new.isnull().sum()"
      ],
      "execution_count": null,
      "outputs": [
        {
          "output_type": "execute_result",
          "data": {
            "text/plain": [
              "IsCanceled                     0\n",
              "LeadTime                       0\n",
              "ArrivalDateYear                0\n",
              "ArrivalDateMonth               0\n",
              "ArrivalDateWeekNumber          0\n",
              "ArrivalDateDayOfMonth          0\n",
              "StaysInWeekendNights           0\n",
              "StaysInWeekNights              0\n",
              "Adults                         0\n",
              "Children                       0\n",
              "Babies                         0\n",
              "Meal                           0\n",
              "Country                        0\n",
              "MarketSegment                  0\n",
              "DistributionChannel            0\n",
              "IsRepeatedGuest                0\n",
              "PreviousCancellations          0\n",
              "PreviousBookingsNotCanceled    0\n",
              "ReservedRoomType               0\n",
              "AssignedRoomType               0\n",
              "BookingChanges                 0\n",
              "DepositType                    0\n",
              "Agent                          0\n",
              "DaysInWaitingList              0\n",
              "CustomerType                   0\n",
              "ADR                            0\n",
              "RequiredCarParkingSpaces       0\n",
              "TotalOfSpecialRequests         0\n",
              "ReservationStatus              0\n",
              "ReservationStatusDate          0\n",
              "Hotel                          0\n",
              "dtype: int64"
            ]
          },
          "metadata": {},
          "execution_count": 127
        }
      ]
    },
    {
      "cell_type": "markdown",
      "metadata": {
        "id": "PH3nXEKWzU8g"
      },
      "source": [
        "## 2.2 H2 data transformation"
      ]
    },
    {
      "cell_type": "code",
      "metadata": {
        "id": "ldsvVDJtZmgV"
      },
      "source": [
        "# change month to number\n",
        "import calendar\n",
        "month = []\n",
        "for i in hotel_new.ArrivalDateMonth:\n",
        "    mon = list(calendar.month_name).index(i)\n",
        "    month.append(mon)\n",
        "hotel_new.insert(4,\"ArrivalMonth\",month)"
      ],
      "execution_count": null,
      "outputs": []
    },
    {
      "cell_type": "code",
      "metadata": {
        "id": "qBAPY4TQZMdd"
      },
      "source": [
        "hotel_new[[\"ArrivalDateYear\",\n",
        "          \"ArrivalMonth\",\n",
        "          \"ArrivalDateDayOfMonth\"]] = hotel_new[[\"ArrivalDateYear\",\n",
        "                                                \"ArrivalMonth\",\n",
        "                                                \"ArrivalDateDayOfMonth\"]].apply(lambda x:x.astype(str))\n",
        "date2 = hotel_new.ArrivalDateYear.str.cat([hotel_new.ArrivalMonth,\n",
        "                                         hotel_new.ArrivalDateDayOfMonth],\n",
        "                                        \".\")\n",
        "hotel_new.insert(3,\"ArrivalDate\",date)"
      ],
      "execution_count": null,
      "outputs": []
    },
    {
      "cell_type": "code",
      "metadata": {
        "id": "_oVOAXm8ZwUn"
      },
      "source": [
        "hotel_new = hotel_new.drop([\"ArrivalDateMonth\",\n",
        "                          \"ArrivalDateYear\",\n",
        "                          \"ArrivalMonth\",\n",
        "                          \"ArrivalDateDayOfMonth\",\n",
        "                          \"ArrivalDateWeekNumber\",\n",
        "                          'ReservationStatus'],\n",
        "                         axis=1)"
      ],
      "execution_count": null,
      "outputs": []
    },
    {
      "cell_type": "code",
      "metadata": {
        "id": "GFjB4v_vZ1Ah"
      },
      "source": [
        "#converting dates to unix timestamp\n",
        "hotel_new.ReservationStatusDate = pd.to_datetime(hotel_new.ReservationStatusDate)\n",
        "hotel_new.ArrivalDate = pd.to_datetime(hotel_new.ArrivalDate)\n",
        "\n",
        "dates = pd.to_datetime(hotel_new['ArrivalDate'])\n",
        "hotel_new['ArrivalDate'] = (dates - pd.Timestamp(\"1970-01-01\")) // pd.Timedelta('1s') \n",
        "dates = pd.to_datetime(hotel_new['ReservationStatusDate'])\n",
        "hotel_new['ReservationStatusDate'] = (dates - pd.Timestamp(\"1970-01-01\")) // pd.Timedelta('1s')"
      ],
      "execution_count": null,
      "outputs": []
    },
    {
      "cell_type": "code",
      "metadata": {
        "colab": {
          "base_uri": "https://localhost:8080/",
          "height": 609
        },
        "id": "uelfbhl2aDPI",
        "outputId": "61d1fcdc-5b86-4411-f27c-0c897c49bc5b"
      },
      "source": [
        "hotel_new"
      ],
      "execution_count": null,
      "outputs": [
        {
          "output_type": "execute_result",
          "data": {
            "text/html": [
              "<div>\n",
              "<style scoped>\n",
              "    .dataframe tbody tr th:only-of-type {\n",
              "        vertical-align: middle;\n",
              "    }\n",
              "\n",
              "    .dataframe tbody tr th {\n",
              "        vertical-align: top;\n",
              "    }\n",
              "\n",
              "    .dataframe thead th {\n",
              "        text-align: right;\n",
              "    }\n",
              "</style>\n",
              "<table border=\"1\" class=\"dataframe\">\n",
              "  <thead>\n",
              "    <tr style=\"text-align: right;\">\n",
              "      <th></th>\n",
              "      <th>IsCanceled</th>\n",
              "      <th>LeadTime</th>\n",
              "      <th>ArrivalDate</th>\n",
              "      <th>StaysInWeekendNights</th>\n",
              "      <th>StaysInWeekNights</th>\n",
              "      <th>Adults</th>\n",
              "      <th>Children</th>\n",
              "      <th>Babies</th>\n",
              "      <th>Meal</th>\n",
              "      <th>Country</th>\n",
              "      <th>MarketSegment</th>\n",
              "      <th>DistributionChannel</th>\n",
              "      <th>IsRepeatedGuest</th>\n",
              "      <th>PreviousCancellations</th>\n",
              "      <th>PreviousBookingsNotCanceled</th>\n",
              "      <th>ReservedRoomType</th>\n",
              "      <th>AssignedRoomType</th>\n",
              "      <th>BookingChanges</th>\n",
              "      <th>DepositType</th>\n",
              "      <th>Agent</th>\n",
              "      <th>DaysInWaitingList</th>\n",
              "      <th>CustomerType</th>\n",
              "      <th>ADR</th>\n",
              "      <th>RequiredCarParkingSpaces</th>\n",
              "      <th>TotalOfSpecialRequests</th>\n",
              "      <th>ReservationStatusDate</th>\n",
              "      <th>Hotel</th>\n",
              "    </tr>\n",
              "  </thead>\n",
              "  <tbody>\n",
              "    <tr>\n",
              "      <th>0</th>\n",
              "      <td>0</td>\n",
              "      <td>342</td>\n",
              "      <td>1435708800</td>\n",
              "      <td>0</td>\n",
              "      <td>0</td>\n",
              "      <td>2</td>\n",
              "      <td>0</td>\n",
              "      <td>0</td>\n",
              "      <td>BB</td>\n",
              "      <td>PRT</td>\n",
              "      <td>Direct</td>\n",
              "      <td>Direct</td>\n",
              "      <td>0</td>\n",
              "      <td>0.0</td>\n",
              "      <td>0.0</td>\n",
              "      <td>C</td>\n",
              "      <td>C</td>\n",
              "      <td>3.0</td>\n",
              "      <td>No Deposit</td>\n",
              "      <td>NULL</td>\n",
              "      <td>0.0</td>\n",
              "      <td>Transient</td>\n",
              "      <td>0.00</td>\n",
              "      <td>0.0</td>\n",
              "      <td>0.0</td>\n",
              "      <td>1435708800</td>\n",
              "      <td>Resort Hotel</td>\n",
              "    </tr>\n",
              "    <tr>\n",
              "      <th>1</th>\n",
              "      <td>0</td>\n",
              "      <td>737</td>\n",
              "      <td>1435708800</td>\n",
              "      <td>0</td>\n",
              "      <td>0</td>\n",
              "      <td>2</td>\n",
              "      <td>0</td>\n",
              "      <td>0</td>\n",
              "      <td>BB</td>\n",
              "      <td>PRT</td>\n",
              "      <td>Direct</td>\n",
              "      <td>Direct</td>\n",
              "      <td>0</td>\n",
              "      <td>0.0</td>\n",
              "      <td>0.0</td>\n",
              "      <td>C</td>\n",
              "      <td>C</td>\n",
              "      <td>4.0</td>\n",
              "      <td>No Deposit</td>\n",
              "      <td>NULL</td>\n",
              "      <td>0.0</td>\n",
              "      <td>Transient</td>\n",
              "      <td>0.00</td>\n",
              "      <td>0.0</td>\n",
              "      <td>0.0</td>\n",
              "      <td>1435708800</td>\n",
              "      <td>Resort Hotel</td>\n",
              "    </tr>\n",
              "    <tr>\n",
              "      <th>2</th>\n",
              "      <td>0</td>\n",
              "      <td>7</td>\n",
              "      <td>1435708800</td>\n",
              "      <td>0</td>\n",
              "      <td>1</td>\n",
              "      <td>1</td>\n",
              "      <td>0</td>\n",
              "      <td>0</td>\n",
              "      <td>BB</td>\n",
              "      <td>GBR</td>\n",
              "      <td>Direct</td>\n",
              "      <td>Direct</td>\n",
              "      <td>0</td>\n",
              "      <td>0.0</td>\n",
              "      <td>0.0</td>\n",
              "      <td>A</td>\n",
              "      <td>C</td>\n",
              "      <td>0.0</td>\n",
              "      <td>No Deposit</td>\n",
              "      <td>NULL</td>\n",
              "      <td>0.0</td>\n",
              "      <td>Transient</td>\n",
              "      <td>75.00</td>\n",
              "      <td>0.0</td>\n",
              "      <td>0.0</td>\n",
              "      <td>1435795200</td>\n",
              "      <td>Resort Hotel</td>\n",
              "    </tr>\n",
              "    <tr>\n",
              "      <th>3</th>\n",
              "      <td>0</td>\n",
              "      <td>13</td>\n",
              "      <td>1435708800</td>\n",
              "      <td>0</td>\n",
              "      <td>1</td>\n",
              "      <td>1</td>\n",
              "      <td>0</td>\n",
              "      <td>0</td>\n",
              "      <td>BB</td>\n",
              "      <td>GBR</td>\n",
              "      <td>Corporate</td>\n",
              "      <td>Corporate</td>\n",
              "      <td>0</td>\n",
              "      <td>0.0</td>\n",
              "      <td>0.0</td>\n",
              "      <td>A</td>\n",
              "      <td>A</td>\n",
              "      <td>0.0</td>\n",
              "      <td>No Deposit</td>\n",
              "      <td>304</td>\n",
              "      <td>0.0</td>\n",
              "      <td>Transient</td>\n",
              "      <td>75.00</td>\n",
              "      <td>0.0</td>\n",
              "      <td>0.0</td>\n",
              "      <td>1435795200</td>\n",
              "      <td>Resort Hotel</td>\n",
              "    </tr>\n",
              "    <tr>\n",
              "      <th>4</th>\n",
              "      <td>0</td>\n",
              "      <td>14</td>\n",
              "      <td>1435708800</td>\n",
              "      <td>0</td>\n",
              "      <td>2</td>\n",
              "      <td>2</td>\n",
              "      <td>0</td>\n",
              "      <td>0</td>\n",
              "      <td>BB</td>\n",
              "      <td>GBR</td>\n",
              "      <td>Online TA</td>\n",
              "      <td>TA/TO</td>\n",
              "      <td>0</td>\n",
              "      <td>0.0</td>\n",
              "      <td>0.0</td>\n",
              "      <td>A</td>\n",
              "      <td>A</td>\n",
              "      <td>0.0</td>\n",
              "      <td>No Deposit</td>\n",
              "      <td>240</td>\n",
              "      <td>0.0</td>\n",
              "      <td>Transient</td>\n",
              "      <td>98.00</td>\n",
              "      <td>0.0</td>\n",
              "      <td>1.0</td>\n",
              "      <td>1435881600</td>\n",
              "      <td>Resort Hotel</td>\n",
              "    </tr>\n",
              "    <tr>\n",
              "      <th>...</th>\n",
              "      <td>...</td>\n",
              "      <td>...</td>\n",
              "      <td>...</td>\n",
              "      <td>...</td>\n",
              "      <td>...</td>\n",
              "      <td>...</td>\n",
              "      <td>...</td>\n",
              "      <td>...</td>\n",
              "      <td>...</td>\n",
              "      <td>...</td>\n",
              "      <td>...</td>\n",
              "      <td>...</td>\n",
              "      <td>...</td>\n",
              "      <td>...</td>\n",
              "      <td>...</td>\n",
              "      <td>...</td>\n",
              "      <td>...</td>\n",
              "      <td>...</td>\n",
              "      <td>...</td>\n",
              "      <td>...</td>\n",
              "      <td>...</td>\n",
              "      <td>...</td>\n",
              "      <td>...</td>\n",
              "      <td>...</td>\n",
              "      <td>...</td>\n",
              "      <td>...</td>\n",
              "      <td>...</td>\n",
              "    </tr>\n",
              "    <tr>\n",
              "      <th>26013</th>\n",
              "      <td>1</td>\n",
              "      <td>246</td>\n",
              "      <td>1468281600</td>\n",
              "      <td>1</td>\n",
              "      <td>3</td>\n",
              "      <td>2</td>\n",
              "      <td>0</td>\n",
              "      <td>0</td>\n",
              "      <td>BB</td>\n",
              "      <td>DEU</td>\n",
              "      <td>Online TA</td>\n",
              "      <td>TA/TO</td>\n",
              "      <td>0</td>\n",
              "      <td>0.0</td>\n",
              "      <td>0.0</td>\n",
              "      <td>A</td>\n",
              "      <td>A</td>\n",
              "      <td>2.0</td>\n",
              "      <td>No Deposit</td>\n",
              "      <td>9</td>\n",
              "      <td>0.0</td>\n",
              "      <td>Transient</td>\n",
              "      <td>101.70</td>\n",
              "      <td>0.0</td>\n",
              "      <td>2.0</td>\n",
              "      <td>1471132800</td>\n",
              "      <td>City Hotel</td>\n",
              "    </tr>\n",
              "    <tr>\n",
              "      <th>26014</th>\n",
              "      <td>1</td>\n",
              "      <td>155</td>\n",
              "      <td>1468281600</td>\n",
              "      <td>1</td>\n",
              "      <td>3</td>\n",
              "      <td>2</td>\n",
              "      <td>0</td>\n",
              "      <td>0</td>\n",
              "      <td>BB</td>\n",
              "      <td>PRT</td>\n",
              "      <td>Offline TA/TO</td>\n",
              "      <td>TA/TO</td>\n",
              "      <td>0</td>\n",
              "      <td>0.0</td>\n",
              "      <td>0.0</td>\n",
              "      <td>A</td>\n",
              "      <td>A</td>\n",
              "      <td>0.0</td>\n",
              "      <td>Non Refund</td>\n",
              "      <td>58</td>\n",
              "      <td>0.0</td>\n",
              "      <td>Transient</td>\n",
              "      <td>130.00</td>\n",
              "      <td>0.0</td>\n",
              "      <td>0.0</td>\n",
              "      <td>1491350400</td>\n",
              "      <td>City Hotel</td>\n",
              "    </tr>\n",
              "    <tr>\n",
              "      <th>26015</th>\n",
              "      <td>1</td>\n",
              "      <td>155</td>\n",
              "      <td>1468281600</td>\n",
              "      <td>1</td>\n",
              "      <td>3</td>\n",
              "      <td>2</td>\n",
              "      <td>0</td>\n",
              "      <td>0</td>\n",
              "      <td>BB</td>\n",
              "      <td>PRT</td>\n",
              "      <td>Offline TA/TO</td>\n",
              "      <td>TA/TO</td>\n",
              "      <td>0</td>\n",
              "      <td>0.0</td>\n",
              "      <td>0.0</td>\n",
              "      <td>A</td>\n",
              "      <td>A</td>\n",
              "      <td>0.0</td>\n",
              "      <td>Non Refund</td>\n",
              "      <td>58</td>\n",
              "      <td>0.0</td>\n",
              "      <td>Transient</td>\n",
              "      <td>130.00</td>\n",
              "      <td>0.0</td>\n",
              "      <td>0.0</td>\n",
              "      <td>1491350400</td>\n",
              "      <td>City Hotel</td>\n",
              "    </tr>\n",
              "    <tr>\n",
              "      <th>26016</th>\n",
              "      <td>1</td>\n",
              "      <td>309</td>\n",
              "      <td>1468540800</td>\n",
              "      <td>1</td>\n",
              "      <td>3</td>\n",
              "      <td>2</td>\n",
              "      <td>0</td>\n",
              "      <td>0</td>\n",
              "      <td>SC</td>\n",
              "      <td>HUN</td>\n",
              "      <td>Online TA</td>\n",
              "      <td>TA/TO</td>\n",
              "      <td>0</td>\n",
              "      <td>0.0</td>\n",
              "      <td>0.0</td>\n",
              "      <td>A</td>\n",
              "      <td>A</td>\n",
              "      <td>0.0</td>\n",
              "      <td>No Deposit</td>\n",
              "      <td>9</td>\n",
              "      <td>0.0</td>\n",
              "      <td>Transient</td>\n",
              "      <td>99.00</td>\n",
              "      <td>0.0</td>\n",
              "      <td>0.0</td>\n",
              "      <td>1466121600</td>\n",
              "      <td>City Hotel</td>\n",
              "    </tr>\n",
              "    <tr>\n",
              "      <th>26017</th>\n",
              "      <td>1</td>\n",
              "      <td>163</td>\n",
              "      <td>1468195200</td>\n",
              "      <td>1</td>\n",
              "      <td>3</td>\n",
              "      <td>2</td>\n",
              "      <td>0</td>\n",
              "      <td>0</td>\n",
              "      <td>BB</td>\n",
              "      <td>DEU</td>\n",
              "      <td>Online TA</td>\n",
              "      <td>TA/TO</td>\n",
              "      <td>0</td>\n",
              "      <td>0.0</td>\n",
              "      <td>0.0</td>\n",
              "      <td>D</td>\n",
              "      <td>D</td>\n",
              "      <td>0.0</td>\n",
              "      <td>No Deposit</td>\n",
              "      <td>9</td>\n",
              "      <td>0.0</td>\n",
              "      <td>Transient</td>\n",
              "      <td>137.25</td>\n",
              "      <td>0.0</td>\n",
              "      <td>2.0</td>\n",
              "      <td>1479254400</td>\n",
              "      <td>City Hotel</td>\n",
              "    </tr>\n",
              "  </tbody>\n",
              "</table>\n",
              "<p>52105 rows × 27 columns</p>\n",
              "</div>"
            ],
            "text/plain": [
              "       IsCanceled  LeadTime  ...  ReservationStatusDate         Hotel\n",
              "0               0       342  ...             1435708800  Resort Hotel\n",
              "1               0       737  ...             1435708800  Resort Hotel\n",
              "2               0         7  ...             1435795200  Resort Hotel\n",
              "3               0        13  ...             1435795200  Resort Hotel\n",
              "4               0        14  ...             1435881600  Resort Hotel\n",
              "...           ...       ...  ...                    ...           ...\n",
              "26013           1       246  ...             1471132800    City Hotel\n",
              "26014           1       155  ...             1491350400    City Hotel\n",
              "26015           1       155  ...             1491350400    City Hotel\n",
              "26016           1       309  ...             1466121600    City Hotel\n",
              "26017           1       163  ...             1479254400    City Hotel\n",
              "\n",
              "[52105 rows x 27 columns]"
            ]
          },
          "metadata": {},
          "execution_count": 133
        }
      ]
    },
    {
      "cell_type": "code",
      "metadata": {
        "id": "oUg-T7ZfaMN1"
      },
      "source": [
        ""
      ],
      "execution_count": null,
      "outputs": []
    },
    {
      "cell_type": "markdown",
      "metadata": {
        "id": "afJp_euBzYpu"
      },
      "source": [
        "## 2.3 H2 dataviz"
      ]
    },
    {
      "cell_type": "code",
      "metadata": {
        "colab": {
          "base_uri": "https://localhost:8080/",
          "height": 417
        },
        "id": "4jvMYaQfg_0-",
        "outputId": "0e0dc1ac-97bf-4fc8-851c-ed75566613d7"
      },
      "source": [
        "plt.figure(figsize=(40,10))\n",
        "sns.catplot(x=\"CustomerType\", y=\"IsCanceled\", hue='Hotel', kind='bar', data=hotel_new)"
      ],
      "execution_count": null,
      "outputs": [
        {
          "output_type": "execute_result",
          "data": {
            "text/plain": [
              "<seaborn.axisgrid.FacetGrid at 0x7f3e68050890>"
            ]
          },
          "metadata": {},
          "execution_count": 134
        },
        {
          "output_type": "display_data",
          "data": {
            "text/plain": [
              "<Figure size 2880x720 with 0 Axes>"
            ]
          },
          "metadata": {}
        },
        {
          "output_type": "display_data",
          "data": {
            "image/png": "[encoded data removed]",
            "text/plain": [
              "<Figure size 457.25x360 with 1 Axes>"
            ]
          },
          "metadata": {
            "needs_background": "light"
          }
        }
      ]
    },
    {
      "cell_type": "code",
      "metadata": {
        "colab": {
          "base_uri": "https://localhost:8080/",
          "height": 634
        },
        "id": "6A7obPIhfIOP",
        "outputId": "a50d052f-5493-44d2-cf6f-1c589407ef77"
      },
      "source": [
        "rh = hotel_new[(hotel_new[\"Hotel\"]==\"Resort Hotel\") & (hotel_new[\"IsCanceled\"]==0)]\n",
        "ch = hotel_new[(hotel_new[\"Hotel\"]==\"City Hotel\") & (hotel_new[\"IsCanceled\"]==0)]\n",
        "\n",
        "rh[\"TotalNights\"] = rh[\"StaysInWeekendNights\"] + rh[\"StaysInWeekNights\"]\n",
        "ch[\"TotalNights\"] = ch[\"StaysInWeekendNights\"] + ch[\"StaysInWeekNights\"]\n",
        "rh_nights_count = rh[\"TotalNights\"].value_counts().reset_index().rename(columns={\"index\":\"Nights\",\"TotalNights\":\"Visits\"})\n",
        "ch_nights_count = ch[\"TotalNights\"].value_counts().reset_index().rename(columns={\"index\":\"Nights\",\"TotalNights\":\"Visits\"})\n",
        "rh_nights_count[\"Hotel\"] = \"Resort Hotel\"\n",
        "ch_nights_count[\"Hotel\"] = \"City Hotel\"\n",
        "all_nights_count = pd.concat([rh_nights_count,ch_nights_count],ignore_index=True)\n",
        "\n",
        "plt.figure(figsize=(18,6))\n",
        "sns.barplot(x=\"Nights\",y=\"Visits\",hue=\"Hotel\",data=all_nights_count)\n",
        "\n",
        "plt.xlabel(\"Frequency\",fontsize=16)\n",
        "plt.ylabel(\"Night count\",fontsize=16)"
      ],
      "execution_count": null,
      "outputs": [
        {
          "output_type": "stream",
          "name": "stderr",
          "text": [
            "/usr/local/lib/python3.7/dist-packages/ipykernel_launcher.py:4: SettingWithCopyWarning: \n",
            "A value is trying to be set on a copy of a slice from a DataFrame.\n",
            "Try using .loc[row_indexer,col_indexer] = value instead\n",
            "\n",
            "See the caveats in the documentation: https://pandas.pydata.org/pandas-docs/stable/user_guide/indexing.html#returning-a-view-versus-a-copy\n",
            "  after removing the cwd from sys.path.\n",
            "/usr/local/lib/python3.7/dist-packages/ipykernel_launcher.py:5: SettingWithCopyWarning: \n",
            "A value is trying to be set on a copy of a slice from a DataFrame.\n",
            "Try using .loc[row_indexer,col_indexer] = value instead\n",
            "\n",
            "See the caveats in the documentation: https://pandas.pydata.org/pandas-docs/stable/user_guide/indexing.html#returning-a-view-versus-a-copy\n",
            "  \"\"\"\n"
          ]
        },
        {
          "output_type": "execute_result",
          "data": {
            "text/plain": [
              "Text(0, 0.5, 'Night count')"
            ]
          },
          "metadata": {},
          "execution_count": 135
        },
        {
          "output_type": "display_data",
          "data": {
            "image/png": "[encoded data removed]",
            "text/plain": [
              "<Figure size 1296x432 with 1 Axes>"
            ]
          },
          "metadata": {
            "needs_background": "light"
          }
        }
      ]
    },
    {
      "cell_type": "markdown",
      "metadata": {
        "id": "zuPUeR8VzhzT"
      },
      "source": [
        "## 2.4 categorical data encoding"
      ]
    },
    {
      "cell_type": "code",
      "metadata": {
        "colab": {
          "base_uri": "https://localhost:8080/"
        },
        "id": "Y6IAZGxMhPXM",
        "outputId": "2f98c61b-31ce-4460-b5bc-4a2b5b68d29a"
      },
      "source": [
        "cat_feature = ['Meal', \n",
        "               'Country',\n",
        "               \"MarketSegment\",\n",
        "               \"DistributionChannel\",\n",
        "               \"ReservedRoomType\",\n",
        "               \"AssignedRoomType\",\n",
        "               \"DepositType\",\n",
        "               \"Agent\",\n",
        "               \"CustomerType\"]\n",
        "for i in cat_feature:\n",
        "  hotel_new[i] = hotel_new[i].astype('category').cat.codes\n",
        "\n",
        "hotel_new.info()"
      ],
      "execution_count": null,
      "outputs": [
        {
          "output_type": "stream",
          "name": "stdout",
          "text": [
            "<class 'pandas.core.frame.DataFrame'>\n",
            "Int64Index: 52105 entries, 0 to 26017\n",
            "Data columns (total 27 columns):\n",
            " #   Column                       Non-Null Count  Dtype  \n",
            "---  ------                       --------------  -----  \n",
            " 0   IsCanceled                   52105 non-null  int64  \n",
            " 1   LeadTime                     52105 non-null  int64  \n",
            " 2   ArrivalDate                  52105 non-null  int64  \n",
            " 3   StaysInWeekendNights         52105 non-null  int64  \n",
            " 4   StaysInWeekNights            52105 non-null  int64  \n",
            " 5   Adults                       52105 non-null  int64  \n",
            " 6   Children                     52105 non-null  int64  \n",
            " 7   Babies                       52105 non-null  int64  \n",
            " 8   Meal                         52105 non-null  int8   \n",
            " 9   Country                      52105 non-null  int16  \n",
            " 10  MarketSegment                52105 non-null  int8   \n",
            " 11  DistributionChannel          52105 non-null  int8   \n",
            " 12  IsRepeatedGuest              52105 non-null  object \n",
            " 13  PreviousCancellations        52105 non-null  float64\n",
            " 14  PreviousBookingsNotCanceled  52105 non-null  float64\n",
            " 15  ReservedRoomType             52105 non-null  int8   \n",
            " 16  AssignedRoomType             52105 non-null  int8   \n",
            " 17  BookingChanges               52105 non-null  float64\n",
            " 18  DepositType                  52105 non-null  int8   \n",
            " 19  Agent                        52105 non-null  int16  \n",
            " 20  DaysInWaitingList            52105 non-null  float64\n",
            " 21  CustomerType                 52105 non-null  int8   \n",
            " 22  ADR                          52105 non-null  float64\n",
            " 23  RequiredCarParkingSpaces     52105 non-null  float64\n",
            " 24  TotalOfSpecialRequests       52105 non-null  float64\n",
            " 25  ReservationStatusDate        52105 non-null  int64  \n",
            " 26  Hotel                        52105 non-null  object \n",
            "dtypes: float64(7), int16(2), int64(9), int8(7), object(2)\n",
            "memory usage: 9.3+ MB\n"
          ]
        }
      ]
    },
    {
      "cell_type": "code",
      "metadata": {
        "id": "a0AuordHlHJo"
      },
      "source": [
        "cityh = hotel_new[hotel_new[\"Hotel\"]==\"City Hotel\"]\n",
        "cityh = cityh.drop([\"Hotel\"],axis=1)"
      ],
      "execution_count": null,
      "outputs": []
    },
    {
      "cell_type": "code",
      "metadata": {
        "colab": {
          "base_uri": "https://localhost:8080/"
        },
        "id": "Pa2IUJuxlWOn",
        "outputId": "d36ae6f7-0126-474b-b0c5-f99302611adf"
      },
      "source": [
        "cityh.info()"
      ],
      "execution_count": null,
      "outputs": [
        {
          "output_type": "stream",
          "text": [
            "<class 'pandas.core.frame.DataFrame'>\n",
            "Int64Index: 26017 entries, 0 to 26017\n",
            "Data columns (total 29 columns):\n",
            " #   Column                       Non-Null Count  Dtype  \n",
            "---  ------                       --------------  -----  \n",
            " 0   IsCanceled                   26017 non-null  int64  \n",
            " 1   LeadTime                     26017 non-null  int64  \n",
            " 2   ArrivalDateYear              26017 non-null  int64  \n",
            " 3   ArrivalMonth                 26017 non-null  int64  \n",
            " 4   ArrivalDateWeekNumber        26017 non-null  int64  \n",
            " 5   ArrivalDateDayOfMonth        26017 non-null  int64  \n",
            " 6   StaysInWeekendNights         26017 non-null  int64  \n",
            " 7   StaysInWeekNights            26017 non-null  int64  \n",
            " 8   Adults                       26017 non-null  int64  \n",
            " 9   Children                     26017 non-null  int64  \n",
            " 10  Babies                       26017 non-null  int64  \n",
            " 11  Meal                         26017 non-null  int8   \n",
            " 12  Country                      26017 non-null  int16  \n",
            " 13  MarketSegment                26017 non-null  int8   \n",
            " 14  DistributionChannel          26017 non-null  int8   \n",
            " 15  IsRepeatedGuest              26017 non-null  object \n",
            " 16  PreviousCancellations        26017 non-null  float64\n",
            " 17  PreviousBookingsNotCanceled  26017 non-null  float64\n",
            " 18  ReservedRoomType             26017 non-null  int8   \n",
            " 19  AssignedRoomType             26017 non-null  int8   \n",
            " 20  BookingChanges               26017 non-null  float64\n",
            " 21  DepositType                  26017 non-null  int8   \n",
            " 22  Agent                        26017 non-null  int16  \n",
            " 23  DaysInWaitingList            26017 non-null  float64\n",
            " 24  CustomerType                 26017 non-null  int8   \n",
            " 25  ADR                          26017 non-null  float64\n",
            " 26  RequiredCarParkingSpaces     26017 non-null  float64\n",
            " 27  TotalOfSpecialRequests       26017 non-null  float64\n",
            " 28  ReservationStatus            26017 non-null  int8   \n",
            "dtypes: float64(7), int16(2), int64(11), int8(8), object(1)\n",
            "memory usage: 4.3+ MB\n"
          ],
          "name": "stdout"
        }
      ]
    },
    {
      "cell_type": "markdown",
      "metadata": {
        "id": "u-TRamZuzoxe"
      },
      "source": [
        "## 2.5 preparation of training/testing datasets"
      ]
    },
    {
      "cell_type": "code",
      "metadata": {
        "id": "pSsAfILunQOq"
      },
      "source": [
        "trans = MinMaxScaler()\n",
        "cityh = pd.DataFrame(trans.fit_transform(cityh))\n",
        "X = cityh.drop([0], axis = 1)\n",
        "y = cityh[0]\n",
        "X_train, X_test, y_train, y_test = train_test_split(X, y, test_size = 0.2, stratify = y)"
      ],
      "execution_count": null,
      "outputs": []
    },
    {
      "cell_type": "markdown",
      "metadata": {
        "id": "daa0yVf2zvW4"
      },
      "source": [
        "## 2.6 H2 dummy classification"
      ]
    },
    {
      "cell_type": "code",
      "metadata": {
        "colab": {
          "base_uri": "https://localhost:8080/"
        },
        "id": "psNpuGlfn4wY",
        "outputId": "44f97c04-b3bd-47cb-87ee-bfa9955fef40"
      },
      "source": [
        "# establish baseline performance\n",
        "# Step 1: Declare variable with model Object\n",
        "dummy = DummyClassifier()\n",
        "# Step 2: Fit the train data in the model\n",
        "dummy.fit(X_train, y_train)\n",
        "# Step 3: Make a prediction using the trained model \n",
        "dummy_pred = dummy.predict(X_test)\n",
        "\n",
        "print(np.sqrt(mean_squared_error(y_test, dummy_pred)))\n",
        "print(confusion_matrix(y_test, dummy_pred))\n",
        "print(f1_score(y_test, dummy_pred))\n"
      ],
      "execution_count": null,
      "outputs": [
        {
          "output_type": "stream",
          "name": "stdout",
          "text": [
            "0.5952670100220568\n",
            "[[ 215  934]\n",
            " [ 910 3145]]\n",
            "0.7732972707155151\n"
          ]
        },
        {
          "output_type": "stream",
          "name": "stderr",
          "text": [
            "/usr/local/lib/python3.7/dist-packages/sklearn/dummy.py:132: FutureWarning: The default value of strategy will change from stratified to prior in 0.24.\n",
            "  \"stratified to prior in 0.24.\", FutureWarning)\n"
          ]
        }
      ]
    },
    {
      "cell_type": "code",
      "metadata": {
        "id": "bb2FAWiozzzN"
      },
      "source": [
        ""
      ],
      "execution_count": null,
      "outputs": []
    },
    {
      "cell_type": "markdown",
      "metadata": {
        "id": "-M2EE_DCz0Dn"
      },
      "source": [
        "## 2.7 H2 decision tree classification"
      ]
    },
    {
      "cell_type": "code",
      "metadata": {
        "colab": {
          "base_uri": "https://localhost:8080/",
          "height": 358
        },
        "id": "XiRDofCaoRfg",
        "outputId": "99b604d9-6adb-48f2-e258-a17b03e37351"
      },
      "source": [
        "# Step 1: Declare variable with model Object\n",
        "dt = DecisionTreeClassifier()\n",
        "# Step 2: Fit the train data in the model\n",
        "dt.fit(X_train, y_train)\n",
        "# Step 3: Make a prediction using the trained model \n",
        "dt_pred = dt.predict(X_test)\n",
        "\n",
        "print(np.sqrt(mean_squared_error(y_test, dt_pred)))\n",
        "print(confusion_matrix(y_test, dt_pred))\n",
        "print(classification_report(y_test, dt_pred))\n",
        "\n",
        "from sklearn import tree\n",
        "tree.export_text(dt)"
      ],
      "execution_count": null,
      "outputs": [
        {
          "output_type": "stream",
          "name": "stdout",
          "text": [
            "0.16284367666089974\n",
            "[[1073   76]\n",
            " [  62 3993]]\n",
            "              precision    recall  f1-score   support\n",
            "\n",
            "         0.0       0.95      0.93      0.94      1149\n",
            "         1.0       0.98      0.98      0.98      4055\n",
            "\n",
            "    accuracy                           0.97      5204\n",
            "   macro avg       0.96      0.96      0.96      5204\n",
            "weighted avg       0.97      0.97      0.97      5204\n",
            "\n"
          ]
        },
        {
          "output_type": "execute_result",
          "data": {
            "application/vnd.google.colaboratory.intrinsic+json": {
              "type": "string"
            },
            "text/plain": [
              "'|--- feature_24 <= 0.29\\n|   |--- feature_17 <= 0.25\\n|   |   |--- feature_24 <= 0.19\\n|   |   |   |--- feature_1 <= 0.02\\n|   |   |   |   |--- feature_24 <= 0.17\\n|   |   |   |   |   |--- feature_0 <= 0.03\\n|   |   |   |   |   |   |--- feature_1 <= 0.01\\n|   |   |   |   |   |   |   |--- class: 0.0\\n|   |   |   |   |   |   |--- feature_1 >  0.01\\n|   |   |   |   |   |   |   |--- feature_24 <= 0.17\\n|   |   |   |   |   |   |   |   |--- class: 1.0\\n|   |   |   |   |   |   |   |--- feature_24 >  0.17\\n|   |   |   |   |   |   |   |   |--- class: 0.0\\n|   |   |   |   |   |--- feature_0 >  0.03\\n|   |   |   |   |   |   |--- feature_24 <= 0.15\\n|   |   |   |   |   |   |   |--- class: 1.0\\n|   |   |   |   |   |   |--- feature_24 >  0.15\\n|   |   |   |   |   |   |   |--- feature_1 <= 0.00\\n|   |   |   |   |   |   |   |   |--- feature_9 <= 0.50\\n|   |   |   |   |   |   |   |   |   |--- class: 1.0\\n|   |   |   |   |   |   |   |   |--- feature_9 >  0.50\\n|   |   |   |   |   |   |   |   |   |--- feature_0 <= 0.16\\n|   |   |   |   |   |   |   |   |   |   |--- feature_7 <= 0.25\\n|   |   |   |   |   |   |   |   |   |   |   |--- truncated branch of depth 2\\n|   |   |   |   |   |   |   |   |   |   |--- feature_7 >  0.25\\n|   |   |   |   |   |   |   |   |   |   |   |--- class: 0.0\\n|   |   |   |   |   |   |   |   |   |--- feature_0 >  0.16\\n|   |   |   |   |   |   |   |   |   |   |--- class: 1.0\\n|   |   |   |   |   |   |   |--- feature_1 >  0.00\\n|   |   |   |   |   |   |   |   |--- feature_7 <= 0.75\\n|   |   |   |   |   |   |   |   |   |--- feature_1 <= 0.01\\n|   |   |   |   |   |   |   |   |   |   |--- feature_24 <= 0.17\\n|   |   |   |   |   |   |   |   |   |   |   |--- class: 1.0\\n|   |   |   |   |   |   |   |   |   |   |--- feature_24 >  0.17\\n|   |   |   |   |   |   |   |   |   |   |   |--- class: 0.0\\n|   |   |   |   |   |   |   |   |   |--- feature_1 >  0.01\\n|   |   |   |   |   |   |   |   |   |   |--- class: 1.0\\n|   |   |   |   |   |   |   |   |--- feature_7 >  0.75\\n|   |   |   |   |   |   |   |   |   |--- class: 0.0\\n|   |   |   |   |--- feature_24 >  0.17\\n|   |   |   |   |   |--- feature_21 <= 0.30\\n|   |   |   |   |   |   |--- feature_3 <= 0.26\\n|   |   |   |   |   |   |   |--- class: 0.0\\n|   |   |   |   |   |   |--- feature_3 >  0.26\\n|   |   |   |   |   |   |   |--- class: 1.0\\n|   |   |   |   |   |--- feature_21 >  0.30\\n|   |   |   |   |   |   |--- feature_24 <= 0.19\\n|   |   |   |   |   |   |   |--- feature_1 <= 0.02\\n|   |   |   |   |   |   |   |   |--- class: 0.0\\n|   |   |   |   |   |   |   |--- feature_1 >  0.02\\n|   |   |   |   |   |   |   |   |--- class: 1.0\\n|   |   |   |   |   |   |--- feature_24 >  0.19\\n|   |   |   |   |   |   |   |--- class: 0.0\\n|   |   |   |--- feature_1 >  0.02\\n|   |   |   |   |--- feature_0 <= 0.00\\n|   |   |   |   |   |--- feature_24 <= 0.19\\n|   |   |   |   |   |   |--- feature_2 <= 0.04\\n|   |   |   |   |   |   |   |--- class: 1.0\\n|   |   |   |   |   |   |--- feature_2 >  0.04\\n|   |   |   |   |   |   |   |--- class: 0.0\\n|   |   |   |   |   |--- feature_24 >  0.19\\n|   |   |   |   |   |   |--- class: 0.0\\n|   |   |   |   |--- feature_0 >  0.00\\n|   |   |   |   |   |--- feature_22 <= 0.50\\n|   |   |   |   |   |   |--- feature_9 <= 0.50\\n|   |   |   |   |   |   |   |--- feature_4 <= 0.38\\n|   |   |   |   |   |   |   |   |--- class: 1.0\\n|   |   |   |   |   |   |   |--- feature_4 >  0.38\\n|   |   |   |   |   |   |   |   |--- class: 0.0\\n|   |   |   |   |   |   |--- feature_9 >  0.50\\n|   |   |   |   |   |   |   |--- class: 1.0\\n|   |   |   |   |   |--- feature_22 >  0.50\\n|   |   |   |   |   |   |--- class: 0.0\\n|   |   |--- feature_24 >  0.19\\n|   |   |   |--- feature_1 <= 0.37\\n|   |   |   |   |--- feature_8 <= 0.75\\n|   |   |   |   |   |--- feature_10 <= 0.12\\n|   |   |   |   |   |   |--- feature_24 <= 0.24\\n|   |   |   |   |   |   |   |--- feature_8 <= 0.36\\n|   |   |   |   |   |   |   |   |--- class: 1.0\\n|   |   |   |   |   |   |   |--- feature_8 >  0.36\\n|   |   |   |   |   |   |   |   |--- class: 0.0\\n|   |   |   |   |   |   |--- feature_24 >  0.24\\n|   |   |   |   |   |   |   |--- class: 0.0\\n|   |   |   |   |   |--- feature_10 >  0.12\\n|   |   |   |   |   |   |--- feature_8 <= 0.45\\n|   |   |   |   |   |   |   |--- feature_0 <= 0.00\\n|   |   |   |   |   |   |   |   |--- feature_18 <= 0.01\\n|   |   |   |   |   |   |   |   |   |--- class: 1.0\\n|   |   |   |   |   |   |   |   |--- feature_18 >  0.01\\n|   |   |   |   |   |   |   |   |   |--- class: 0.0\\n|   |   |   |   |   |   |   |--- feature_0 >  0.00\\n|   |   |   |   |   |   |   |   |--- class: 0.0\\n|   |   |   |   |   |   |--- feature_8 >  0.45\\n|   |   |   |   |   |   |   |--- feature_8 <= 0.47\\n|   |   |   |   |   |   |   |   |--- feature_24 <= 0.24\\n|   |   |   |   |   |   |   |   |   |--- class: 1.0\\n|   |   |   |   |   |   |   |   |--- feature_24 >  0.24\\n|   |   |   |   |   |   |   |   |   |--- class: 0.0\\n|   |   |   |   |   |   |   |--- feature_8 >  0.47\\n|   |   |   |   |   |   |   |   |--- feature_24 <= 0.21\\n|   |   |   |   |   |   |   |   |   |--- feature_1 <= 0.08\\n|   |   |   |   |   |   |   |   |   |   |--- feature_4 <= 0.62\\n|   |   |   |   |   |   |   |   |   |   |   |--- truncated branch of depth 3\\n|   |   |   |   |   |   |   |   |   |   |--- feature_4 >  0.62\\n|   |   |   |   |   |   |   |   |   |   |   |--- truncated branch of depth 2\\n|   |   |   |   |   |   |   |   |   |--- feature_1 >  0.08\\n|   |   |   |   |   |   |   |   |   |   |--- feature_18 <= 0.05\\n|   |   |   |   |   |   |   |   |   |   |   |--- class: 0.0\\n|   |   |   |   |   |   |   |   |   |   |--- feature_18 >  0.05\\n|   |   |   |   |   |   |   |   |   |   |   |--- class: 1.0\\n|   |   |   |   |   |   |   |   |--- feature_24 >  0.21\\n|   |   |   |   |   |   |   |   |   |--- feature_19 <= 0.18\\n|   |   |   |   |   |   |   |   |   |   |--- feature_0 <= 0.22\\n|   |   |   |   |   |   |   |   |   |   |   |--- class: 0.0\\n|   |   |   |   |   |   |   |   |   |   |--- feature_0 >  0.22\\n|   |   |   |   |   |   |   |   |   |   |   |--- truncated branch of depth 2\\n|   |   |   |   |   |   |   |   |   |--- feature_19 >  0.18\\n|   |   |   |   |   |   |   |   |   |   |--- feature_24 <= 0.26\\n|   |   |   |   |   |   |   |   |   |   |   |--- class: 1.0\\n|   |   |   |   |   |   |   |   |   |   |--- feature_24 >  0.26\\n|   |   |   |   |   |   |   |   |   |   |   |--- class: 0.0\\n|   |   |   |   |--- feature_8 >  0.75\\n|   |   |   |   |   |--- feature_24 <= 0.24\\n|   |   |   |   |   |   |--- feature_1 <= 0.15\\n|   |   |   |   |   |   |   |--- feature_24 <= 0.23\\n|   |   |   |   |   |   |   |   |--- feature_1 <= 0.12\\n|   |   |   |   |   |   |   |   |   |--- feature_1 <= 0.05\\n|   |   |   |   |   |   |   |   |   |   |--- feature_0 <= 0.23\\n|   |   |   |   |   |   |   |   |   |   |   |--- truncated branch of depth 7\\n|   |   |   |   |   |   |   |   |   |   |--- feature_0 >  0.23\\n|   |   |   |   |   |   |   |   |   |   |   |--- class: 1.0\\n|   |   |   |   |   |   |   |   |   |--- feature_1 >  0.05\\n|   |   |   |   |   |   |   |   |   |   |--- feature_24 <= 0.20\\n|   |   |   |   |   |   |   |   |   |   |   |--- truncated branch of depth 4\\n|   |   |   |   |   |   |   |   |   |   |--- feature_24 >  0.20\\n|   |   |   |   |   |   |   |   |   |   |   |--- truncated branch of depth 9\\n|   |   |   |   |   |   |   |   |--- feature_1 >  0.12\\n|   |   |   |   |   |   |   |   |   |--- feature_10 <= 0.50\\n|   |   |   |   |   |   |   |   |   |   |--- class: 0.0\\n|   |   |   |   |   |   |   |   |   |--- feature_10 >  0.50\\n|   |   |   |   |   |   |   |   |   |   |--- feature_1 <= 0.12\\n|   |   |   |   |   |   |   |   |   |   |   |--- truncated branch of depth 2\\n|   |   |   |   |   |   |   |   |   |   |--- feature_1 >  0.12\\n|   |   |   |   |   |   |   |   |   |   |   |--- class: 1.0\\n|   |   |   |   |   |   |   |--- feature_24 >  0.23\\n|   |   |   |   |   |   |   |   |--- feature_21 <= 0.39\\n|   |   |   |   |   |   |   |   |   |--- class: 0.0\\n|   |   |   |   |   |   |   |   |--- feature_21 >  0.39\\n|   |   |   |   |   |   |   |   |   |--- feature_21 <= 0.39\\n|   |   |   |   |   |   |   |   |   |   |--- class: 1.0\\n|   |   |   |   |   |   |   |   |   |--- feature_21 >  0.39\\n|   |   |   |   |   |   |   |   |   |   |--- feature_1 <= 0.14\\n|   |   |   |   |   |   |   |   |   |   |   |--- truncated branch of depth 3\\n|   |   |   |   |   |   |   |   |   |   |--- feature_1 >  0.14\\n|   |   |   |   |   |   |   |   |   |   |   |--- class: 1.0\\n|   |   |   |   |   |   |--- feature_1 >  0.15\\n|   |   |   |   |   |   |   |--- feature_21 <= 0.03\\n|   |   |   |   |   |   |   |   |--- class: 0.0\\n|   |   |   |   |   |   |   |--- feature_21 >  0.03\\n|   |   |   |   |   |   |   |   |--- class: 1.0\\n|   |   |   |   |   |--- feature_24 >  0.24\\n|   |   |   |   |   |   |--- feature_1 <= 0.20\\n|   |   |   |   |   |   |   |--- feature_18 <= 0.59\\n|   |   |   |   |   |   |   |   |--- feature_24 <= 0.25\\n|   |   |   |   |   |   |   |   |   |--- feature_1 <= 0.17\\n|   |   |   |   |   |   |   |   |   |   |--- class: 0.0\\n|   |   |   |   |   |   |   |   |   |--- feature_1 >  0.17\\n|   |   |   |   |   |   |   |   |   |   |--- class: 1.0\\n|   |   |   |   |   |   |   |   |--- feature_24 >  0.25\\n|   |   |   |   |   |   |   |   |   |--- class: 0.0\\n|   |   |   |   |   |   |   |--- feature_18 >  0.59\\n|   |   |   |   |   |   |   |   |--- feature_1 <= 0.17\\n|   |   |   |   |   |   |   |   |   |--- feature_3 <= 0.07\\n|   |   |   |   |   |   |   |   |   |   |--- class: 0.0\\n|   |   |   |   |   |   |   |   |   |--- feature_3 >  0.07\\n|   |   |   |   |   |   |   |   |   |   |--- feature_24 <= 0.25\\n|   |   |   |   |   |   |   |   |   |   |   |--- class: 1.0\\n|   |   |   |   |   |   |   |   |   |   |--- feature_24 >  0.25\\n|   |   |   |   |   |   |   |   |   |   |   |--- class: 0.0\\n|   |   |   |   |   |   |   |   |--- feature_1 >  0.17\\n|   |   |   |   |   |   |   |   |   |--- feature_24 <= 0.25\\n|   |   |   |   |   |   |   |   |   |   |--- class: 1.0\\n|   |   |   |   |   |   |   |   |   |--- feature_24 >  0.25\\n|   |   |   |   |   |   |   |   |   |   |--- class: 0.0\\n|   |   |   |   |   |   |--- feature_1 >  0.20\\n|   |   |   |   |   |   |   |--- feature_24 <= 0.25\\n|   |   |   |   |   |   |   |   |--- class: 1.0\\n|   |   |   |   |   |   |   |--- feature_24 >  0.25\\n|   |   |   |   |   |   |   |   |--- feature_24 <= 0.27\\n|   |   |   |   |   |   |   |   |   |--- feature_1 <= 0.29\\n|   |   |   |   |   |   |   |   |   |   |--- feature_4 <= 0.62\\n|   |   |   |   |   |   |   |   |   |   |   |--- truncated branch of depth 5\\n|   |   |   |   |   |   |   |   |   |   |--- feature_4 >  0.62\\n|   |   |   |   |   |   |   |   |   |   |   |--- class: 1.0\\n|   |   |   |   |   |   |   |   |   |--- feature_1 >  0.29\\n|   |   |   |   |   |   |   |   |   |   |--- class: 1.0\\n|   |   |   |   |   |   |   |   |--- feature_24 >  0.27\\n|   |   |   |   |   |   |   |   |   |--- feature_1 <= 0.36\\n|   |   |   |   |   |   |   |   |   |   |--- feature_20 <= 0.83\\n|   |   |   |   |   |   |   |   |   |   |   |--- truncated branch of depth 5\\n|   |   |   |   |   |   |   |   |   |   |--- feature_20 >  0.83\\n|   |   |   |   |   |   |   |   |   |   |   |--- truncated branch of depth 6\\n|   |   |   |   |   |   |   |   |   |--- feature_1 >  0.36\\n|   |   |   |   |   |   |   |   |   |   |--- feature_1 <= 0.36\\n|   |   |   |   |   |   |   |   |   |   |   |--- class: 1.0\\n|   |   |   |   |   |   |   |   |   |   |--- feature_1 >  0.36\\n|   |   |   |   |   |   |   |   |   |   |   |--- class: 0.0\\n|   |   |   |--- feature_1 >  0.37\\n|   |   |   |   |--- feature_21 <= 0.01\\n|   |   |   |   |   |--- class: 0.0\\n|   |   |   |   |--- feature_21 >  0.01\\n|   |   |   |   |   |--- class: 1.0\\n|   |--- feature_17 >  0.25\\n|   |   |--- feature_8 <= 0.17\\n|   |   |   |--- class: 0.0\\n|   |   |--- feature_8 >  0.17\\n|   |   |   |--- class: 1.0\\n|--- feature_24 >  0.29\\n|   |--- feature_20 <= 0.83\\n|   |   |--- feature_22 <= 0.50\\n|   |   |   |--- feature_23 <= 0.12\\n|   |   |   |   |--- feature_17 <= 0.25\\n|   |   |   |   |   |--- feature_24 <= 0.40\\n|   |   |   |   |   |   |--- feature_1 <= 0.44\\n|   |   |   |   |   |   |   |--- feature_1 <= 0.33\\n|   |   |   |   |   |   |   |   |--- class: 1.0\\n|   |   |   |   |   |   |   |--- feature_1 >  0.33\\n|   |   |   |   |   |   |   |   |--- feature_21 <= 0.45\\n|   |   |   |   |   |   |   |   |   |--- feature_21 <= 0.27\\n|   |   |   |   |   |   |   |   |   |   |--- feature_1 <= 0.44\\n|   |   |   |   |   |   |   |   |   |   |   |--- truncated branch of depth 5\\n|   |   |   |   |   |   |   |   |   |   |--- feature_1 >  0.44\\n|   |   |   |   |   |   |   |   |   |   |   |--- truncated branch of depth 2\\n|   |   |   |   |   |   |   |   |   |--- feature_21 >  0.27\\n|   |   |   |   |   |   |   |   |   |   |--- feature_0 <= 0.01\\n|   |   |   |   |   |   |   |   |   |   |   |--- truncated branch of depth 3\\n|   |   |   |   |   |   |   |   |   |   |--- feature_0 >  0.01\\n|   |   |   |   |   |   |   |   |   |   |   |--- truncated branch of depth 5\\n|   |   |   |   |   |   |   |   |--- feature_21 >  0.45\\n|   |   |   |   |   |   |   |   |   |--- feature_14 <= 0.06\\n|   |   |   |   |   |   |   |   |   |   |--- class: 0.0\\n|   |   |   |   |   |   |   |   |   |--- feature_14 >  0.06\\n|   |   |   |   |   |   |   |   |   |   |--- class: 1.0\\n|   |   |   |   |   |   |--- feature_1 >  0.44\\n|   |   |   |   |   |   |   |--- class: 1.0\\n|   |   |   |   |   |--- feature_24 >  0.40\\n|   |   |   |   |   |   |--- feature_21 <= 0.26\\n|   |   |   |   |   |   |   |--- feature_1 <= 0.44\\n|   |   |   |   |   |   |   |   |--- feature_1 <= 0.21\\n|   |   |   |   |   |   |   |   |   |--- feature_24 <= 0.66\\n|   |   |   |   |   |   |   |   |   |   |--- class: 1.0\\n|   |   |   |   |   |   |   |   |   |--- feature_24 >  0.66\\n|   |   |   |   |   |   |   |   |   |   |--- feature_0 <= 0.31\\n|   |   |   |   |   |   |   |   |   |   |   |--- truncated branch of depth 2\\n|   |   |   |   |   |   |   |   |   |   |--- feature_0 >  0.31\\n|   |   |   |   |   |   |   |   |   |   |   |--- class: 0.0\\n|   |   |   |   |   |   |   |   |--- feature_1 >  0.21\\n|   |   |   |   |   |   |   |   |   |--- class: 1.0\\n|   |   |   |   |   |   |   |--- feature_1 >  0.44\\n|   |   |   |   |   |   |   |   |--- feature_0 <= 0.10\\n|   |   |   |   |   |   |   |   |   |--- feature_1 <= 0.49\\n|   |   |   |   |   |   |   |   |   |   |--- feature_1 <= 0.45\\n|   |   |   |   |   |   |   |   |   |   |   |--- truncated branch of depth 2\\n|   |   |   |   |   |   |   |   |   |   |--- feature_1 >  0.45\\n|   |   |   |   |   |   |   |   |   |   |   |--- truncated branch of depth 7\\n|   |   |   |   |   |   |   |   |   |--- feature_1 >  0.49\\n|   |   |   |   |   |   |   |   |   |   |--- feature_21 <= 0.22\\n|   |   |   |   |   |   |   |   |   |   |   |--- truncated branch of depth 5\\n|   |   |   |   |   |   |   |   |   |   |--- feature_21 >  0.22\\n|   |   |   |   |   |   |   |   |   |   |   |--- class: 1.0\\n|   |   |   |   |   |   |   |   |--- feature_0 >  0.10\\n|   |   |   |   |   |   |   |   |   |--- feature_24 <= 0.44\\n|   |   |   |   |   |   |   |   |   |   |--- feature_0 <= 0.23\\n|   |   |   |   |   |   |   |   |   |   |   |--- class: 1.0\\n|   |   |   |   |   |   |   |   |   |   |--- feature_0 >  0.23\\n|   |   |   |   |   |   |   |   |   |   |   |--- class: 0.0\\n|   |   |   |   |   |   |   |   |   |--- feature_24 >  0.44\\n|   |   |   |   |   |   |   |   |   |   |--- feature_8 <= 0.75\\n|   |   |   |   |   |   |   |   |   |   |   |--- truncated branch of depth 10\\n|   |   |   |   |   |   |   |   |   |   |--- feature_8 >  0.75\\n|   |   |   |   |   |   |   |   |   |   |   |--- truncated branch of depth 6\\n|   |   |   |   |   |   |--- feature_21 >  0.26\\n|   |   |   |   |   |   |   |--- feature_21 <= 0.32\\n|   |   |   |   |   |   |   |   |--- feature_15 <= 0.05\\n|   |   |   |   |   |   |   |   |   |--- feature_1 <= 0.48\\n|   |   |   |   |   |   |   |   |   |   |--- feature_1 <= 0.01\\n|   |   |   |   |   |   |   |   |   |   |   |--- truncated branch of depth 2\\n|   |   |   |   |   |   |   |   |   |   |--- feature_1 >  0.01\\n|   |   |   |   |   |   |   |   |   |   |   |--- truncated branch of depth 9\\n|   |   |   |   |   |   |   |   |   |--- feature_1 >  0.48\\n|   |   |   |   |   |   |   |   |   |   |--- feature_0 <= 0.06\\n|   |   |   |   |   |   |   |   |   |   |   |--- truncated branch of depth 3\\n|   |   |   |   |   |   |   |   |   |   |--- feature_0 >  0.06\\n|   |   |   |   |   |   |   |   |   |   |   |--- truncated branch of depth 11\\n|   |   |   |   |   |   |   |   |--- feature_15 >  0.05\\n|   |   |   |   |   |   |   |   |   |--- feature_0 <= 0.14\\n|   |   |   |   |   |   |   |   |   |   |--- feature_24 <= 0.49\\n|   |   |   |   |   |   |   |   |   |   |   |--- truncated branch of depth 4\\n|   |   |   |   |   |   |   |   |   |   |--- feature_24 >  0.49\\n|   |   |   |   |   |   |   |   |   |   |   |--- class: 1.0\\n|   |   |   |   |   |   |   |   |   |--- feature_0 >  0.14\\n|   |   |   |   |   |   |   |   |   |   |--- feature_0 <= 0.41\\n|   |   |   |   |   |   |   |   |   |   |   |--- truncated branch of depth 9\\n|   |   |   |   |   |   |   |   |   |   |--- feature_0 >  0.41\\n|   |   |   |   |   |   |   |   |   |   |   |--- class: 1.0\\n|   |   |   |   |   |   |   |--- feature_21 >  0.32\\n|   |   |   |   |   |   |   |   |--- feature_16 <= 0.30\\n|   |   |   |   |   |   |   |   |   |--- feature_19 <= 0.29\\n|   |   |   |   |   |   |   |   |   |   |--- feature_0 <= 0.19\\n|   |   |   |   |   |   |   |   |   |   |   |--- truncated branch of depth 7\\n|   |   |   |   |   |   |   |   |   |   |--- feature_0 >  0.19\\n|   |   |   |   |   |   |   |   |   |   |   |--- truncated branch of depth 8\\n|   |   |   |   |   |   |   |   |   |--- feature_19 >  0.29\\n|   |   |   |   |   |   |   |   |   |   |--- class: 0.0\\n|   |   |   |   |   |   |   |   |--- feature_16 >  0.30\\n|   |   |   |   |   |   |   |   |   |--- feature_21 <= 0.52\\n|   |   |   |   |   |   |   |   |   |   |--- class: 1.0\\n|   |   |   |   |   |   |   |   |   |--- feature_21 >  0.52\\n|   |   |   |   |   |   |   |   |   |   |--- class: 0.0\\n|   |   |   |   |--- feature_17 >  0.25\\n|   |   |   |   |   |--- class: 1.0\\n|   |   |   |--- feature_23 >  0.12\\n|   |   |   |   |--- feature_24 <= 0.60\\n|   |   |   |   |   |--- feature_24 <= 0.39\\n|   |   |   |   |   |   |--- feature_1 <= 0.43\\n|   |   |   |   |   |   |   |--- feature_8 <= 0.75\\n|   |   |   |   |   |   |   |   |--- feature_1 <= 0.33\\n|   |   |   |   |   |   |   |   |   |--- class: 1.0\\n|   |   |   |   |   |   |   |   |--- feature_1 >  0.33\\n|   |   |   |   |   |   |   |   |   |--- feature_0 <= 0.03\\n|   |   |   |   |   |   |   |   |   |   |--- feature_24 <= 0.37\\n|   |   |   |   |   |   |   |   |   |   |   |--- class: 1.0\\n|   |   |   |   |   |   |   |   |   |   |--- feature_24 >  0.37\\n|   |   |   |   |   |   |   |   |   |   |   |--- truncated branch of depth 3\\n|   |   |   |   |   |   |   |   |   |--- feature_0 >  0.03\\n|   |   |   |   |   |   |   |   |   |   |--- class: 0.0\\n|   |   |   |   |   |   |   |--- feature_8 >  0.75\\n|   |   |   |   |   |   |   |   |--- feature_0 <= 0.14\\n|   |   |   |   |   |   |   |   |   |--- feature_0 <= 0.10\\n|   |   |   |   |   |   |   |   |   |   |--- feature_21 <= 0.38\\n|   |   |   |   |   |   |   |   |   |   |   |--- class: 0.0\\n|   |   |   |   |   |   |   |   |   |   |--- feature_21 >  0.38\\n|   |   |   |   |   |   |   |   |   |   |   |--- truncated branch of depth 2\\n|   |   |   |   |   |   |   |   |   |--- feature_0 >  0.10\\n|   |   |   |   |   |   |   |   |   |   |--- feature_0 <= 0.12\\n|   |   |   |   |   |   |   |   |   |   |   |--- truncated branch of depth 2\\n|   |   |   |   |   |   |   |   |   |   |--- feature_0 >  0.12\\n|   |   |   |   |   |   |   |   |   |   |   |--- truncated branch of depth 2\\n|   |   |   |   |   |   |   |   |--- feature_0 >  0.14\\n|   |   |   |   |   |   |   |   |   |--- feature_24 <= 0.36\\n|   |   |   |   |   |   |   |   |   |   |--- feature_24 <= 0.34\\n|   |   |   |   |   |   |   |   |   |   |   |--- class: 1.0\\n|   |   |   |   |   |   |   |   |   |   |--- feature_24 >  0.34\\n|   |   |   |   |   |   |   |   |   |   |   |--- truncated branch of depth 2\\n|   |   |   |   |   |   |   |   |   |--- feature_24 >  0.36\\n|   |   |   |   |   |   |   |   |   |   |--- class: 0.0\\n|   |   |   |   |   |   |--- feature_1 >  0.43\\n|   |   |   |   |   |   |   |--- class: 1.0\\n|   |   |   |   |   |--- feature_24 >  0.39\\n|   |   |   |   |   |   |--- feature_21 <= 0.29\\n|   |   |   |   |   |   |   |--- feature_18 <= 0.03\\n|   |   |   |   |   |   |   |   |--- feature_8 <= 0.75\\n|   |   |   |   |   |   |   |   |   |--- class: 0.0\\n|   |   |   |   |   |   |   |   |--- feature_8 >  0.75\\n|   |   |   |   |   |   |   |   |   |--- feature_24 <= 0.47\\n|   |   |   |   |   |   |   |   |   |   |--- feature_1 <= 0.45\\n|   |   |   |   |   |   |   |   |   |   |   |--- class: 0.0\\n|   |   |   |   |   |   |   |   |   |   |--- feature_1 >  0.45\\n|   |   |   |   |   |   |   |   |   |   |   |--- class: 1.0\\n|   |   |   |   |   |   |   |   |   |--- feature_24 >  0.47\\n|   |   |   |   |   |   |   |   |   |   |--- feature_1 <= 0.85\\n|   |   |   |   |   |   |   |   |   |   |   |--- class: 0.0\\n|   |   |   |   |   |   |   |   |   |   |--- feature_1 >  0.85\\n|   |   |   |   |   |   |   |   |   |   |   |--- class: 1.0\\n|   |   |   |   |   |   |   |--- feature_18 >  0.03\\n|   |   |   |   |   |   |   |   |--- feature_7 <= 0.50\\n|   |   |   |   |   |   |   |   |   |--- feature_18 <= 0.11\\n|   |   |   |   |   |   |   |   |   |   |--- feature_0 <= 0.25\\n|   |   |   |   |   |   |   |   |   |   |   |--- truncated branch of depth 11\\n|   |   |   |   |   |   |   |   |   |   |--- feature_0 >  0.25\\n|   |   |   |   |   |   |   |   |   |   |   |--- class: 1.0\\n|   |   |   |   |   |   |   |   |   |--- feature_18 >  0.11\\n|   |   |   |   |   |   |   |   |   |   |--- feature_0 <= 0.01\\n|   |   |   |   |   |   |   |   |   |   |   |--- truncated branch of depth 3\\n|   |   |   |   |   |   |   |   |   |   |--- feature_0 >  0.01\\n|   |   |   |   |   |   |   |   |   |   |   |--- class: 1.0\\n|   |   |   |   |   |   |   |   |--- feature_7 >  0.50\\n|   |   |   |   |   |   |   |   |   |--- feature_21 <= 0.25\\n|   |   |   |   |   |   |   |   |   |   |--- feature_24 <= 0.48\\n|   |   |   |   |   |   |   |   |   |   |   |--- truncated branch of depth 8\\n|   |   |   |   |   |   |   |   |   |   |--- feature_24 >  0.48\\n|   |   |   |   |   |   |   |   |   |   |   |--- truncated branch of depth 3\\n|   |   |   |   |   |   |   |   |   |--- feature_21 >  0.25\\n|   |   |   |   |   |   |   |   |   |   |--- feature_24 <= 0.52\\n|   |   |   |   |   |   |   |   |   |   |   |--- truncated branch of depth 3\\n|   |   |   |   |   |   |   |   |   |   |--- feature_24 >  0.52\\n|   |   |   |   |   |   |   |   |   |   |   |--- truncated branch of depth 2\\n|   |   |   |   |   |   |--- feature_21 >  0.29\\n|   |   |   |   |   |   |   |--- feature_24 <= 0.55\\n|   |   |   |   |   |   |   |   |--- feature_21 <= 0.34\\n|   |   |   |   |   |   |   |   |   |--- feature_0 <= 0.21\\n|   |   |   |   |   |   |   |   |   |   |--- feature_24 <= 0.50\\n|   |   |   |   |   |   |   |   |   |   |   |--- truncated branch of depth 6\\n|   |   |   |   |   |   |   |   |   |   |--- feature_24 >  0.50\\n|   |   |   |   |   |   |   |   |   |   |   |--- truncated branch of depth 6\\n|   |   |   |   |   |   |   |   |   |--- feature_0 >  0.21\\n|   |   |   |   |   |   |   |   |   |   |--- class: 1.0\\n|   |   |   |   |   |   |   |   |--- feature_21 >  0.34\\n|   |   |   |   |   |   |   |   |   |--- feature_0 <= 0.00\\n|   |   |   |   |   |   |   |   |   |   |--- feature_8 <= 0.74\\n|   |   |   |   |   |   |   |   |   |   |   |--- class: 0.0\\n|   |   |   |   |   |   |   |   |   |   |--- feature_8 >  0.74\\n|   |   |   |   |   |   |   |   |   |   |   |--- class: 1.0\\n|   |   |   |   |   |   |   |   |   |--- feature_0 >  0.00\\n|   |   |   |   |   |   |   |   |   |   |--- feature_16 <= 0.23\\n|   |   |   |   |   |   |   |   |   |   |   |--- truncated branch of depth 6\\n|   |   |   |   |   |   |   |   |   |   |--- feature_16 >  0.23\\n|   |   |   |   |   |   |   |   |   |   |   |--- truncated branch of depth 2\\n|   |   |   |   |   |   |   |--- feature_24 >  0.55\\n|   |   |   |   |   |   |   |   |--- feature_0 <= 0.20\\n|   |   |   |   |   |   |   |   |   |--- class: 1.0\\n|   |   |   |   |   |   |   |   |--- feature_0 >  0.20\\n|   |   |   |   |   |   |   |   |   |--- feature_1 <= 0.73\\n|   |   |   |   |   |   |   |   |   |   |--- class: 1.0\\n|   |   |   |   |   |   |   |   |   |--- feature_1 >  0.73\\n|   |   |   |   |   |   |   |   |   |   |--- feature_1 <= 0.94\\n|   |   |   |   |   |   |   |   |   |   |   |--- truncated branch of depth 5\\n|   |   |   |   |   |   |   |   |   |   |--- feature_1 >  0.94\\n|   |   |   |   |   |   |   |   |   |   |   |--- class: 1.0\\n|   |   |   |   |--- feature_24 >  0.60\\n|   |   |   |   |   |--- feature_0 <= 0.27\\n|   |   |   |   |   |   |--- feature_9 <= 0.21\\n|   |   |   |   |   |   |   |--- feature_1 <= 0.97\\n|   |   |   |   |   |   |   |   |--- class: 1.0\\n|   |   |   |   |   |   |   |--- feature_1 >  0.97\\n|   |   |   |   |   |   |   |   |--- class: 0.0\\n|   |   |   |   |   |   |--- feature_9 >  0.21\\n|   |   |   |   |   |   |   |--- class: 1.0\\n|   |   |   |   |   |--- feature_0 >  0.27\\n|   |   |   |   |   |   |--- feature_18 <= 0.02\\n|   |   |   |   |   |   |   |--- feature_24 <= 0.80\\n|   |   |   |   |   |   |   |   |--- feature_21 <= 0.34\\n|   |   |   |   |   |   |   |   |   |--- feature_24 <= 0.78\\n|   |   |   |   |   |   |   |   |   |   |--- class: 0.0\\n|   |   |   |   |   |   |   |   |   |--- feature_24 >  0.78\\n|   |   |   |   |   |   |   |   |   |   |--- feature_8 <= 0.55\\n|   |   |   |   |   |   |   |   |   |   |   |--- class: 0.0\\n|   |   |   |   |   |   |   |   |   |   |--- feature_8 >  0.55\\n|   |   |   |   |   |   |   |   |   |   |   |--- class: 1.0\\n|   |   |   |   |   |   |   |   |--- feature_21 >  0.34\\n|   |   |   |   |   |   |   |   |   |--- class: 1.0\\n|   |   |   |   |   |   |   |--- feature_24 >  0.80\\n|   |   |   |   |   |   |   |   |--- class: 1.0\\n|   |   |   |   |   |   |--- feature_18 >  0.02\\n|   |   |   |   |   |   |   |--- feature_1 <= 0.12\\n|   |   |   |   |   |   |   |   |--- feature_21 <= 0.31\\n|   |   |   |   |   |   |   |   |   |--- feature_23 <= 0.38\\n|   |   |   |   |   |   |   |   |   |   |--- feature_8 <= 0.73\\n|   |   |   |   |   |   |   |   |   |   |   |--- truncated branch of depth 2\\n|   |   |   |   |   |   |   |   |   |   |--- feature_8 >  0.73\\n|   |   |   |   |   |   |   |   |   |   |   |--- class: 1.0\\n|   |   |   |   |   |   |   |   |   |--- feature_23 >  0.38\\n|   |   |   |   |   |   |   |   |   |   |--- class: 1.0\\n|   |   |   |   |   |   |   |   |--- feature_21 >  0.31\\n|   |   |   |   |   |   |   |   |   |--- feature_24 <= 0.71\\n|   |   |   |   |   |   |   |   |   |   |--- feature_21 <= 0.33\\n|   |   |   |   |   |   |   |   |   |   |   |--- truncated branch of depth 3\\n|   |   |   |   |   |   |   |   |   |   |--- feature_21 >  0.33\\n|   |   |   |   |   |   |   |   |   |   |   |--- class: 1.0\\n|   |   |   |   |   |   |   |   |   |--- feature_24 >  0.71\\n|   |   |   |   |   |   |   |   |   |   |--- feature_23 <= 0.38\\n|   |   |   |   |   |   |   |   |   |   |   |--- class: 0.0\\n|   |   |   |   |   |   |   |   |   |   |--- feature_23 >  0.38\\n|   |   |   |   |   |   |   |   |   |   |   |--- class: 1.0\\n|   |   |   |   |   |   |   |--- feature_1 >  0.12\\n|   |   |   |   |   |   |   |   |--- feature_24 <= 0.66\\n|   |   |   |   |   |   |   |   |   |--- feature_0 <= 0.34\\n|   |   |   |   |   |   |   |   |   |   |--- feature_0 <= 0.30\\n|   |   |   |   |   |   |   |   |   |   |   |--- truncated branch of depth 2\\n|   |   |   |   |   |   |   |   |   |   |--- feature_0 >  0.30\\n|   |   |   |   |   |   |   |   |   |   |   |--- class: 0.0\\n|   |   |   |   |   |   |   |   |   |--- feature_0 >  0.34\\n|   |   |   |   |   |   |   |   |   |   |--- class: 1.0\\n|   |   |   |   |   |   |   |   |--- feature_24 >  0.66\\n|   |   |   |   |   |   |   |   |   |--- feature_0 <= 0.49\\n|   |   |   |   |   |   |   |   |   |   |--- feature_1 <= 0.20\\n|   |   |   |   |   |   |   |   |   |   |   |--- truncated branch of depth 4\\n|   |   |   |   |   |   |   |   |   |   |--- feature_1 >  0.20\\n|   |   |   |   |   |   |   |   |   |   |   |--- truncated branch of depth 3\\n|   |   |   |   |   |   |   |   |   |--- feature_0 >  0.49\\n|   |   |   |   |   |   |   |   |   |   |--- feature_2 <= 0.04\\n|   |   |   |   |   |   |   |   |   |   |   |--- class: 0.0\\n|   |   |   |   |   |   |   |   |   |   |--- feature_2 >  0.04\\n|   |   |   |   |   |   |   |   |   |   |   |--- class: 1.0\\n|   |   |--- feature_22 >  0.50\\n|   |   |   |--- class: 0.0\\n|   |--- feature_20 >  0.83\\n|   |   |--- feature_8 <= 0.75\\n|   |   |   |--- feature_9 <= 0.79\\n|   |   |   |   |--- feature_8 <= 0.05\\n|   |   |   |   |   |--- class: 1.0\\n|   |   |   |   |--- feature_8 >  0.05\\n|   |   |   |   |   |--- feature_9 <= 0.50\\n|   |   |   |   |   |   |--- feature_1 <= 0.82\\n|   |   |   |   |   |   |   |--- feature_1 <= 0.10\\n|   |   |   |   |   |   |   |   |--- feature_22 <= 0.50\\n|   |   |   |   |   |   |   |   |   |--- class: 1.0\\n|   |   |   |   |   |   |   |   |--- feature_22 >  0.50\\n|   |   |   |   |   |   |   |   |   |--- class: 0.0\\n|   |   |   |   |   |   |   |--- feature_1 >  0.10\\n|   |   |   |   |   |   |   |   |--- feature_0 <= 0.46\\n|   |   |   |   |   |   |   |   |   |--- feature_8 <= 0.47\\n|   |   |   |   |   |   |   |   |   |   |--- class: 0.0\\n|   |   |   |   |   |   |   |   |   |--- feature_8 >  0.47\\n|   |   |   |   |   |   |   |   |   |   |--- feature_24 <= 0.47\\n|   |   |   |   |   |   |   |   |   |   |   |--- class: 0.0\\n|   |   |   |   |   |   |   |   |   |   |--- feature_24 >  0.47\\n|   |   |   |   |   |   |   |   |   |   |   |--- class: 1.0\\n|   |   |   |   |   |   |   |   |--- feature_0 >  0.46\\n|   |   |   |   |   |   |   |   |   |--- class: 1.0\\n|   |   |   |   |   |   |--- feature_1 >  0.82\\n|   |   |   |   |   |   |   |--- feature_1 <= 0.93\\n|   |   |   |   |   |   |   |   |--- class: 1.0\\n|   |   |   |   |   |   |   |--- feature_1 >  0.93\\n|   |   |   |   |   |   |   |   |--- class: 0.0\\n|   |   |   |   |   |--- feature_9 >  0.50\\n|   |   |   |   |   |   |--- feature_24 <= 0.80\\n|   |   |   |   |   |   |   |--- feature_1 <= 0.94\\n|   |   |   |   |   |   |   |   |--- feature_15 <= 0.18\\n|   |   |   |   |   |   |   |   |   |--- class: 0.0\\n|   |   |   |   |   |   |   |   |--- feature_15 >  0.18\\n|   |   |   |   |   |   |   |   |   |--- feature_24 <= 0.34\\n|   |   |   |   |   |   |   |   |   |   |--- feature_24 <= 0.33\\n|   |   |   |   |   |   |   |   |   |   |   |--- class: 0.0\\n|   |   |   |   |   |   |   |   |   |   |--- feature_24 >  0.33\\n|   |   |   |   |   |   |   |   |   |   |   |--- class: 1.0\\n|   |   |   |   |   |   |   |   |   |--- feature_24 >  0.34\\n|   |   |   |   |   |   |   |   |   |   |--- class: 0.0\\n|   |   |   |   |   |   |   |--- feature_1 >  0.94\\n|   |   |   |   |   |   |   |   |--- feature_24 <= 0.60\\n|   |   |   |   |   |   |   |   |   |--- class: 1.0\\n|   |   |   |   |   |   |   |   |--- feature_24 >  0.60\\n|   |   |   |   |   |   |   |   |   |--- class: 0.0\\n|   |   |   |   |   |   |--- feature_24 >  0.80\\n|   |   |   |   |   |   |   |--- class: 1.0\\n|   |   |   |--- feature_9 >  0.79\\n|   |   |   |   |--- feature_1 <= 0.33\\n|   |   |   |   |   |--- feature_24 <= 0.66\\n|   |   |   |   |   |   |--- feature_3 <= 0.10\\n|   |   |   |   |   |   |   |--- feature_21 <= 0.29\\n|   |   |   |   |   |   |   |   |--- feature_8 <= 0.33\\n|   |   |   |   |   |   |   |   |   |--- class: 1.0\\n|   |   |   |   |   |   |   |   |--- feature_8 >  0.33\\n|   |   |   |   |   |   |   |   |   |--- class: 0.0\\n|   |   |   |   |   |   |   |--- feature_21 >  0.29\\n|   |   |   |   |   |   |   |   |--- class: 1.0\\n|   |   |   |   |   |   |--- feature_3 >  0.10\\n|   |   |   |   |   |   |   |--- class: 0.0\\n|   |   |   |   |   |--- feature_24 >  0.66\\n|   |   |   |   |   |   |--- feature_1 <= 0.27\\n|   |   |   |   |   |   |   |--- feature_0 <= 0.31\\n|   |   |   |   |   |   |   |   |--- class: 1.0\\n|   |   |   |   |   |   |   |--- feature_0 >  0.31\\n|   |   |   |   |   |   |   |   |--- feature_16 <= 0.03\\n|   |   |   |   |   |   |   |   |   |--- feature_1 <= 0.12\\n|   |   |   |   |   |   |   |   |   |   |--- class: 0.0\\n|   |   |   |   |   |   |   |   |   |--- feature_1 >  0.12\\n|   |   |   |   |   |   |   |   |   |   |--- class: 1.0\\n|   |   |   |   |   |   |   |   |--- feature_16 >  0.03\\n|   |   |   |   |   |   |   |   |   |--- class: 0.0\\n|   |   |   |   |   |   |--- feature_1 >  0.27\\n|   |   |   |   |   |   |   |--- feature_21 <= 0.26\\n|   |   |   |   |   |   |   |   |--- class: 1.0\\n|   |   |   |   |   |   |   |--- feature_21 >  0.26\\n|   |   |   |   |   |   |   |   |--- feature_15 <= 0.05\\n|   |   |   |   |   |   |   |   |   |--- class: 1.0\\n|   |   |   |   |   |   |   |   |--- feature_15 >  0.05\\n|   |   |   |   |   |   |   |   |   |--- class: 0.0\\n|   |   |   |   |--- feature_1 >  0.33\\n|   |   |   |   |   |--- feature_24 <= 0.48\\n|   |   |   |   |   |   |--- feature_1 <= 0.54\\n|   |   |   |   |   |   |   |--- feature_1 <= 0.45\\n|   |   |   |   |   |   |   |   |--- feature_8 <= 0.10\\n|   |   |   |   |   |   |   |   |   |--- class: 1.0\\n|   |   |   |   |   |   |   |   |--- feature_8 >  0.10\\n|   |   |   |   |   |   |   |   |   |--- feature_1 <= 0.36\\n|   |   |   |   |   |   |   |   |   |   |--- class: 1.0\\n|   |   |   |   |   |   |   |   |   |--- feature_1 >  0.36\\n|   |   |   |   |   |   |   |   |   |   |--- feature_21 <= 0.35\\n|   |   |   |   |   |   |   |   |   |   |   |--- class: 0.0\\n|   |   |   |   |   |   |   |   |   |   |--- feature_21 >  0.35\\n|   |   |   |   |   |   |   |   |   |   |   |--- truncated branch of depth 3\\n|   |   |   |   |   |   |   |--- feature_1 >  0.45\\n|   |   |   |   |   |   |   |   |--- feature_0 <= 0.03\\n|   |   |   |   |   |   |   |   |   |--- class: 1.0\\n|   |   |   |   |   |   |   |   |--- feature_0 >  0.03\\n|   |   |   |   |   |   |   |   |   |--- feature_3 <= 0.07\\n|   |   |   |   |   |   |   |   |   |   |--- feature_4 <= 0.38\\n|   |   |   |   |   |   |   |   |   |   |   |--- class: 1.0\\n|   |   |   |   |   |   |   |   |   |   |--- feature_4 >  0.38\\n|   |   |   |   |   |   |   |   |   |   |   |--- class: 0.0\\n|   |   |   |   |   |   |   |   |   |--- feature_3 >  0.07\\n|   |   |   |   |   |   |   |   |   |   |--- feature_21 <= 0.29\\n|   |   |   |   |   |   |   |   |   |   |   |--- truncated branch of depth 3\\n|   |   |   |   |   |   |   |   |   |   |--- feature_21 >  0.29\\n|   |   |   |   |   |   |   |   |   |   |   |--- class: 0.0\\n|   |   |   |   |   |   |--- feature_1 >  0.54\\n|   |   |   |   |   |   |   |--- class: 1.0\\n|   |   |   |   |   |--- feature_24 >  0.48\\n|   |   |   |   |   |   |--- feature_0 <= 0.10\\n|   |   |   |   |   |   |   |--- feature_24 <= 0.50\\n|   |   |   |   |   |   |   |   |--- class: 0.0\\n|   |   |   |   |   |   |   |--- feature_24 >  0.50\\n|   |   |   |   |   |   |   |   |--- class: 1.0\\n|   |   |   |   |   |   |--- feature_0 >  0.10\\n|   |   |   |   |   |   |   |--- feature_16 <= 0.30\\n|   |   |   |   |   |   |   |   |--- feature_24 <= 0.71\\n|   |   |   |   |   |   |   |   |   |--- feature_0 <= 0.38\\n|   |   |   |   |   |   |   |   |   |   |--- feature_0 <= 0.21\\n|   |   |   |   |   |   |   |   |   |   |   |--- class: 0.0\\n|   |   |   |   |   |   |   |   |   |   |--- feature_0 >  0.21\\n|   |   |   |   |   |   |   |   |   |   |   |--- truncated branch of depth 7\\n|   |   |   |   |   |   |   |   |   |--- feature_0 >  0.38\\n|   |   |   |   |   |   |   |   |   |   |--- class: 1.0\\n|   |   |   |   |   |   |   |   |--- feature_24 >  0.71\\n|   |   |   |   |   |   |   |   |   |--- feature_24 <= 0.76\\n|   |   |   |   |   |   |   |   |   |   |--- class: 1.0\\n|   |   |   |   |   |   |   |   |   |--- feature_24 >  0.76\\n|   |   |   |   |   |   |   |   |   |   |--- class: 0.0\\n|   |   |   |   |   |   |   |--- feature_16 >  0.30\\n|   |   |   |   |   |   |   |   |--- class: 1.0\\n|   |   |--- feature_8 >  0.75\\n|   |   |   |--- feature_24 <= 0.36\\n|   |   |   |   |--- feature_0 <= 0.23\\n|   |   |   |   |   |--- feature_24 <= 0.29\\n|   |   |   |   |   |   |--- class: 1.0\\n|   |   |   |   |   |--- feature_24 >  0.29\\n|   |   |   |   |   |   |--- feature_7 <= 0.12\\n|   |   |   |   |   |   |   |--- feature_0 <= 0.16\\n|   |   |   |   |   |   |   |   |--- feature_21 <= 0.22\\n|   |   |   |   |   |   |   |   |   |--- feature_24 <= 0.34\\n|   |   |   |   |   |   |   |   |   |   |--- class: 1.0\\n|   |   |   |   |   |   |   |   |   |--- feature_24 >  0.34\\n|   |   |   |   |   |   |   |   |   |   |--- class: 0.0\\n|   |   |   |   |   |   |   |   |--- feature_21 >  0.22\\n|   |   |   |   |   |   |   |   |   |--- class: 0.0\\n|   |   |   |   |   |   |   |--- feature_0 >  0.16\\n|   |   |   |   |   |   |   |   |--- feature_24 <= 0.33\\n|   |   |   |   |   |   |   |   |   |--- feature_3 <= 0.04\\n|   |   |   |   |   |   |   |   |   |   |--- class: 0.0\\n|   |   |   |   |   |   |   |   |   |--- feature_3 >  0.04\\n|   |   |   |   |   |   |   |   |   |   |--- feature_8 <= 0.78\\n|   |   |   |   |   |   |   |   |   |   |   |--- class: 1.0\\n|   |   |   |   |   |   |   |   |   |   |--- feature_8 >  0.78\\n|   |   |   |   |   |   |   |   |   |   |   |--- class: 0.0\\n|   |   |   |   |   |   |   |   |--- feature_24 >  0.33\\n|   |   |   |   |   |   |   |   |   |--- feature_18 <= 0.12\\n|   |   |   |   |   |   |   |   |   |   |--- class: 0.0\\n|   |   |   |   |   |   |   |   |   |--- feature_18 >  0.12\\n|   |   |   |   |   |   |   |   |   |   |--- feature_24 <= 0.34\\n|   |   |   |   |   |   |   |   |   |   |   |--- class: 1.0\\n|   |   |   |   |   |   |   |   |   |   |--- feature_24 >  0.34\\n|   |   |   |   |   |   |   |   |   |   |   |--- class: 0.0\\n|   |   |   |   |   |   |--- feature_7 >  0.12\\n|   |   |   |   |   |   |   |--- feature_2 <= 0.11\\n|   |   |   |   |   |   |   |   |--- class: 1.0\\n|   |   |   |   |   |   |   |--- feature_2 >  0.11\\n|   |   |   |   |   |   |   |   |--- class: 0.0\\n|   |   |   |   |--- feature_0 >  0.23\\n|   |   |   |   |   |--- feature_8 <= 0.86\\n|   |   |   |   |   |   |--- class: 1.0\\n|   |   |   |   |   |--- feature_8 >  0.86\\n|   |   |   |   |   |   |--- class: 0.0\\n|   |   |   |--- feature_24 >  0.36\\n|   |   |   |   |--- feature_0 <= 0.50\\n|   |   |   |   |   |--- feature_9 <= 0.79\\n|   |   |   |   |   |   |--- feature_8 <= 0.77\\n|   |   |   |   |   |   |   |--- feature_19 <= 0.11\\n|   |   |   |   |   |   |   |   |--- feature_21 <= 0.14\\n|   |   |   |   |   |   |   |   |   |--- feature_21 <= 0.09\\n|   |   |   |   |   |   |   |   |   |   |--- class: 1.0\\n|   |   |   |   |   |   |   |   |   |--- feature_21 >  0.09\\n|   |   |   |   |   |   |   |   |   |   |--- class: 0.0\\n|   |   |   |   |   |   |   |   |--- feature_21 >  0.14\\n|   |   |   |   |   |   |   |   |   |--- feature_5 <= 0.17\\n|   |   |   |   |   |   |   |   |   |   |--- class: 1.0\\n|   |   |   |   |   |   |   |   |   |--- feature_5 >  0.17\\n|   |   |   |   |   |   |   |   |   |   |--- feature_21 <= 0.28\\n|   |   |   |   |   |   |   |   |   |   |   |--- class: 0.0\\n|   |   |   |   |   |   |   |   |   |   |--- feature_21 >  0.28\\n|   |   |   |   |   |   |   |   |   |   |   |--- class: 1.0\\n|   |   |   |   |   |   |   |--- feature_19 >  0.11\\n|   |   |   |   |   |   |   |   |--- feature_16 <= 0.08\\n|   |   |   |   |   |   |   |   |   |--- feature_23 <= 0.12\\n|   |   |   |   |   |   |   |   |   |   |--- feature_19 <= 0.63\\n|   |   |   |   |   |   |   |   |   |   |   |--- truncated branch of depth 10\\n|   |   |   |   |   |   |   |   |   |   |--- feature_19 >  0.63\\n|   |   |   |   |   |   |   |   |   |   |   |--- class: 0.0\\n|   |   |   |   |   |   |   |   |   |--- feature_23 >  0.12\\n|   |   |   |   |   |   |   |   |   |   |--- class: 0.0\\n|   |   |   |   |   |   |   |   |--- feature_16 >  0.08\\n|   |   |   |   |   |   |   |   |   |--- feature_2 <= 0.04\\n|   |   |   |   |   |   |   |   |   |   |--- class: 0.0\\n|   |   |   |   |   |   |   |   |   |--- feature_2 >  0.04\\n|   |   |   |   |   |   |   |   |   |   |--- class: 1.0\\n|   |   |   |   |   |   |--- feature_8 >  0.77\\n|   |   |   |   |   |   |   |--- class: 0.0\\n|   |   |   |   |   |--- feature_9 >  0.79\\n|   |   |   |   |   |   |--- feature_24 <= 0.48\\n|   |   |   |   |   |   |   |--- feature_23 <= 0.12\\n|   |   |   |   |   |   |   |   |--- feature_16 <= 0.13\\n|   |   |   |   |   |   |   |   |   |--- feature_24 <= 0.40\\n|   |   |   |   |   |   |   |   |   |   |--- class: 0.0\\n|   |   |   |   |   |   |   |   |   |--- feature_24 >  0.40\\n|   |   |   |   |   |   |   |   |   |   |--- feature_24 <= 0.47\\n|   |   |   |   |   |   |   |   |   |   |   |--- class: 1.0\\n|   |   |   |   |   |   |   |   |   |   |--- feature_24 >  0.47\\n|   |   |   |   |   |   |   |   |   |   |   |--- truncated branch of depth 2\\n|   |   |   |   |   |   |   |   |--- feature_16 >  0.13\\n|   |   |   |   |   |   |   |   |   |--- class: 0.0\\n|   |   |   |   |   |   |   |--- feature_23 >  0.12\\n|   |   |   |   |   |   |   |   |--- feature_18 <= 0.03\\n|   |   |   |   |   |   |   |   |   |--- class: 1.0\\n|   |   |   |   |   |   |   |   |--- feature_18 >  0.03\\n|   |   |   |   |   |   |   |   |   |--- class: 0.0\\n|   |   |   |   |   |   |--- feature_24 >  0.48\\n|   |   |   |   |   |   |   |--- feature_1 <= 0.91\\n|   |   |   |   |   |   |   |   |--- feature_0 <= 0.20\\n|   |   |   |   |   |   |   |   |   |--- class: 0.0\\n|   |   |   |   |   |   |   |   |--- feature_0 >  0.20\\n|   |   |   |   |   |   |   |   |   |--- feature_24 <= 0.54\\n|   |   |   |   |   |   |   |   |   |   |--- class: 1.0\\n|   |   |   |   |   |   |   |   |   |--- feature_24 >  0.54\\n|   |   |   |   |   |   |   |   |   |   |--- feature_0 <= 0.21\\n|   |   |   |   |   |   |   |   |   |   |   |--- class: 1.0\\n|   |   |   |   |   |   |   |   |   |   |--- feature_0 >  0.21\\n|   |   |   |   |   |   |   |   |   |   |   |--- truncated branch of depth 3\\n|   |   |   |   |   |   |   |--- feature_1 >  0.91\\n|   |   |   |   |   |   |   |   |--- class: 1.0\\n|   |   |   |   |--- feature_0 >  0.50\\n|   |   |   |   |   |--- feature_21 <= 0.31\\n|   |   |   |   |   |   |--- feature_7 <= 0.25\\n|   |   |   |   |   |   |   |--- class: 1.0\\n|   |   |   |   |   |   |--- feature_7 >  0.25\\n|   |   |   |   |   |   |   |--- class: 0.0\\n|   |   |   |   |   |--- feature_21 >  0.31\\n|   |   |   |   |   |   |--- feature_21 <= 0.37\\n|   |   |   |   |   |   |   |--- feature_24 <= 0.58\\n|   |   |   |   |   |   |   |   |--- feature_21 <= 0.36\\n|   |   |   |   |   |   |   |   |   |--- class: 1.0\\n|   |   |   |   |   |   |   |   |--- feature_21 >  0.36\\n|   |   |   |   |   |   |   |   |   |--- class: 0.0\\n|   |   |   |   |   |   |   |--- feature_24 >  0.58\\n|   |   |   |   |   |   |   |   |--- class: 0.0\\n|   |   |   |   |   |   |--- feature_21 >  0.37\\n|   |   |   |   |   |   |   |--- class: 1.0\\n'"
            ]
          },
          "metadata": {},
          "execution_count": 143
        }
      ]
    },
    {
      "cell_type": "markdown",
      "metadata": {
        "id": "4AN38KQZz4Bd"
      },
      "source": [
        "## 2.7 H2 decision tree classification"
      ]
    },
    {
      "cell_type": "code",
      "metadata": {
        "colab": {
          "base_uri": "https://localhost:8080/"
        },
        "id": "jHRGVJcFohIR",
        "outputId": "01ef0731-a8e3-455b-cdd0-f24b0125bee1"
      },
      "source": [
        "# Step 1: Declare variable with model Object\n",
        "rf = RandomForestClassifier()\n",
        "# Step 2: Fit the train data in the model\n",
        "rf.fit(X_train, y_train)\n",
        "# Step 3: Make a prediction using the trained model \n",
        "rf_pred = rf.predict(X_test)\n",
        "\n",
        "print(np.sqrt(mean_squared_error(y_test, rf_pred)))\n",
        "print(confusion_matrix(y_test, rf_pred))\n",
        "print(classification_report(y_test, rf_pred))\n"
      ],
      "execution_count": null,
      "outputs": [
        {
          "output_type": "stream",
          "name": "stdout",
          "text": [
            "0.15498382053366033\n",
            "[[1080   69]\n",
            " [  56 3999]]\n",
            "              precision    recall  f1-score   support\n",
            "\n",
            "         0.0       0.95      0.94      0.95      1149\n",
            "         1.0       0.98      0.99      0.98      4055\n",
            "\n",
            "    accuracy                           0.98      5204\n",
            "   macro avg       0.97      0.96      0.96      5204\n",
            "weighted avg       0.98      0.98      0.98      5204\n",
            "\n"
          ]
        }
      ]
    }
  ]
}